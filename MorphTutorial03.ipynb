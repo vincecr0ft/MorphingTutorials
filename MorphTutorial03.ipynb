{
 "cells": [
  {
   "cell_type": "markdown",
   "metadata": {},
   "source": [
    "# Lesson 3: Customized Physics Processes\n",
    "\n",
    "In this lesson, you will learn how to setup and configure the morphing for use with your own physics process. \n",
    "\n",
    "![anything you like!](https://media.giphy.com/media/B5pUPWy5c5KMM/giphy.gif \"morph that\")\n",
    "\n",
    "For the time being, we are still using the same scenario as in the previous lesson, but this time, we will not use the pre-made RooHCvbfWWMorphFunc! However, we will focus on processes with only two vertices for now, one of which we will label as the \"production vertex\", the other as the \"decay vertex\". \n",
    "\n",
    "Expanding the number of morphing parameters"
   ]
  },
  {
   "cell_type": "markdown",
   "metadata": {},
   "source": [
    "## Setup files and samples\n",
    "\n",
    "These are set up as before. The identifier is just a hook to specify the name in the file structure."
   ]
  },
  {
   "cell_type": "code",
   "execution_count": 1,
   "metadata": {},
   "outputs": [
    {
     "name": "stdout",
     "output_type": "stream",
     "text": [
      "\n",
      "\u001b[1mRooFit v3.60 -- Developed by Wouter Verkerke and David Kirkby\u001b[0m \n",
      "                Copyright (C) 2000-2013 NIKHEF, University of California & Stanford University\n",
      "                All rights reserved, please read http://roofit.sourceforge.net/license.txt\n",
      "\n"
     ]
    }
   ],
   "source": [
    "gSystem->Load(\"libRooLagrangianMorphing\");"
   ]
  },
  {
   "cell_type": "code",
   "execution_count": 2,
   "metadata": {},
   "outputs": [
    {
     "name": "stdout",
     "output_type": "stream",
     "text": [
      "File ‘vbfhwwlvlv_3d.root’ already there; not retrieving.\n",
      "\n"
     ]
    }
   ],
   "source": [
    "!wget https://www.nikhef.nl/~cburgard/downloads/RooLagrangianMorphingTutorial/inputs/vbfhwwlvlv_3d.root -nc"
   ]
  },
  {
   "cell_type": "code",
   "execution_count": 3,
   "metadata": {},
   "outputs": [],
   "source": [
    "std::string identifier(\"vbfWW\"); // avaliable: ggfWW, vbfWW, vbfZZ, ggfZZ, vbfMuMu\n",
    "std::string infilename(\"vbfhwwlvlv_3d.root\"); // give the input file name here\n",
    "std::string observable(\"twoSelJets/dphijj\"); // name of the observable to be used (histogram name)"
   ]
  },
  {
   "cell_type": "markdown",
   "metadata": {},
   "source": [
    "Once again all 15 VBF parameters are considered."
   ]
  },
  {
   "cell_type": "code",
   "execution_count": 4,
   "metadata": {},
   "outputs": [],
   "source": [
    "std::vector<std::string> samplelist = {\"kAwwkHwwkSM0\",\"kAwwkHwwkSM1\",\"kAwwkHwwkSM10\",\"kAwwkHwwkSM11\",\"kAwwkHwwkSM12\",\"kAwwkHwwkSM13\",\"kAwwkHwwkSM2\",\"kAwwkHwwkSM3\",\"kAwwkHwwkSM4\",\"kAwwkHwwkSM5\",\"kAwwkHwwkSM6\",\"kAwwkHwwkSM7\",\"kAwwkHwwkSM8\",\"kAwwkHwwkSM9\",\"kSM0\"};\n",
    "// these are the validation samples: \"v0\",\"v1\",\"v2\",\"v3\",\"v4\",\"v5\",\"v6\",\"v7\",\"v8\",\"v9\""
   ]
  },
  {
   "cell_type": "markdown",
   "metadata": {},
   "source": [
    "push all the input samples in a RooArgList"
   ]
  },
  {
   "cell_type": "code",
   "execution_count": 5,
   "metadata": {},
   "outputs": [],
   "source": [
    "RooArgList inputs;\n",
    "for(auto const& sample: samplelist) {\n",
    "    RooStringVar* v = new RooStringVar(sample.c_str(),sample.c_str(),sample.c_str());\n",
    "    inputs.add(*v);\n",
    "}"
   ]
  },
  {
   "cell_type": "markdown",
   "metadata": {},
   "source": [
    "## setup morphing function by hand"
   ]
  },
  {
   "cell_type": "markdown",
   "metadata": {},
   "source": [
    "The [RooLagrangianMorphing](https://gitlab.cern.ch/cburgard/RooLagrangianMorphing/tree/master) class provides a constructor to which you can pass two instances of RooArgSet that contains the couplings appearing in the individual vertices. In principle, these couplings can be any RooFit class that represents an (either dependant or independent) real number.\n",
    "\n",
    "In order to be compliant with the [Higgs Characterization model](https://arxiv.org/abs/1306.6464), which we will be using throughout this tutorial, we will create these couplings as functions of the input parameters of the model, but this is not a restriction of the implementation - rather a choice to be made depending on the model you are using. "
   ]
  },
  {
   "cell_type": "markdown",
   "metadata": {},
   "source": [
    "* Decide which input parameters you need and create an instances of RooRealVar for each of them. In the case at hand, you will need \"Lambda\" and \"cosa\" (which will be constant and set to the values of Lambda=1000 and cosa=1./sqrt(2) respectively) as well as kSM, kHww and kAww.\n",
    "* Create the couplings as instances of RooFormulaVar as dependants of your input parameters. For this example of CP measurements of VBF HWW, the following list might help:\n",
    "\n",
    "  * gSM: $\\cos\\alpha\\cdot\\kappa_\\mathrm{SM}$\n",
    "  * gHww: $\\cos\\alpha\\cdot\\kappa_{Hww}/\\Lambda$\n",
    "  * gAww: $\\sqrt{1-(\\cos\\alpha)^2}\\cdot\\kappa_{Aww}/\\Lambda$ \n",
    "\n",
    "* Create two RooArgSets, one for each vertex.\n",
    "* Add the couplings to each vertex at which they appear.\n",
    "* Call a constructor of RooLagrangianMorphFunc, passing over the two lists that you have created:\n",
    "\n",
    "    ```ROOT.RooLagrangianMorphFunc(name,title,infilename,observable,prodCouplings,decCouplings,inputs)```"
   ]
  },
  {
   "cell_type": "code",
   "execution_count": 6,
   "metadata": {},
   "outputs": [],
   "source": [
    "RooRealVar* cosa   = new RooRealVar(\"cosa\",\"cosa\",1./sqrt(2));\n",
    "RooRealVar* lambda = new RooRealVar(\"Lambda\",\"Lambda\",1000.);\n",
    "RooRealVar* kSM    = new RooRealVar(\"kSM\",\"kSM\",1.,0.,2.);\n",
    "RooRealVar* kHww   = new RooRealVar(\"kHww\",\"kHww\",0.,-20.,20.);\n",
    "RooRealVar* kAww   = new RooRealVar(\"kAww\",\"kAww\",0.,-20.,20.);"
   ]
  },
  {
   "cell_type": "markdown",
   "metadata": {},
   "source": [
    "let's check that this is the same as the diagram before proceeding:<img src=\"images/VBFHWW-EFT.png\" alt=\"wiggle it some more!\" style=\"width: 600px;\"/>\n",
    "\n",
    "If it works then let's define the couplings at each vertex"
   ]
  },
  {
   "cell_type": "code",
   "execution_count": 7,
   "metadata": {},
   "outputs": [
    {
     "name": "stdout",
     "output_type": "stream",
     "text": [
      "(RooArgSet &) Name: hww Title: Set of RooAbsArg objects\n"
     ]
    }
   ],
   "source": [
    "RooArgSet prodCouplings(\"vbf\");\n",
    "RooArgSet decCouplings(\"hww\")"
   ]
  },
  {
   "cell_type": "markdown",
   "metadata": {},
   "source": [
    "here `vbf` and `hww` are just names. We must add the parameters by hand."
   ]
  },
  {
   "cell_type": "code",
   "execution_count": 8,
   "metadata": {},
   "outputs": [],
   "source": [
    "prodCouplings.add(*(new RooFormulaVar(\"_gSM\"  ,\"cosa*kSM\",                        RooArgList(*cosa,*kSM))));\n",
    "prodCouplings.add(*(new RooFormulaVar(\"_gHww\" ,\"cosa*kHww/Lambda\",                RooArgList(*cosa,*kHww,*lambda))));\n",
    "prodCouplings.add(*(new RooFormulaVar(\"_gAww\" ,\"sqrt(1-(cosa*cosa))*kAww/Lambda\", RooArgList(*cosa,*kAww,*lambda))));\n",
    "decCouplings.add (*(new RooFormulaVar(\"_gSM\"  ,\"cosa*kSM\",                        RooArgList(*cosa,*kSM))));\n",
    "decCouplings.add (*(new RooFormulaVar(\"_gHww\" ,\"cosa*kHww/Lambda\",                RooArgList(*cosa,*kHww,*lambda))));\n",
    "decCouplings.add (*(new RooFormulaVar(\"_gAww\" ,\"sqrt(1-(cosa*cosa))*kAww/Lambda\", RooArgList(*cosa,*kAww,*lambda))));"
   ]
  },
  {
   "cell_type": "markdown",
   "metadata": {},
   "source": [
    "Then we make the morphing function. This time without a box!\n",
    "![morph](https://media.giphy.com/media/uPCq54xGTA8ve/giphy.gif \"what's in the box\")"
   ]
  },
  {
   "cell_type": "code",
   "execution_count": 9,
   "metadata": {},
   "outputs": [
    {
     "name": "stdout",
     "output_type": "stream",
     "text": [
      "\u001b[1mRooLagrangianMorphBase\u001b[0m: a RooFit class for morphing physics distributions between configurations. authors:\n",
      "   Lydia Brenner   (lbrenner@cern.ch)\n",
      "   Carsten Burgard (cburgard@cern.ch)\n",
      "   Katharina Ecker (kecker@cern.ch)\n",
      "   Adam Kaluza     (akaluza@cern.ch)\n",
      "please feel free to contact with questions and suggestions.\n"
     ]
    }
   ],
   "source": [
    "RooLagrangianMorphFunc * morphfunc = new RooLagrangianMorphFunc(\"morphfunc\",\"morphfunc\",infilename.c_str(),observable.c_str(),prodCouplings,decCouplings,inputs);"
   ]
  },
  {
   "cell_type": "markdown",
   "metadata": {},
   "source": [
    "morph to the validation sample v1"
   ]
  },
  {
   "cell_type": "code",
   "execution_count": 10,
   "metadata": {},
   "outputs": [],
   "source": [
    "std::string validationsample(\"v1\");\n",
    "morphfunc->setParameters(validationsample.c_str());\n",
    "TH1* morphing = morphfunc->createTH1(\"morphing\");"
   ]
  },
  {
   "cell_type": "markdown",
   "metadata": {},
   "source": [
    "## Read The Validation Histogram\n",
    "\n",
    "We now retrieve the corresponding histogram of the validation sample from the same input file. "
   ]
  },
  {
   "cell_type": "code",
   "execution_count": 11,
   "metadata": {},
   "outputs": [],
   "source": [
    "TFile* file = TFile::Open(infilename.c_str(),\"READ\");\n",
    "TFolder* folder = 0;\n",
    "file->GetObject(validationsample.c_str(),folder);\n",
    "TH1* validation = dynamic_cast<TH1*>(folder->FindObject(observable.c_str()));\n",
    "validation->SetDirectory(NULL);\n",
    "validation->SetTitle(validationsample.c_str());\n",
    "file->Close();"
   ]
  },
  {
   "cell_type": "markdown",
   "metadata": {},
   "source": [
    "## Print the pretty plots!\n",
    "we use the canvas created above and add legend in order to plot both histograms - the one obtained from the validation sample and the morphing prediction for the same parameter set - for comparison.\n",
    "\n",
    "Here I use the rootnotes macro to provide inline plots. On newer releases this isn't necesarry, but then the Function isn't available... \n",
    "\n",
    "Here I use the rootnotes macro to provide inline plots on newer releases this isn't necesarry."
   ]
  },
  {
   "cell_type": "code",
   "execution_count": 12,
   "metadata": {},
   "outputs": [
    {
     "data": {
      "image/png": "[encoded data removed]",
      "text/plain": [
       "<IPython.core.display.Image object>"
      ]
     },
     "metadata": {},
     "output_type": "display_data"
    }
   ],
   "source": [
    "TCanvas* plot = new TCanvas(\"plot\");\n",
    "plot->cd();\n",
    "gStyle->SetOptStat(0);\n",
    "gStyle->SetOptTitle(0);\n",
    "morphing->GetXaxis()->SetTitle(observable.c_str());\n",
    "morphing->SetLineColor(kRed);\n",
    "morphing->SetFillColor(kRed);\n",
    "morphing->Draw(\"E3\");\n",
    "validation->Draw(\"SAME\");\n",
    "TLegend* leg = new TLegend(0.7,0.7,0.9,0.9);\n",
    "leg->AddEntry(morphing);\n",
    "leg->AddEntry(validation);\n",
    "leg->Draw();\n",
    "plot->Draw();"
   ]
  },
  {
   "cell_type": "markdown",
   "metadata": {},
   "source": [
    "![prettyfull](https://media.giphy.com/media/it6W8D4FfvaPC/giphy.gif \"So pretty, very wow\")"
   ]
  },
  {
   "cell_type": "markdown",
   "metadata": {},
   "source": [
    "## Playground\n",
    "* As you have now seen, the model includes additional parameters Lambda and cosa that we have not been using so far. What happens when you change their values? How does the resulting distribution change? Are the results still physical? Why should they (not)?\n",
    "* Have a look at the header file of the RooLagrangianMorphFunc (which is located in here /afs/cern.ch/user/c/cburgard/public/RooEFTMorphFuncTutorial20160422/RooEFTMorphFunc/default/inc/RooStats/RooEFTMorphFunc.h) and search for the implementations of the pre-made classes you have been using earlier. Does this look any different from what you did? "
   ]
  }
 ],
 "metadata": {
  "kernelspec": {
   "display_name": "ROOT C++",
   "language": "c++",
   "name": "root"
  },
  "language_info": {
   "codemirror_mode": "text/x-c++src",
   "file_extension": ".C",
   "mimetype": " text/x-c++src",
   "name": "c++"
  }
 },
 "nbformat": 4,
 "nbformat_minor": 1
}
