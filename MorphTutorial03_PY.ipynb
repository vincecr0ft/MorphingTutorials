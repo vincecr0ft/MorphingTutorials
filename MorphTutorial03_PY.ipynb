{
 "cells": [
  {
   "cell_type": "markdown",
   "metadata": {},
   "source": [
    "# Lesson 3: Customized Physics Processes\n",
    "\n",
    "In this lesson, you will learn how to setup and configure the morphing for use with your own physics process. \n",
    "\n",
    "![anything you like!](https://media.giphy.com/media/B5pUPWy5c5KMM/giphy.gif \"morph that\")\n",
    "\n",
    "For the time being, we are still using the same scenario as in the previous lesson, but this time, we will not use the pre-made RooEFTvbfWWMorphFunc! However, we will focus on processes with only two vertices for now, one of which we will label as the \"production vertex\", the other as the \"decay vertex\". \n",
    "\n",
    "Expanding the number of morphing parameters"
   ]
  },
  {
   "cell_type": "markdown",
   "metadata": {},
   "source": [
    "## Setup files and samples\n",
    "\n",
    "These are set up as before. The identifier is just a hook to specify the name in the file structure."
   ]
  },
  {
   "cell_type": "code",
   "execution_count": 1,
   "metadata": {},
   "outputs": [
    {
     "name": "stdout",
     "output_type": "stream",
     "text": [
      "Welcome to JupyROOT 6.14/04\n"
     ]
    }
   ],
   "source": [
    "from ROOT import gSystem\n",
    "gSystem.Load(\"libRooFit\")\n",
    "gSystem.Load(\"libRooLagrangianMorphing.so\")\n",
    "%jsroot on\n",
    "import ROOT"
   ]
  },
  {
   "cell_type": "code",
   "execution_count": 2,
   "metadata": {},
   "outputs": [
    {
     "name": "stdout",
     "output_type": "stream",
     "text": [
      "File ‘vbfhwwlvlv_3d.root’ already there; not retrieving.\r\n",
      "\r\n"
     ]
    }
   ],
   "source": [
    "!wget https://www.nikhef.nl/~cburgard/downloads/RooLagrangianMorphingTutorial/inputs/vbfhwwlvlv_3d.root -nc"
   ]
  },
  {
   "cell_type": "code",
   "execution_count": 3,
   "metadata": {},
   "outputs": [],
   "source": [
    "identifier = \"vbfWW\" # avaliable: ggfWW, vbfWW, vbfZZ, ggfZZ, vbfMuMu \n",
    "infilename = \"vbfhwwlvlv_3d.root\" # give the input file name here\n",
    "observable = \"twoSelJets/dphijj\" # name of the observable to be used (histogram name)"
   ]
  },
  {
   "cell_type": "markdown",
   "metadata": {},
   "source": [
    "Once again all 15 VBF parameters are considered."
   ]
  },
  {
   "cell_type": "code",
   "execution_count": 4,
   "metadata": {},
   "outputs": [],
   "source": [
    "samplelist = [\"kAwwkHwwkSM0\",\"kAwwkHwwkSM1\",\"kAwwkHwwkSM10\",\"\",\"kAwwkHwwkSM11\",\"kAwwkHwwkSM12\",\"kAwwkHwwkSM13\",\"kAwwkHwwkSM2\",\"kAwwkHwwkSM3\",\"kAwwkHwwkSM4\",\"kAwwkHwwkSM5\",\"kAwwkHwwkSM6\",\"kAwwkHwwkSM7\",\"kAwwkHwwkSM8\",\"kAwwkHwwkSM9\",\"kSM0\"]\n",
    "# these are the validation samples: \"v0\",\"v1\",\"v2\",\"v3\",\"v4\",\"v5\",\"v6\",\"v7\",\"v8\",\"v9\""
   ]
  },
  {
   "cell_type": "markdown",
   "metadata": {},
   "source": [
    "push all the input samples in a RooArgList"
   ]
  },
  {
   "cell_type": "code",
   "execution_count": 5,
   "metadata": {},
   "outputs": [],
   "source": [
    "inputs = ROOT.RooArgList()"
   ]
  },
  {
   "cell_type": "markdown",
   "metadata": {},
   "source": [
    "we need the additional list \"inputnames\" to prevent the python garbage collector from deleting the RooStringVars"
   ]
  },
  {
   "cell_type": "code",
   "execution_count": 6,
   "metadata": {},
   "outputs": [],
   "source": [
    "inputnames = []\n",
    "for sample in samplelist:\n",
    "    v = ROOT.RooStringVar(sample,sample,sample)\n",
    "    inputnames.append(v)\n",
    "    inputs.add(v)"
   ]
  },
  {
   "cell_type": "markdown",
   "metadata": {},
   "source": [
    "## setup morphing function by hand"
   ]
  },
  {
   "cell_type": "markdown",
   "metadata": {},
   "source": [
    "The [RooLagrangianMorphFunc](https://twiki.cern.ch/twiki/bin/view/AtlasProtected/RooEFTMorphFunc) class provides a constructor to which you can pass two instances of RooArgSet that contains the couplings appearing in the individual vertices. In principle, these couplings can be any RooFit class that represents an (either dependant or independent) real number.\n",
    "\n",
    "In order to be compliant with the [Higgs Characterization model](https://arxiv.org/abs/1306.6464), which we will be using throughout this tutorial, we will create these couplings as functions of the input parameters of the model, but this is not a restriction of the implementation - rather a choice to be made depending on the model you are using. "
   ]
  },
  {
   "cell_type": "markdown",
   "metadata": {},
   "source": [
    "* Decide which input parameters you need and create an instances of RooRealVar for each of them. In the case at hand, you will need \"Lambda\" and \"cosa\" (which will be constant and set to the values of Lambda=1000 and cosa=1./sqrt(2) respectively) as well as kSM, kHww and kAww.\n",
    "* Create the couplings as instances of RooFormulaVar as dependants of your input parameters. For this example of CP measurements of VBF HWW, the following list might help:\n",
    "\n",
    "  * gSM: $\\cos\\alpha\\cdot\\kappa_\\mathrm{SM}$\n",
    "  * gHww: $\\cos\\alpha\\cdot\\kappa_{Hww}/\\Lambda$\n",
    "  * gAww: $\\sqrt{1-(\\cos\\alpha)^2}\\cdot\\kappa_{Aww}/\\Lambda$ \n",
    "\n",
    "* Create two RooArgSets, one for each vertex.\n",
    "* Add the couplings to each vertex at which they appear.\n",
    "* Call a constructor of RooLagrangianMorphFunc, passing over the two lists that you have created:\n",
    "\n",
    "    ```ROOT.RooLagrangianMorphFunc(name,title,infilename,observable,prodCouplings,decCouplings,inputs)```"
   ]
  },
  {
   "cell_type": "code",
   "execution_count": 7,
   "metadata": {},
   "outputs": [],
   "source": [
    "from math import sqrt\n",
    "cosa   = ROOT.RooRealVar(\"cosa\",\"cosa\",1./sqrt(2))\n",
    "Lambda = ROOT.RooRealVar(\"Lambda\",\"Lambda\",1000.)\n",
    "kSM    = ROOT.RooRealVar(\"kSM\",\"kSM\",1.,0.,2.)\n",
    "kHww   = ROOT.RooRealVar(\"kHww\",\"kHww\",0.,-20.,20.)\n",
    "kAww   = ROOT.RooRealVar(\"kAww\",\"kAww\",0.,-20.,20.)\n",
    "\n",
    "gSM  = ROOT.RooFormulaVar(\"_gSM\"  ,\"cosa*kSM\",                        ROOT.RooArgList(cosa,kSM))\n",
    "gHww = ROOT.RooFormulaVar(\"_gHww\" ,\"cosa*kHww/Lambda\",                ROOT.RooArgList(cosa,kHww,Lambda))\n",
    "gAww = ROOT.RooFormulaVar(\"_gAww\" ,\"sqrt(1-(cosa*cosa))*kAww/Lambda\", ROOT.RooArgList(cosa,kAww,Lambda))"
   ]
  },
  {
   "cell_type": "markdown",
   "metadata": {},
   "source": [
    "let's check that this is the same as the diagram before proceeding:<img src=\"images/VBFHWW-EFT.png\" alt=\"wiggle it some more!\" style=\"width: 600px;\"/>\n",
    "\n",
    "If it works then let's define the couplings at each vertex"
   ]
  },
  {
   "cell_type": "code",
   "execution_count": 8,
   "metadata": {},
   "outputs": [],
   "source": [
    "prodCouplings = ROOT.RooArgSet(\"vbf\")\n",
    "decCouplings = ROOT.RooArgSet(\"hww\")"
   ]
  },
  {
   "cell_type": "markdown",
   "metadata": {},
   "source": [
    "here `vbf` and `hww` are just names. We must add the parameters by hand."
   ]
  },
  {
   "cell_type": "code",
   "execution_count": 9,
   "metadata": {},
   "outputs": [
    {
     "data": {
      "text/plain": [
       "True"
      ]
     },
     "execution_count": 9,
     "metadata": {},
     "output_type": "execute_result"
    }
   ],
   "source": [
    "prodCouplings.add(gSM)\n",
    "prodCouplings.add(gHww)\n",
    "prodCouplings.add(gAww)\n",
    "decCouplings.add (gSM)\n",
    "decCouplings.add (gHww)\n",
    "decCouplings.add (gAww)"
   ]
  },
  {
   "cell_type": "markdown",
   "metadata": {},
   "source": [
    "Then we make the morphing function. This time without a box!\n",
    "![morph](https://media.giphy.com/media/uPCq54xGTA8ve/giphy.gif \"what's in the box\")"
   ]
  },
  {
   "cell_type": "code",
   "execution_count": 10,
   "metadata": {},
   "outputs": [
    {
     "name": "stdout",
     "output_type": "stream",
     "text": [
      "\u001b[1mRooLagrangianMorphBase\u001b[0m: a RooFit class for morphing physics distributions between configurations. authors:\n",
      "   Lydia Brenner   (lbrenner@cern.ch)\n",
      "   Carsten Burgard (cburgard@cern.ch)\n",
      "   Katharina Ecker (kecker@cern.ch)\n",
      "   Adam Kaluza     (akaluza@cern.ch)\n",
      "please feel free to contact with questions and suggestions.\n"
     ]
    }
   ],
   "source": [
    "morphfunc = ROOT.RooLagrangianMorphFunc(\"morphfunc\",\"morphfunc\",infilename,observable,prodCouplings,decCouplings,inputs)"
   ]
  },
  {
   "cell_type": "markdown",
   "metadata": {},
   "source": [
    "morph to the validation sample v1"
   ]
  },
  {
   "cell_type": "code",
   "execution_count": 11,
   "metadata": {},
   "outputs": [],
   "source": [
    "validationsample = \"v1\"\n",
    "morphfunc.setParameters(validationsample)\n",
    "morphing = morphfunc.createTH1(\"morphing\")"
   ]
  },
  {
   "cell_type": "markdown",
   "metadata": {},
   "source": [
    "## Read The Validation Histogram\n",
    "\n",
    "We now retrieve the corresponding histogram of the validation sample from the same input file. "
   ]
  },
  {
   "cell_type": "code",
   "execution_count": 12,
   "metadata": {},
   "outputs": [],
   "source": [
    "tfile = ROOT.TFile.Open(infilename,\"READ\")\n",
    "folder = tfile.Get(validationsample)\n",
    "validation = folder.FindObject(observable)\n",
    "validation.SetDirectory(0)\n",
    "validation.SetTitle(validationsample)\n",
    "tfile.Close()"
   ]
  },
  {
   "cell_type": "markdown",
   "metadata": {},
   "source": [
    "## Print the pretty plots!\n",
    "we use the canvas created above and add legend in order to plot both histograms - the one obtained from the validation sample and the morphing prediction for the same parameter set - for comparison.\n",
    "\n",
    "Here I use the rootnotes macro to provide inline plots. On newer releases this isn't necesarry, but then the Function isn't available... \n",
    "\n",
    "Here I use the rootnotes macro to provide inline plots on newer releases this isn't necesarry."
   ]
  },
  {
   "cell_type": "code",
   "execution_count": 13,
   "metadata": {},
   "outputs": [
    {
     "data": {
      "text/html": [
       "\n",
       "<div id=\"root_plot_1\"\n",
       "     style=\"width: 696px; height: 472px\">\n",
       "</div>\n",
       "\n",
       "<script>\n",
       " requirejs.config({\n",
       "     paths: {\n",
       "       'JSRootCore' : 'https://root.cern.ch/js/notebook//scripts/JSRootCore',\n",
       "     }\n",
       "   });\n",
       " require(['JSRootCore'],\n",
       "     function(Core) {\n",
       "       var obj = Core.JSONR_unref({\"_typename\":\"TCanvas\",\"fUniqueID\":0,\"fBits\":53673992,\"fLineColor\":1,\"fLineStyle\":1,\"fLineWidth\":1,\"fFillColor\":0,\"fFillStyle\":1001,\"fLeftMargin\":0.1,\"fRightMargin\":0.1,\"fBottomMargin\":0.1,\"fTopMargin\":0.1,\"fXfile\":2,\"fYfile\":2,\"fAfile\":1,\"fXstat\":0.99,\"fYstat\":0.99,\"fAstat\":2,\"fFrameFillColor\":0,\"fFrameLineColor\":1,\"fFrameFillStyle\":1001,\"fFrameLineStyle\":1,\"fFrameLineWidth\":1,\"fFrameBorderSize\":1,\"fFrameBorderMode\":0,\"fX1\":-0.392687529257501,\"fY1\":31.8232250984618,\"fX2\":3.5341875292575,\"fY2\":204.395731984906,\"fXtoAbsPixelk\":69.6000541484835,\"fXtoPixelk\":69.6000541484835,\"fXtoPixel\":177.240169251324,\"fYtoAbsPixelk\":559.039188026532,\"fYtoPixelk\":559.039188026532,\"fYtoPixel\":-2.73508224754818,\"fUtoAbsPixelk\":5e-5,\"fUtoPixelk\":5e-5,\"fUtoPixel\":696,\"fVtoAbsPixelk\":472.00005,\"fVtoPixelk\":472,\"fVtoPixel\":-472,\"fAbsPixeltoXk\":-0.392687529257501,\"fPixeltoXk\":-0.392687529257501,\"fPixeltoX\":0.00564206186568247,\"fAbsPixeltoYk\":204.395731984906,\"fPixeltoYk\":31.8232250984618,\"fPixeltoY\":-0.365619717979755,\"fXlowNDC\":0,\"fYlowNDC\":0,\"fXUpNDC\":0,\"fYUpNDC\":0,\"fWNDC\":1,\"fHNDC\":1,\"fAbsXlowNDC\":0,\"fAbsYlowNDC\":0,\"fAbsWNDC\":1,\"fAbsHNDC\":1,\"fUxmin\":0,\"fUymin\":49.0804768157186,\"fUxmax\":3.1415,\"fUymax\":187.13848026765,\"fTheta\":30,\"fPhi\":30,\"fAspectRatio\":0,\"fNumber\":0,\"fTickx\":0,\"fTicky\":0,\"fLogx\":0,\"fLogy\":0,\"fLogz\":0,\"fPadPaint\":0,\"fCrosshair\":0,\"fCrosshairPos\":0,\"fBorderSize\":2,\"fBorderMode\":0,\"fModified\":false,\"fGridx\":false,\"fGridy\":false,\"fAbsCoord\":false,\"fEditable\":true,\"fFixedAspectRatio\":false,\"fPrimitives\":{\"_typename\":\"TList\",\"name\":\"TList\",\"arr\":[{\"_typename\":\"TFrame\",\"fUniqueID\":0,\"fBits\":50331656,\"fLineColor\":1,\"fLineStyle\":1,\"fLineWidth\":1,\"fFillColor\":0,\"fFillStyle\":1001,\"fX1\":0,\"fY1\":49.0804768157186,\"fX2\":3.1415,\"fY2\":187.13848026765,\"fBorderSize\":1,\"fBorderMode\":0},{\"_typename\":\"TH1F\",\"fUniqueID\":0,\"fBits\":50331656,\"fName\":\"morphing\",\"fTitle\":\"morphing\",\"fLineColor\":2,\"fLineStyle\":1,\"fLineWidth\":1,\"fFillColor\":2,\"fFillStyle\":1001,\"fMarkerColor\":1,\"fMarkerStyle\":1,\"fMarkerSize\":1,\"fNcells\":23,\"fXaxis\":{\"_typename\":\"TAxis\",\"fUniqueID\":0,\"fBits\":50331656,\"fName\":\"xaxis\",\"fTitle\":\"twoSelJets\\/dphijj\",\"fNdivisions\":510,\"fAxisColor\":1,\"fLabelColor\":1,\"fLabelFont\":42,\"fLabelOffset\":0.005,\"fLabelSize\":0.035,\"fTickLength\":0.03,\"fTitleOffset\":1,\"fTitleSize\":0.035,\"fTitleColor\":1,\"fTitleFont\":42,\"fNbins\":21,\"fXmin\":0,\"fXmax\":3.1415,\"fXbins\":[0,0.149595238095238,0.299190476190476,0.448785714285714,0.598380952380952,0.747976190476191,0.897571428571429,1.04716666666667,1.1967619047619,1.34635714285714,1.49595238095238,1.64554761904762,1.79514285714286,1.9447380952381,2.09433333333333,2.24392857142857,2.39352380952381,2.54311904761905,2.69271428571429,2.84230952380952,2.99190476190476,3.1415],\"fFirst\":0,\"fLast\":0,\"fBits2\":0,\"fTimeDisplay\":false,\"fTimeFormat\":\"\",\"fLabels\":null,\"fModLabs\":null},\"fYaxis\":{\"_typename\":\"TAxis\",\"fUniqueID\":0,\"fBits\":50331648,\"fName\":\"yaxis\",\"fTitle\":\"\",\"fNdivisions\":510,\"fAxisColor\":1,\"fLabelColor\":1,\"fLabelFont\":42,\"fLabelOffset\":0.005,\"fLabelSize\":0.035,\"fTickLength\":0.03,\"fTitleOffset\":0,\"fTitleSize\":0.035,\"fTitleColor\":1,\"fTitleFont\":42,\"fNbins\":1,\"fXmin\":0,\"fXmax\":1,\"fXbins\":[],\"fFirst\":0,\"fLast\":0,\"fBits2\":0,\"fTimeDisplay\":false,\"fTimeFormat\":\"\",\"fLabels\":null,\"fModLabs\":null},\"fZaxis\":{\"_typename\":\"TAxis\",\"fUniqueID\":0,\"fBits\":50331648,\"fName\":\"zaxis\",\"fTitle\":\"\",\"fNdivisions\":510,\"fAxisColor\":1,\"fLabelColor\":1,\"fLabelFont\":42,\"fLabelOffset\":0.005,\"fLabelSize\":0.035,\"fTickLength\":0.03,\"fTitleOffset\":1,\"fTitleSize\":0.035,\"fTitleColor\":1,\"fTitleFont\":42,\"fNbins\":1,\"fXmin\":0,\"fXmax\":1,\"fXbins\":[],\"fFirst\":0,\"fLast\":0,\"fBits2\":0,\"fTimeDisplay\":false,\"fTimeFormat\":\"\",\"fLabels\":null,\"fModLabs\":null},\"fBarOffset\":0,\"fBarWidth\":1000,\"fEntries\":21,\"fTsumw\":0,\"fTsumw2\":0,\"fTsumwx\":0,\"fTsumwx2\":0,\"fMaximum\":-1111,\"fMinimum\":-1111,\"fNormFactor\":0,\"fContour\":[],\"fSumw2\":[0,143.762531454217,129.423162561652,116.908785143241,109.36799453778,94.437679399738,83.8702065062234,73.4603307978883,69.1060722167708,62.6173137539765,61.5399262186951,58.0629292495749,56.2775624468852,56.6101869089272,57.7308026228407,60.0561404866494,64.5732608601945,68.9137765474921,79.1122427964754,88.3704196516688,95.8227829028583,105.121446321082,0],\"fOption\":\"\",\"fFunctions\":{\"_typename\":\"TList\",\"name\":\"TList\",\"arr\":[],\"opt\":[]},\"fBufferSize\":0,\"fBuffer\":[],\"fBinStatErrOpt\":0,\"fStatOverflows\":2,\"fArray\":[0,168.5742,151.4872,132.023,125.9815,107.1936,96.67002,81.80391,76.68905,70.43804,69.59406,67.38564,63.10291,63.52004,62.93969,66.87653,72.35032,78.79486,92.81443,100.2845,109.3281,121.2066,0]},{\"_typename\":\"TH1F\",\"fUniqueID\":0,\"fBits\":50331656,\"fName\":\"dphijj\",\"fTitle\":\"v1\",\"fLineColor\":602,\"fLineStyle\":1,\"fLineWidth\":1,\"fFillColor\":0,\"fFillStyle\":1001,\"fMarkerColor\":1,\"fMarkerStyle\":1,\"fMarkerSize\":1,\"fNcells\":23,\"fXaxis\":{\"_typename\":\"TAxis\",\"fUniqueID\":0,\"fBits\":50331648,\"fName\":\"((abs(DiJetCand[0].part(0).phi() - DiJetCand[0].part(1).phi()) > TMath::Pi()) ? (abs(DiJetCand[0].part(0).phi() - DiJetCand[0].part(1).phi()) - TMath::Pi()) : (abs(DiJetCand[0].part(0).phi() - DiJetCand[0].part(1).phi())))\",\"fTitle\":\"#Delta #phi_{jj}\",\"fNdivisions\":510,\"fAxisColor\":1,\"fLabelColor\":1,\"fLabelFont\":42,\"fLabelOffset\":0.005,\"fLabelSize\":0.035,\"fTickLength\":0.03,\"fTitleOffset\":1,\"fTitleSize\":0.035,\"fTitleColor\":1,\"fTitleFont\":42,\"fNbins\":21,\"fXmin\":0,\"fXmax\":3.1415,\"fXbins\":[],\"fFirst\":0,\"fLast\":0,\"fBits2\":0,\"fTimeDisplay\":false,\"fTimeFormat\":\"\",\"fLabels\":null,\"fModLabs\":null},\"fYaxis\":{\"_typename\":\"TAxis\",\"fUniqueID\":0,\"fBits\":50331648,\"fName\":\"yaxis\",\"fTitle\":\"\",\"fNdivisions\":510,\"fAxisColor\":1,\"fLabelColor\":1,\"fLabelFont\":42,\"fLabelOffset\":0.005,\"fLabelSize\":0.035,\"fTickLength\":0.03,\"fTitleOffset\":1,\"fTitleSize\":0.035,\"fTitleColor\":1,\"fTitleFont\":42,\"fNbins\":1,\"fXmin\":0,\"fXmax\":1,\"fXbins\":[],\"fFirst\":0,\"fLast\":0,\"fBits2\":0,\"fTimeDisplay\":false,\"fTimeFormat\":\"\",\"fLabels\":null,\"fModLabs\":null},\"fZaxis\":{\"_typename\":\"TAxis\",\"fUniqueID\":0,\"fBits\":50331648,\"fName\":\"zaxis\",\"fTitle\":\"\",\"fNdivisions\":510,\"fAxisColor\":1,\"fLabelColor\":1,\"fLabelFont\":42,\"fLabelOffset\":0.005,\"fLabelSize\":0.035,\"fTickLength\":0.03,\"fTitleOffset\":1,\"fTitleSize\":0.035,\"fTitleColor\":1,\"fTitleFont\":42,\"fNbins\":1,\"fXmin\":0,\"fXmax\":1,\"fXbins\":[],\"fFirst\":0,\"fLast\":0,\"fBits2\":0,\"fTimeDisplay\":false,\"fTimeFormat\":\"\",\"fLabels\":null,\"fModLabs\":null},\"fBarOffset\":0,\"fBarWidth\":1000,\"fEntries\":116560,\"fTsumw\":0,\"fTsumw2\":0.70457895182404,\"fTsumwx\":60.0000171724863,\"fTsumwx2\":129.466974249404,\"fMaximum\":-1111,\"fMinimum\":-1111,\"fNormFactor\":0,\"fContour\":[],\"fSumw2\":[0,168.772338867188,148.330993652344,137.714309692383,126.62572479248,109.470497131348,93.7139663696289,83.7713241577148,76.4575653076172,70.1717834472656,64.2230224609375,62.9591217041016,65.486930847168,62.8748588562012,63.0265388488769,68.1663970947265,71.8064270019531,77.4518356323242,87.6809539794922,99.6795425415039,109.335662841797,116.548278808594,0],\"fOption\":\"\",\"fFunctions\":{\"_typename\":\"TList\",\"name\":\"TList\",\"arr\":[],\"opt\":[]},\"fBufferSize\":0,\"fBuffer\":[],\"fBinStatErrOpt\":0,\"fStatOverflows\":2,\"fArray\":[0,168.7723,148.331,137.7143,126.6257,109.4705,93.71397,83.77132,76.45757,70.17178,64.22302,62.95912,65.48693,62.87486,63.02654,68.1664,71.80643,77.45184,87.68095,99.67954,109.3357,116.5483,0]},{\"_typename\":\"TLegend\",\"fUniqueID\":0,\"fBits\":50331656,\"fLineColor\":1,\"fLineStyle\":1,\"fLineWidth\":1,\"fFillColor\":0,\"fFillStyle\":1001,\"fX1\":2.356125011703,\"fY1\":152.623979918973,\"fX2\":3.141500023406,\"fY2\":187.138481296262,\"fX1NDC\":0.7,\"fY1NDC\":0.7,\"fX2NDC\":0.9,\"fY2NDC\":0.9,\"fBorderSize\":1,\"fInit\":1,\"fShadowColor\":1,\"fCornerRadius\":0,\"fOption\":\"brNDC\",\"fName\":\"TPave\",\"fTextAngle\":0,\"fTextSize\":0,\"fTextAlign\":12,\"fTextColor\":1,\"fTextFont\":42,\"fPrimitives\":{\"_typename\":\"TList\",\"name\":\"TList\",\"arr\":[{\"_typename\":\"TLegendEntry\",\"fUniqueID\":0,\"fBits\":50331656,\"fTextAngle\":0,\"fTextSize\":0,\"fTextAlign\":0,\"fTextColor\":0,\"fTextFont\":42,\"fLineColor\":2,\"fLineStyle\":1,\"fLineWidth\":1,\"fFillColor\":2,\"fFillStyle\":1001,\"fMarkerColor\":1,\"fMarkerStyle\":1,\"fMarkerSize\":1,\"fObject\":{\"$ref\":3},\"fLabel\":\"morphing\",\"fOption\":\"lpf\"},{\"_typename\":\"TLegendEntry\",\"fUniqueID\":0,\"fBits\":50331656,\"fTextAngle\":0,\"fTextSize\":0,\"fTextAlign\":0,\"fTextColor\":0,\"fTextFont\":42,\"fLineColor\":602,\"fLineStyle\":1,\"fLineWidth\":1,\"fFillColor\":0,\"fFillStyle\":1001,\"fMarkerColor\":1,\"fMarkerStyle\":1,\"fMarkerSize\":1,\"fObject\":{\"$ref\":8},\"fLabel\":\"v1\",\"fOption\":\"lpf\"}],\"opt\":[\"lpf\",\"lpf\"]},\"fEntrySeparation\":0.1,\"fMargin\":0.25,\"fNColumns\":1,\"fColumnSeparation\":0}],\"opt\":[\"\",\"E3\",\"SAME\",\"\"]},\"fExecs\":null,\"fName\":\"c1\",\"fTitle\":\"c1\",\"fNumPaletteColor\":0,\"fNextPaletteColor\":0,\"fDISPLAY\":\"$DISPLAY\",\"fDoubleBuffer\":0,\"fRetained\":true,\"fXsizeUser\":0,\"fYsizeUser\":0,\"fXsizeReal\":20,\"fYsizeReal\":14.28571,\"fWindowTopX\":0,\"fWindowTopY\":0,\"fWindowWidth\":0,\"fWindowHeight\":0,\"fCw\":696,\"fCh\":472,\"fCatt\":{\"_typename\":\"TAttCanvas\",\"fXBetween\":2,\"fYBetween\":2,\"fTitleFromTop\":1.2,\"fXdate\":0.2,\"fYdate\":0.3,\"fAdate\":1},\"kMoveOpaque\":true,\"kResizeOpaque\":true,\"fHighLightColor\":2,\"fBatch\":true,\"kShowEventStatus\":false,\"kAutoExec\":true,\"kMenuBar\":true});\n",
       "       Core.draw(\"root_plot_1\", obj, \"\");\n",
       "     }\n",
       " );\n",
       "</script>\n"
      ],
      "text/plain": [
       "<IPython.core.display.HTML object>"
      ]
     },
     "metadata": {},
     "output_type": "display_data"
    }
   ],
   "source": [
    "c1 = ROOT.TCanvas()\n",
    "ROOT.gStyle.SetOptStat(0)\n",
    "ROOT.gStyle.SetOptTitle(0)\n",
    "morphing.GetXaxis().SetTitle(observable)\n",
    "morphing.SetLineColor(2)\n",
    "morphing.SetFillColor(2)\n",
    "morphing.Draw(\"E3\")\n",
    "validation.Draw(\"SAME\")\n",
    "leg = ROOT.TLegend(0.7,0.7,0.9,0.9)\n",
    "leg.AddEntry(morphing)\n",
    "leg.AddEntry(validation)\n",
    "leg.Draw()\n",
    "c1.Draw()"
   ]
  },
  {
   "cell_type": "markdown",
   "metadata": {},
   "source": [
    "![prettyfull](https://media.giphy.com/media/it6W8D4FfvaPC/giphy.gif \"So pretty, very wow\")"
   ]
  },
  {
   "cell_type": "markdown",
   "metadata": {},
   "source": [
    "## Playground\n",
    "* As you have now seen, the model includes additional parameters Lambda and cosa that we have not been using so far. What happens when you change their values? How does the resulting distribution change? Are the results still physical? Why should they (not)?\n",
    "* Have a look at the header file of the RooLagrangianMorphFunc (which is located in here /afs/cern.ch/user/c/cburgard/public/RooEFTMorphFuncTutorial20160422/RooEFTMorphFunc/default/inc/RooStats/RooEFTMorphFunc.h) and search for the implementations of the pre-made classes you have been using earlier. Does this look any different from what you did? "
   ]
  }
 ],
 "metadata": {
  "kernelspec": {
   "display_name": "Python 2",
   "language": "python",
   "name": "python2"
  },
  "language_info": {
   "codemirror_mode": {
    "name": "ipython",
    "version": 2
   },
   "file_extension": ".py",
   "mimetype": "text/x-python",
   "name": "python",
   "nbconvert_exporter": "python",
   "pygments_lexer": "ipython2",
   "version": "2.7.15"
  }
 },
 "nbformat": 4,
 "nbformat_minor": 1
}
