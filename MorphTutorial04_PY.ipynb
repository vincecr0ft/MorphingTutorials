{
 "cells": [
  {
   "cell_type": "markdown",
   "metadata": {},
   "source": [
    "# Lesson #4: Fitting\n",
    "\n",
    "In this lesson, you will learn how to use the RooEFTMorphFunc to perform a fit to some pseudodata.\n",
    "\n",
    "![what a fitting image!](https://media1.tenor.com/images/348aad33def25e419aae7f5c1f341648/tenor.gif?itemid=5323722 \"what a fitting image\")\n",
    "\n",
    "\n",
    "As you have already seen, the morphing function mapping the parameter values to output distributions is very fast - much faster than any generator would be able to generate events! The reason for this is that all the complicated physics are pre-calculated and contained in the input histograms, of which the morphing only builds a linear combination. In fact, the computation of the morphing result is so quick that it effectively forms a contuinous model. It is even feasible to perform iterative optimizations (e.g. a likelihood fit) on the morphing function, which you will explore in this lesson."
   ]
  },
  {
   "cell_type": "markdown",
   "metadata": {},
   "source": [
    "## Setup files and samples\n",
    "\n",
    "These are set up as before. The identifier is just a hook to specify the name in the file structure."
   ]
  },
  {
   "cell_type": "code",
   "execution_count": 1,
   "metadata": {},
   "outputs": [
    {
     "name": "stdout",
     "output_type": "stream",
     "text": [
      "Welcome to JupyROOT 6.14/04\n"
     ]
    }
   ],
   "source": [
    "from ROOT import gSystem\n",
    "gSystem.Load(\"libRooFit\")\n",
    "gSystem.Load(\"libRooLagrangianMorphing.so\")\n",
    "%jsroot on\n",
    "import ROOT"
   ]
  },
  {
   "cell_type": "code",
   "execution_count": 2,
   "metadata": {},
   "outputs": [
    {
     "name": "stdout",
     "output_type": "stream",
     "text": [
      "File ‘vbfhwwlvlv_3d.root’ already there; not retrieving.\r\n",
      "\r\n"
     ]
    }
   ],
   "source": [
    "!wget https://www.nikhef.nl/~cburgard/downloads/RooLagrangianMorphingTutorial/inputs/vbfhwwlvlv_3d.root -nc"
   ]
  },
  {
   "cell_type": "code",
   "execution_count": 3,
   "metadata": {},
   "outputs": [],
   "source": [
    "identifier = \"vbfWW\" # avaliable: ggfWW, vbfWW, vbfZZ, ggfZZ, vbfMuMu \n",
    "infilename = \"vbfhwwlvlv_3d.root\" # give the input file name here\n",
    "observable = \"twoSelJets/dphijj\" # name of the observable to be used (histogram name)"
   ]
  },
  {
   "cell_type": "markdown",
   "metadata": {},
   "source": [
    "Once again all 15 VBF parameters are considered."
   ]
  },
  {
   "cell_type": "code",
   "execution_count": 4,
   "metadata": {},
   "outputs": [],
   "source": [
    "samplelist = [\"kAwwkHwwkSM0\",\"kAwwkHwwkSM1\",\"kAwwkHwwkSM10\",\"\",\"kAwwkHwwkSM11\",\"kAwwkHwwkSM12\",\"kAwwkHwwkSM13\",\"kAwwkHwwkSM2\",\"kAwwkHwwkSM3\",\"kAwwkHwwkSM4\",\"kAwwkHwwkSM5\",\"kAwwkHwwkSM6\",\"kAwwkHwwkSM7\",\"kAwwkHwwkSM8\",\"kAwwkHwwkSM9\",\"kSM0\"]\n",
    "# these are the validation samples: \"v0\",\"v1\",\"v2\",\"v3\",\"v4\",\"v5\",\"v6\",\"v7\",\"v8\",\"v9\""
   ]
  },
  {
   "cell_type": "markdown",
   "metadata": {},
   "source": [
    "push all the input samples in a RooArgList"
   ]
  },
  {
   "cell_type": "code",
   "execution_count": 5,
   "metadata": {},
   "outputs": [],
   "source": [
    "inputs = ROOT.RooArgList()"
   ]
  },
  {
   "cell_type": "markdown",
   "metadata": {},
   "source": [
    "we need the additional list \"inputnames\" to prevent the python garbage collector from deleting the RooStringVars"
   ]
  },
  {
   "cell_type": "code",
   "execution_count": 6,
   "metadata": {},
   "outputs": [],
   "source": [
    "inputnames = []\n",
    "for sample in samplelist:\n",
    "    v = ROOT.RooStringVar(sample,sample,sample)\n",
    "    inputnames.append(v)\n",
    "    inputs.add(v)"
   ]
  },
  {
   "cell_type": "markdown",
   "metadata": {},
   "source": [
    "## setup predefined morphing function\n",
    "\n",
    "As in excercise 2 we use a pre-implemented specialized class called \"RooHCvbfWWMorphPdf\", that already knows about the vertex structure of this process. So all you really need to do is change the call to the constructor of your morphing function. You will later learn how to implement the morphing for completely new physics processes and create new specialized classes like this one for the process of your choice."
   ]
  },
  {
   "cell_type": "code",
   "execution_count": 7,
   "metadata": {},
   "outputs": [
    {
     "name": "stdout",
     "output_type": "stream",
     "text": [
      "\u001b[1mRooLagrangianMorphBase\u001b[0m: a RooFit class for morphing physics distributions between configurations. authors:\n",
      "   Lydia Brenner   (lbrenner@cern.ch)\n",
      "   Carsten Burgard (cburgard@cern.ch)\n",
      "   Katharina Ecker (kecker@cern.ch)\n",
      "   Adam Kaluza     (akaluza@cern.ch)\n",
      "please feel free to contact with questions and suggestions.\n"
     ]
    }
   ],
   "source": [
    "morphfunc = ROOT.RooHCvbfWWMorphPdf(identifier,identifier,infilename,observable,inputs)"
   ]
  },
  {
   "cell_type": "markdown",
   "metadata": {},
   "source": [
    "morph to the validation sample v1"
   ]
  },
  {
   "cell_type": "code",
   "execution_count": 8,
   "metadata": {},
   "outputs": [
    {
     "name": "stderr",
     "output_type": "stream",
     "text": [
      "ERROR: parameter Lambda out of bounds: 0 < 900\n"
     ]
    }
   ],
   "source": [
    "validationsample = \"v1\"\n",
    "morphfunc.setParameters(validationsample)\n",
    "morphing = morphfunc.createTH1(\"morphing\")"
   ]
  },
  {
   "cell_type": "markdown",
   "metadata": {},
   "source": [
    "## Read The Validation Histogram\n",
    "\n",
    "We now retrieve the corresponding histogram of the validation sample from the same input file. "
   ]
  },
  {
   "cell_type": "code",
   "execution_count": 9,
   "metadata": {},
   "outputs": [],
   "source": [
    "tfile = ROOT.TFile.Open(infilename,\"READ\")\n",
    "folder = tfile.Get(validationsample)\n",
    "validation = folder.FindObject(observable)\n",
    "validation.SetDirectory(0)\n",
    "validation.SetTitle(validationsample)\n",
    "tfile.Close()"
   ]
  },
  {
   "cell_type": "markdown",
   "metadata": {},
   "source": [
    "## setup the fit\n",
    "\n",
    "In order for this to work, we of course first need some pseudodata. For this, you can use one of the validation samples. This is especially useful because it will allow you to compare the nominal values of the parameters used in that sample with the ones that you will obtain from your fit. to obtain it, you can use the following line in C++:\n",
    "\n",
    "```RooDataHist* target = RooEFTMorphFunc::makeDataHistogram(validation,morphfunc->getObservable(),\"validation\");```\n",
    "\n",
    "or, similarly, in python:\n",
    "\n",
    "```target = RooEFTMorphFunc.makeDataHistogram(validation,morphfunc.getObservable(),\"validation\")```\n",
    "\n",
    "The following hints will help you understand the fit quickly:\n",
    "- Since the fit has multiple parameters and the likelihood is not always well-behaved, it helps to start in the proximity of your known (or expected) values.\n",
    "- Start off by calling \"setParameters\" to set the parameters of the validation sample you want to use as pseudodata.\n",
    "- In order to give the fit something to do, you probably want to vary the parameters just a bit. You can do this by either manually setting their values using the `setParameter` method, or by adding a random fluctuation using the \"randomizeParameters\" method, which takes the number of standard deviations by which to randomize as an argument. By default, the standard deviations of the input paremeters are set to 0.001.\n",
    "- You can also use the \"setParameterConstant\" method to freeze individual parameters before fitting.\n",
    "\n",
    "![why wont you work?!](https://media3.giphy.com/media/l2Je6sbvJEn1W9OWQ/giphy.gif?cid=790b76115ca4e577384c4937326de004 \"damn legos\")\n",
    "\n",
    "For the actual fit, you just need to retrieve the internal probability density function by calling the `getPdf` method, on which you can then call the standard Roofit method `fitTo`. Afterwards, you can all the RooEFTMorphFunc method `printParameters` to print to console the results of the fit.\n",
    "\n",
    "You should also call the `createTH1` method one more time after performing the fit and plot the distribution obtained from the fit on the same canvas. Ideally, all three distributions - the validation, the result of morphing to the nominal parameter values and the fit result should be compatible!"
   ]
  },
  {
   "cell_type": "code",
   "execution_count": 10,
   "metadata": {},
   "outputs": [
    {
     "name": "stdout",
     "output_type": "stream",
     "text": [
      "cosa: 0.707107 (const)\n",
      "Lambda: 1000 (const)\n",
      "kSM: 2.82843 +0 -0 (-2.82843 - 2.82843)\n",
      "kHaa: 0 (const)\n",
      "kAaa: 0 (const)\n",
      "kHza: 0 (const)\n",
      "kAza: 0 (const)\n",
      "kHzz: 0 (const)\n",
      "kAzz: 0 (const)\n",
      "kHdz: 0 (const)\n",
      "kHww: -0.566961 +0 -0 (-9.69994 - 9.69994)\n",
      "kAww: 8.82079 +0 -0 (-15.7624 - 15.7624)\n",
      "kHdwR: 0 (const)\n",
      "kHdwI: 0 (const)\n",
      "kHda: 0 (const)\n",
      "[#1] INFO:Minization -- p.d.f. provides expected number of events, including extended term in likelihood.\n",
      " **********\n",
      " **    1 **SET PRINT           1\n",
      " **********\n",
      " **********\n",
      " **    2 **SET NOGRAD\n",
      " **********\n",
      " PARAMETER DEFINITIONS:\n",
      "    NO.   NAME         VALUE      STEP SIZE      LIMITS\n",
      "     1 kAww         8.82079e+00  1.00000e-02   -1.57624e+01  1.57624e+01\n",
      "     2 kHww        -5.66961e-01  1.00000e-02   -9.69994e+00  9.69994e+00\n",
      "     3 kSM          2.82843e+00  1.00000e-02   -2.82843e+00  2.82843e+00\n",
      " MINUIT WARNING IN PARAM DEF\n",
      " ============== STARTING VALUE IS AT LIMIT.\n",
      " MINUIT WARNING IN PARAMETR\n",
      " ============== VARIABLE3 IS AT ITS UPPER ALLOWED LIMIT.\n",
      " MINUIT WARNING IN PARAMETR\n",
      " ============== VARIABLE3 BROUGHT BACK INSIDE LIMITS.\n",
      " **********\n",
      " **    3 **SET ERR         0.5\n",
      " **********\n",
      " **********\n",
      " **    4 **SET PRINT           1\n",
      " **********\n",
      " **********\n",
      " **    5 **SET STR           1\n",
      " **********\n",
      " NOW USING STRATEGY  1: TRY TO BALANCE SPEED AGAINST RELIABILITY\n",
      " **********\n",
      " **    6 **MIGRAD        1500           1\n",
      " **********\n",
      " FIRST CALL TO USER FUNCTION AT NEW START POINT, WITH IFLAG=4.\n",
      " MINUIT WARNING IN MIGrad    \n",
      " ============== VARIABLE3 IS AT ITS UPPER ALLOWED LIMIT.\n",
      " START MIGRAD MINIMIZATION.  STRATEGY  1.  CONVERGENCE WHEN EDM .LT. 1.00e-03\n",
      " FCN=-3605.8 FROM MIGRAD    STATUS=INITIATE       53 CALLS          54 TOTAL\n",
      "                     EDM= unknown      STRATEGY= 1      NO ERROR MATRIX       \n",
      "  EXT PARAMETER               CURRENT GUESS       STEP         FIRST   \n",
      "  NO.   NAME      VALUE            ERROR          SIZE      DERIVATIVE \n",
      "   1  kAww         8.82079e+00   1.00000e-02   0.00000e+00   1.69607e+04\n",
      "   2  kHww        -5.66961e-01   1.00000e-02   0.00000e+00   5.90301e+02\n",
      "   3  kSM          2.22344e+00   1.00000e-02  -2.28831e-01   2.51589e+04\n",
      "                               ERR DEF= 0.5\n",
      "[#0] WARNING:Minization -- RooMinimizerFcn: Minimized function has error status.\n",
      "Returning maximum FCN so far (8944.78) to force MIGRAD to back out of this region. Error log follows\n",
      "Parameter values: kAww=11.3802, kHww=0.0825506, kSM=0.442593\n",
      "RooRealSumPdf::vbfWW_morphfunc[ binWidth_twoSelJets_dphijj * kAwwkHwwkSM0_vbfWW + binWidth_twoSelJets_dphijj * kAwwkHwwkSM1_vbfWW + binWidth_twoSelJets_dphijj * kAwwkHwwkSM10_vbfWW + binWidth_twoSelJets_dphijj * kAwwkHwwkSM11_vbfWW + binWidth_twoSelJets_dphijj * kAwwkHwwkSM12_vbfWW + binWidth_twoSelJets_dphijj * kAwwkHwwkSM13_vbfWW + binWidth_twoSelJets_dphijj * kAwwkHwwkSM2_vbfWW + binWidth_twoSelJets_dphijj * kAwwkHwwkSM3_vbfWW + binWidth_twoSelJets_dphijj * kAwwkHwwkSM4_vbfWW + binWidth_twoSelJets_dphijj * kAwwkHwwkSM5_vbfWW + binWidth_twoSelJets_dphijj * kAwwkHwwkSM6_vbfWW + binWidth_twoSelJets_dphijj * kAwwkHwwkSM7_vbfWW + binWidth_twoSelJets_dphijj * kAwwkHwwkSM8_vbfWW + binWidth_twoSelJets_dphijj * kAwwkHwwkSM9_vbfWW + binWidth_twoSelJets_dphijj * kSM0_vbfWW ]\n",
      "     p.d.f value is less than zero (-328.299883), forcing value to zero @ !funcList=(kAwwkHwwkSM0_vbfWW = 487.846,kAwwkHwwkSM1_vbfWW = 82.5665,kAwwkHwwkSM10_vbfWW = -262.443,kAwwkHwwkSM11_vbfWW = -58.7782,kAwwkHwwkSM12_vbfWW = 591.813,kAwwkHwwkSM13_vbfWW = 86.2751,kAwwkHwwkSM2_vbfWW = -1086.01,kAwwkHwwkSM3_vbfWW = 26.2089,kAwwkHwwkSM4_vbfWW = 68.4111,kAwwkHwwkSM5_vbfWW = -282.231,kAwwkHwwkSM6_vbfWW = -232.53,kAwwkHwwkSM7_vbfWW = 707.018,kAwwkHwwkSM8_vbfWW = 358.653,kAwwkHwwkSM9_vbfWW = -1103.27,kSM0_vbfWW = 567.356), !coefList=(binWidth_twoSelJets_dphijj = 6.6847,binWidth_twoSelJets_dphijj = 6.6847,binWidth_twoSelJets_dphijj = 6.6847,binWidth_twoSelJets_dphijj = 6.6847,binWidth_twoSelJets_dphijj = 6.6847,binWidth_twoSelJets_dphijj = 6.6847,binWidth_twoSelJets_dphijj = 6.6847,binWidth_twoSelJets_dphijj = 6.6847,binWidth_twoSelJets_dphijj = 6.6847,binWidth_twoSelJets_dphijj = 6.6847,binWidth_twoSelJets_dphijj = 6.6847,binWidth_twoSelJets_dphijj = 6.6847,binWidth_twoSelJets_dphijj = 6.6847,binWidth_twoSelJets_dphijj = 6.6847,binWidth_twoSelJets_dphijj = 6.6847)\n",
      "     getLogVal() top-level p.d.f evaluates to zero @ !funcList=(kAwwkHwwkSM0_vbfWW = 487.846,kAwwkHwwkSM1_vbfWW = 82.5665,kAwwkHwwkSM10_vbfWW = -262.443,kAwwkHwwkSM11_vbfWW = -58.7782,kAwwkHwwkSM12_vbfWW = 591.813,kAwwkHwwkSM13_vbfWW = 86.2751,kAwwkHwwkSM2_vbfWW = -1086.01,kAwwkHwwkSM3_vbfWW = 26.2089,kAwwkHwwkSM4_vbfWW = 68.4111,kAwwkHwwkSM5_vbfWW = -282.231,kAwwkHwwkSM6_vbfWW = -232.53,kAwwkHwwkSM7_vbfWW = 707.018,kAwwkHwwkSM8_vbfWW = 358.653,kAwwkHwwkSM9_vbfWW = -1103.27,kSM0_vbfWW = 567.356), !coefList=(binWidth_twoSelJets_dphijj = 6.6847,binWidth_twoSelJets_dphijj = 6.6847,binWidth_twoSelJets_dphijj = 6.6847,binWidth_twoSelJets_dphijj = 6.6847,binWidth_twoSelJets_dphijj = 6.6847,binWidth_twoSelJets_dphijj = 6.6847,binWidth_twoSelJets_dphijj = 6.6847,binWidth_twoSelJets_dphijj = 6.6847,binWidth_twoSelJets_dphijj = 6.6847,binWidth_twoSelJets_dphijj = 6.6847,binWidth_twoSelJets_dphijj = 6.6847,binWidth_twoSelJets_dphijj = 6.6847,binWidth_twoSelJets_dphijj = 6.6847,binWidth_twoSelJets_dphijj = 6.6847,binWidth_twoSelJets_dphijj = 6.6847)\n",
      "     p.d.f value is less than zero (-161.919441), forcing value to zero @ !funcList=(kAwwkHwwkSM0_vbfWW = 287.402,kAwwkHwwkSM1_vbfWW = 48.4366,kAwwkHwwkSM10_vbfWW = -143.434,kAwwkHwwkSM11_vbfWW = -32.7372,kAwwkHwwkSM12_vbfWW = 374.095,kAwwkHwwkSM13_vbfWW = 42.8676,kAwwkHwwkSM2_vbfWW = -651.425,kAwwkHwwkSM3_vbfWW = 12.7687,kAwwkHwwkSM4_vbfWW = 39.9754,kAwwkHwwkSM5_vbfWW = -167.379,kAwwkHwwkSM6_vbfWW = -128.154,kAwwkHwwkSM7_vbfWW = 424.52,kAwwkHwwkSM8_vbfWW = 207.937,kAwwkHwwkSM9_vbfWW = -695.071,kSM0_vbfWW = 355.975), !coefList=(binWidth_twoSelJets_dphijj = 6.6847,binWidth_twoSelJets_dphijj = 6.6847,binWidth_twoSelJets_dphijj = 6.6847,binWidth_twoSelJets_dphijj = 6.6847,binWidth_twoSelJets_dphijj = 6.6847,binWidth_twoSelJets_dphijj = 6.6847,binWidth_twoSelJets_dphijj = 6.6847,binWidth_twoSelJets_dphijj = 6.6847,binWidth_twoSelJets_dphijj = 6.6847,binWidth_twoSelJets_dphijj = 6.6847,binWidth_twoSelJets_dphijj = 6.6847,binWidth_twoSelJets_dphijj = 6.6847,binWidth_twoSelJets_dphijj = 6.6847,binWidth_twoSelJets_dphijj = 6.6847,binWidth_twoSelJets_dphijj = 6.6847)\n",
      "     getLogVal() top-level p.d.f evaluates to zero @ !funcList=(kAwwkHwwkSM0_vbfWW = 287.402,kAwwkHwwkSM1_vbfWW = 48.4366,kAwwkHwwkSM10_vbfWW = -143.434,kAwwkHwwkSM11_vbfWW = -32.7372,kAwwkHwwkSM12_vbfWW = 374.095,kAwwkHwwkSM13_vbfWW = 42.8676,kAwwkHwwkSM2_vbfWW = -651.425,kAwwkHwwkSM3_vbfWW = 12.7687,kAwwkHwwkSM4_vbfWW = 39.9754,kAwwkHwwkSM5_vbfWW = -167.379,kAwwkHwwkSM6_vbfWW = -128.154,kAwwkHwwkSM7_vbfWW = 424.52,kAwwkHwwkSM8_vbfWW = 207.937,kAwwkHwwkSM9_vbfWW = -695.071,kSM0_vbfWW = 355.975), !coefList=(binWidth_twoSelJets_dphijj = 6.6847,binWidth_twoSelJets_dphijj = 6.6847,binWidth_twoSelJets_dphijj = 6.6847,binWidth_twoSelJets_dphijj = 6.6847,binWidth_twoSelJets_dphijj = 6.6847,binWidth_twoSelJets_dphijj = 6.6847,binWidth_twoSelJets_dphijj = 6.6847,binWidth_twoSelJets_dphijj = 6.6847,binWidth_twoSelJets_dphijj = 6.6847,binWidth_twoSelJets_dphijj = 6.6847,binWidth_twoSelJets_dphijj = 6.6847,binWidth_twoSelJets_dphijj = 6.6847,binWidth_twoSelJets_dphijj = 6.6847,binWidth_twoSelJets_dphijj = 6.6847,binWidth_twoSelJets_dphijj = 6.6847)\n",
      "     p.d.f value is less than zero (-188.580297), forcing value to zero @ !funcList=(kAwwkHwwkSM0_vbfWW = 254.556,kAwwkHwwkSM1_vbfWW = 45.7602,kAwwkHwwkSM10_vbfWW = -129.087,kAwwkHwwkSM11_vbfWW = -36.4155,kAwwkHwwkSM12_vbfWW = 349.671,kAwwkHwwkSM13_vbfWW = 50.6014,kAwwkHwwkSM2_vbfWW = -643.988,kAwwkHwwkSM3_vbfWW = 15.1565,kAwwkHwwkSM4_vbfWW = 36.5344,kAwwkHwwkSM5_vbfWW = -182.543,kAwwkHwwkSM6_vbfWW = -134.749,kAwwkHwwkSM7_vbfWW = 431.007,kAwwkHwwkSM8_vbfWW = 189.086,kAwwkHwwkSM9_vbfWW = -634.183,kSM0_vbfWW = 360.383), !coefList=(binWidth_twoSelJets_dphijj = 6.6847,binWidth_twoSelJets_dphijj = 6.6847,binWidth_twoSelJets_dphijj = 6.6847,binWidth_twoSelJets_dphijj = 6.6847,binWidth_twoSelJets_dphijj = 6.6847,binWidth_twoSelJets_dphijj = 6.6847,binWidth_twoSelJets_dphijj = 6.6847,binWidth_twoSelJets_dphijj = 6.6847,binWidth_twoSelJets_dphijj = 6.6847,binWidth_twoSelJets_dphijj = 6.6847,binWidth_twoSelJets_dphijj = 6.6847,binWidth_twoSelJets_dphijj = 6.6847,binWidth_twoSelJets_dphijj = 6.6847,binWidth_twoSelJets_dphijj = 6.6847,binWidth_twoSelJets_dphijj = 6.6847)\n",
      "     getLogVal() top-level p.d.f evaluates to zero @ !funcList=(kAwwkHwwkSM0_vbfWW = 254.556,kAwwkHwwkSM1_vbfWW = 45.7602,kAwwkHwwkSM10_vbfWW = -129.087,kAwwkHwwkSM11_vbfWW = -36.4155,kAwwkHwwkSM12_vbfWW = 349.671,kAwwkHwwkSM13_vbfWW = 50.6014,kAwwkHwwkSM2_vbfWW = -643.988,kAwwkHwwkSM3_vbfWW = 15.1565,kAwwkHwwkSM4_vbfWW = 36.5344,kAwwkHwwkSM5_vbfWW = -182.543,kAwwkHwwkSM6_vbfWW = -134.749,kAwwkHwwkSM7_vbfWW = 431.007,kAwwkHwwkSM8_vbfWW = 189.086,kAwwkHwwkSM9_vbfWW = -634.183,kSM0_vbfWW = 360.383), !coefList=(binWidth_twoSelJets_dphijj = 6.6847,binWidth_twoSelJets_dphijj = 6.6847,binWidth_twoSelJets_dphijj = 6.6847,binWidth_twoSelJets_dphijj = 6.6847,binWidth_twoSelJets_dphijj = 6.6847,binWidth_twoSelJets_dphijj = 6.6847,binWidth_twoSelJets_dphijj = 6.6847,binWidth_twoSelJets_dphijj = 6.6847,binWidth_twoSelJets_dphijj = 6.6847,binWidth_twoSelJets_dphijj = 6.6847,binWidth_twoSelJets_dphijj = 6.6847,binWidth_twoSelJets_dphijj = 6.6847,binWidth_twoSelJets_dphijj = 6.6847,binWidth_twoSelJets_dphijj = 6.6847,binWidth_twoSelJets_dphijj = 6.6847)\n",
      "     p.d.f value is less than zero (-146.816687), forcing value to zero @ !funcList=(kAwwkHwwkSM0_vbfWW = 273.225,kAwwkHwwkSM1_vbfWW = 48.6977,kAwwkHwwkSM10_vbfWW = -138.257,kAwwkHwwkSM11_vbfWW = -37.5358,kAwwkHwwkSM12_vbfWW = 356.12,kAwwkHwwkSM13_vbfWW = 57.4023,kAwwkHwwkSM2_vbfWW = -648.748,kAwwkHwwkSM3_vbfWW = 17.2085,kAwwkHwwkSM4_vbfWW = 36.2984,kAwwkHwwkSM5_vbfWW = -189.495,kAwwkHwwkSM6_vbfWW = -134.848,kAwwkHwwkSM7_vbfWW = 426.844,kAwwkHwwkSM8_vbfWW = 194.145,kAwwkHwwkSM9_vbfWW = -669.465,kSM0_vbfWW = 386.446), !coefList=(binWidth_twoSelJets_dphijj = 6.6847,binWidth_twoSelJets_dphijj = 6.6847,binWidth_twoSelJets_dphijj = 6.6847,binWidth_twoSelJets_dphijj = 6.6847,binWidth_twoSelJets_dphijj = 6.6847,binWidth_twoSelJets_dphijj = 6.6847,binWidth_twoSelJets_dphijj = 6.6847,binWidth_twoSelJets_dphijj = 6.6847,binWidth_twoSelJets_dphijj = 6.6847,binWidth_twoSelJets_dphijj = 6.6847,binWidth_twoSelJets_dphijj = 6.6847,binWidth_twoSelJets_dphijj = 6.6847,binWidth_twoSelJets_dphijj = 6.6847,binWidth_twoSelJets_dphijj = 6.6847,binWidth_twoSelJets_dphijj = 6.6847)\n",
      "     getLogVal() top-level p.d.f evaluates to zero @ !funcList=(kAwwkHwwkSM0_vbfWW = 273.225,kAwwkHwwkSM1_vbfWW = 48.6977,kAwwkHwwkSM10_vbfWW = -138.257,kAwwkHwwkSM11_vbfWW = -37.5358,kAwwkHwwkSM12_vbfWW = 356.12,kAwwkHwwkSM13_vbfWW = 57.4023,kAwwkHwwkSM2_vbfWW = -648.748,kAwwkHwwkSM3_vbfWW = 17.2085,kAwwkHwwkSM4_vbfWW = 36.2984,kAwwkHwwkSM5_vbfWW = -189.495,kAwwkHwwkSM6_vbfWW = -134.848,kAwwkHwwkSM7_vbfWW = 426.844,kAwwkHwwkSM8_vbfWW = 194.145,kAwwkHwwkSM9_vbfWW = -669.465,kSM0_vbfWW = 386.446), !coefList=(binWidth_twoSelJets_dphijj = 6.6847,binWidth_twoSelJets_dphijj = 6.6847,binWidth_twoSelJets_dphijj = 6.6847,binWidth_twoSelJets_dphijj = 6.6847,binWidth_twoSelJets_dphijj = 6.6847,binWidth_twoSelJets_dphijj = 6.6847,binWidth_twoSelJets_dphijj = 6.6847,binWidth_twoSelJets_dphijj = 6.6847,binWidth_twoSelJets_dphijj = 6.6847,binWidth_twoSelJets_dphijj = 6.6847,binWidth_twoSelJets_dphijj = 6.6847,binWidth_twoSelJets_dphijj = 6.6847,binWidth_twoSelJets_dphijj = 6.6847,binWidth_twoSelJets_dphijj = 6.6847,binWidth_twoSelJets_dphijj = 6.6847)\n",
      "RooNLLVar::nll_vbfWW_morphfunc_validation[ paramSet=(Lambda,binWidth_twoSelJets_dphijj,cosa,kAaa,kAww,kAza,kAzz,kHaa,kHda,kHdwI,kHdwR,kHdz,kHww,kHza,kHzz,kSM,nNP0,nNP1,nNP2) ]\n",
      "     function value is NAN @ paramSet=(Lambda = 1000 +/- 0.01,binWidth_twoSelJets_dphijj = 6.6847,cosa = 0.707107 +/- 0.01,kAaa = 0,kAww = 11.3802 +/- 0.01,kAza = 0,kAzz = 0,kHaa = 0,kHda = 0,kHdwI = 0,kHdwR = 0,kHdz = 0,kHww = 0.0825506 +/- 0.01,kHza = 0,kHzz = 0,kSM = 0.442593 +/- 0.01,nNP0 = 1,nNP1 = 1,nNP2 = 1)\n",
      "\n",
      "[#0] WARNING:Minization -- RooMinimizerFcn: Minimized function has error status.\n",
      "Returning maximum FCN so far (27650.9) to force MIGRAD to back out of this region. Error log follows\n",
      "Parameter values: kAww=-15.641, kHww=1.01444, kSM=-0.862782\n",
      "RooRealSumPdf::vbfWW_morphfunc[ binWidth_twoSelJets_dphijj * kAwwkHwwkSM0_vbfWW + binWidth_twoSelJets_dphijj * kAwwkHwwkSM1_vbfWW + binWidth_twoSelJets_dphijj * kAwwkHwwkSM10_vbfWW + binWidth_twoSelJets_dphijj * kAwwkHwwkSM11_vbfWW + binWidth_twoSelJets_dphijj * kAwwkHwwkSM12_vbfWW + binWidth_twoSelJets_dphijj * kAwwkHwwkSM13_vbfWW + binWidth_twoSelJets_dphijj * kAwwkHwwkSM2_vbfWW + binWidth_twoSelJets_dphijj * kAwwkHwwkSM3_vbfWW + binWidth_twoSelJets_dphijj * kAwwkHwwkSM4_vbfWW + binWidth_twoSelJets_dphijj * kAwwkHwwkSM5_vbfWW + binWidth_twoSelJets_dphijj * kAwwkHwwkSM6_vbfWW + binWidth_twoSelJets_dphijj * kAwwkHwwkSM7_vbfWW + binWidth_twoSelJets_dphijj * kAwwkHwwkSM8_vbfWW + binWidth_twoSelJets_dphijj * kAwwkHwwkSM9_vbfWW + binWidth_twoSelJets_dphijj * kSM0_vbfWW ]\n",
      "     p.d.f value is less than zero (-528.985804), forcing value to zero @ !funcList=(kAwwkHwwkSM0_vbfWW = 1593.72,kAwwkHwwkSM1_vbfWW = -364.826,kAwwkHwwkSM10_vbfWW = -926.588,kAwwkHwwkSM11_vbfWW = -567.257,kAwwkHwwkSM12_vbfWW = 2716.34,kAwwkHwwkSM13_vbfWW = 174.179,kAwwkHwwkSM2_vbfWW = -3241.95,kAwwkHwwkSM3_vbfWW = 216.129,kAwwkHwwkSM4_vbfWW = 233.195,kAwwkHwwkSM5_vbfWW = -583.019,kAwwkHwwkSM6_vbfWW = -228.47,kAwwkHwwkSM7_vbfWW = 1861.95,kAwwkHwwkSM8_vbfWW = 1415.83,kAwwkHwwkSM9_vbfWW = -4324.18,kSM0_vbfWW = 1945.81), !coefList=(binWidth_twoSelJets_dphijj = 6.6847,binWidth_twoSelJets_dphijj = 6.6847,binWidth_twoSelJets_dphijj = 6.6847,binWidth_twoSelJets_dphijj = 6.6847,binWidth_twoSelJets_dphijj = 6.6847,binWidth_twoSelJets_dphijj = 6.6847,binWidth_twoSelJets_dphijj = 6.6847,binWidth_twoSelJets_dphijj = 6.6847,binWidth_twoSelJets_dphijj = 6.6847,binWidth_twoSelJets_dphijj = 6.6847,binWidth_twoSelJets_dphijj = 6.6847,binWidth_twoSelJets_dphijj = 6.6847,binWidth_twoSelJets_dphijj = 6.6847,binWidth_twoSelJets_dphijj = 6.6847,binWidth_twoSelJets_dphijj = 6.6847)\n",
      "     getLogVal() top-level p.d.f evaluates to zero @ !funcList=(kAwwkHwwkSM0_vbfWW = 1593.72,kAwwkHwwkSM1_vbfWW = -364.826,kAwwkHwwkSM10_vbfWW = -926.588,kAwwkHwwkSM11_vbfWW = -567.257,kAwwkHwwkSM12_vbfWW = 2716.34,kAwwkHwwkSM13_vbfWW = 174.179,kAwwkHwwkSM2_vbfWW = -3241.95,kAwwkHwwkSM3_vbfWW = 216.129,kAwwkHwwkSM4_vbfWW = 233.195,kAwwkHwwkSM5_vbfWW = -583.019,kAwwkHwwkSM6_vbfWW = -228.47,kAwwkHwwkSM7_vbfWW = 1861.95,kAwwkHwwkSM8_vbfWW = 1415.83,kAwwkHwwkSM9_vbfWW = -4324.18,kSM0_vbfWW = 1945.81), !coefList=(binWidth_twoSelJets_dphijj = 6.6847,binWidth_twoSelJets_dphijj = 6.6847,binWidth_twoSelJets_dphijj = 6.6847,binWidth_twoSelJets_dphijj = 6.6847,binWidth_twoSelJets_dphijj = 6.6847,binWidth_twoSelJets_dphijj = 6.6847,binWidth_twoSelJets_dphijj = 6.6847,binWidth_twoSelJets_dphijj = 6.6847,binWidth_twoSelJets_dphijj = 6.6847,binWidth_twoSelJets_dphijj = 6.6847,binWidth_twoSelJets_dphijj = 6.6847,binWidth_twoSelJets_dphijj = 6.6847,binWidth_twoSelJets_dphijj = 6.6847,binWidth_twoSelJets_dphijj = 6.6847,binWidth_twoSelJets_dphijj = 6.6847)\n",
      "     p.d.f value is less than zero (-222.004109), forcing value to zero @ !funcList=(kAwwkHwwkSM0_vbfWW = 938.896,kAwwkHwwkSM1_vbfWW = -214.02,kAwwkHwwkSM10_vbfWW = -506.414,kAwwkHwwkSM11_vbfWW = -315.94,kAwwkHwwkSM12_vbfWW = 1717.04,kAwwkHwwkSM13_vbfWW = 86.5446,kAwwkHwwkSM2_vbfWW = -1944.63,kAwwkHwwkSM3_vbfWW = 105.296,kAwwkHwwkSM4_vbfWW = 136.265,kAwwkHwwkSM5_vbfWW = -345.763,kAwwkHwwkSM6_vbfWW = -125.917,kAwwkHwwkSM7_vbfWW = 1117.99,kAwwkHwwkSM8_vbfWW = 820.863,kAwwkHwwkSM9_vbfWW = -2724.27,kSM0_vbfWW = 1220.86), !coefList=(binWidth_twoSelJets_dphijj = 6.6847,binWidth_twoSelJets_dphijj = 6.6847,binWidth_twoSelJets_dphijj = 6.6847,binWidth_twoSelJets_dphijj = 6.6847,binWidth_twoSelJets_dphijj = 6.6847,binWidth_twoSelJets_dphijj = 6.6847,binWidth_twoSelJets_dphijj = 6.6847,binWidth_twoSelJets_dphijj = 6.6847,binWidth_twoSelJets_dphijj = 6.6847,binWidth_twoSelJets_dphijj = 6.6847,binWidth_twoSelJets_dphijj = 6.6847,binWidth_twoSelJets_dphijj = 6.6847,binWidth_twoSelJets_dphijj = 6.6847,binWidth_twoSelJets_dphijj = 6.6847,binWidth_twoSelJets_dphijj = 6.6847)\n",
      "     getLogVal() top-level p.d.f evaluates to zero @ !funcList=(kAwwkHwwkSM0_vbfWW = 938.896,kAwwkHwwkSM1_vbfWW = -214.02,kAwwkHwwkSM10_vbfWW = -506.414,kAwwkHwwkSM11_vbfWW = -315.94,kAwwkHwwkSM12_vbfWW = 1717.04,kAwwkHwwkSM13_vbfWW = 86.5446,kAwwkHwwkSM2_vbfWW = -1944.63,kAwwkHwwkSM3_vbfWW = 105.296,kAwwkHwwkSM4_vbfWW = 136.265,kAwwkHwwkSM5_vbfWW = -345.763,kAwwkHwwkSM6_vbfWW = -125.917,kAwwkHwwkSM7_vbfWW = 1117.99,kAwwkHwwkSM8_vbfWW = 820.863,kAwwkHwwkSM9_vbfWW = -2724.27,kSM0_vbfWW = 1220.86), !coefList=(binWidth_twoSelJets_dphijj = 6.6847,binWidth_twoSelJets_dphijj = 6.6847,binWidth_twoSelJets_dphijj = 6.6847,binWidth_twoSelJets_dphijj = 6.6847,binWidth_twoSelJets_dphijj = 6.6847,binWidth_twoSelJets_dphijj = 6.6847,binWidth_twoSelJets_dphijj = 6.6847,binWidth_twoSelJets_dphijj = 6.6847,binWidth_twoSelJets_dphijj = 6.6847,binWidth_twoSelJets_dphijj = 6.6847,binWidth_twoSelJets_dphijj = 6.6847,binWidth_twoSelJets_dphijj = 6.6847,binWidth_twoSelJets_dphijj = 6.6847,binWidth_twoSelJets_dphijj = 6.6847,binWidth_twoSelJets_dphijj = 6.6847)\n",
      "     p.d.f value is less than zero (-141.975335), forcing value to zero @ !funcList=(kAwwkHwwkSM0_vbfWW = 831.594,kAwwkHwwkSM1_vbfWW = -202.195,kAwwkHwwkSM10_vbfWW = -455.758,kAwwkHwwkSM11_vbfWW = -351.439,kAwwkHwwkSM12_vbfWW = 1604.94,kAwwkHwwkSM13_vbfWW = 102.158,kAwwkHwwkSM2_vbfWW = -1922.43,kAwwkHwwkSM3_vbfWW = 124.986,kAwwkHwwkSM4_vbfWW = 124.536,kAwwkHwwkSM5_vbfWW = -377.089,kAwwkHwwkSM6_vbfWW = -132.396,kAwwkHwwkSM7_vbfWW = 1135.07,kAwwkHwwkSM8_vbfWW = 746.445,kAwwkHwwkSM9_vbfWW = -2485.63,kSM0_vbfWW = 1235.97), !coefList=(binWidth_twoSelJets_dphijj = 6.6847,binWidth_twoSelJets_dphijj = 6.6847,binWidth_twoSelJets_dphijj = 6.6847,binWidth_twoSelJets_dphijj = 6.6847,binWidth_twoSelJets_dphijj = 6.6847,binWidth_twoSelJets_dphijj = 6.6847,binWidth_twoSelJets_dphijj = 6.6847,binWidth_twoSelJets_dphijj = 6.6847,binWidth_twoSelJets_dphijj = 6.6847,binWidth_twoSelJets_dphijj = 6.6847,binWidth_twoSelJets_dphijj = 6.6847,binWidth_twoSelJets_dphijj = 6.6847,binWidth_twoSelJets_dphijj = 6.6847,binWidth_twoSelJets_dphijj = 6.6847,binWidth_twoSelJets_dphijj = 6.6847)\n",
      "     getLogVal() top-level p.d.f evaluates to zero @ !funcList=(kAwwkHwwkSM0_vbfWW = 831.594,kAwwkHwwkSM1_vbfWW = -202.195,kAwwkHwwkSM10_vbfWW = -455.758,kAwwkHwwkSM11_vbfWW = -351.439,kAwwkHwwkSM12_vbfWW = 1604.94,kAwwkHwwkSM13_vbfWW = 102.158,kAwwkHwwkSM2_vbfWW = -1922.43,kAwwkHwwkSM3_vbfWW = 124.986,kAwwkHwwkSM4_vbfWW = 124.536,kAwwkHwwkSM5_vbfWW = -377.089,kAwwkHwwkSM6_vbfWW = -132.396,kAwwkHwwkSM7_vbfWW = 1135.07,kAwwkHwwkSM8_vbfWW = 746.445,kAwwkHwwkSM9_vbfWW = -2485.63,kSM0_vbfWW = 1235.97), !coefList=(binWidth_twoSelJets_dphijj = 6.6847,binWidth_twoSelJets_dphijj = 6.6847,binWidth_twoSelJets_dphijj = 6.6847,binWidth_twoSelJets_dphijj = 6.6847,binWidth_twoSelJets_dphijj = 6.6847,binWidth_twoSelJets_dphijj = 6.6847,binWidth_twoSelJets_dphijj = 6.6847,binWidth_twoSelJets_dphijj = 6.6847,binWidth_twoSelJets_dphijj = 6.6847,binWidth_twoSelJets_dphijj = 6.6847,binWidth_twoSelJets_dphijj = 6.6847,binWidth_twoSelJets_dphijj = 6.6847,binWidth_twoSelJets_dphijj = 6.6847,binWidth_twoSelJets_dphijj = 6.6847,binWidth_twoSelJets_dphijj = 6.6847)\n",
      "     p.d.f value is less than zero (-170.652926), forcing value to zero @ !funcList=(kAwwkHwwkSM0_vbfWW = 892.582,kAwwkHwwkSM1_vbfWW = -215.174,kAwwkHwwkSM10_vbfWW = -488.133,kAwwkHwwkSM11_vbfWW = -362.25,kAwwkHwwkSM12_vbfWW = 1634.54,kAwwkHwwkSM13_vbfWW = 115.888,kAwwkHwwkSM2_vbfWW = -1936.64,kAwwkHwwkSM3_vbfWW = 141.908,kAwwkHwwkSM4_vbfWW = 123.731,kAwwkHwwkSM5_vbfWW = -391.45,kAwwkHwwkSM6_vbfWW = -132.494,kAwwkHwwkSM7_vbfWW = 1124.11,kAwwkHwwkSM8_vbfWW = 766.415,kAwwkHwwkSM9_vbfWW = -2623.91,kSM0_vbfWW = 1325.36), !coefList=(binWidth_twoSelJets_dphijj = 6.6847,binWidth_twoSelJets_dphijj = 6.6847,binWidth_twoSelJets_dphijj = 6.6847,binWidth_twoSelJets_dphijj = 6.6847,binWidth_twoSelJets_dphijj = 6.6847,binWidth_twoSelJets_dphijj = 6.6847,binWidth_twoSelJets_dphijj = 6.6847,binWidth_twoSelJets_dphijj = 6.6847,binWidth_twoSelJets_dphijj = 6.6847,binWidth_twoSelJets_dphijj = 6.6847,binWidth_twoSelJets_dphijj = 6.6847,binWidth_twoSelJets_dphijj = 6.6847,binWidth_twoSelJets_dphijj = 6.6847,binWidth_twoSelJets_dphijj = 6.6847,binWidth_twoSelJets_dphijj = 6.6847)\n",
      "     getLogVal() top-level p.d.f evaluates to zero @ !funcList=(kAwwkHwwkSM0_vbfWW = 892.582,kAwwkHwwkSM1_vbfWW = -215.174,kAwwkHwwkSM10_vbfWW = -488.133,kAwwkHwwkSM11_vbfWW = -362.25,kAwwkHwwkSM12_vbfWW = 1634.54,kAwwkHwwkSM13_vbfWW = 115.888,kAwwkHwwkSM2_vbfWW = -1936.64,kAwwkHwwkSM3_vbfWW = 141.908,kAwwkHwwkSM4_vbfWW = 123.731,kAwwkHwwkSM5_vbfWW = -391.45,kAwwkHwwkSM6_vbfWW = -132.494,kAwwkHwwkSM7_vbfWW = 1124.11,kAwwkHwwkSM8_vbfWW = 766.415,kAwwkHwwkSM9_vbfWW = -2623.91,kSM0_vbfWW = 1325.36), !coefList=(binWidth_twoSelJets_dphijj = 6.6847,binWidth_twoSelJets_dphijj = 6.6847,binWidth_twoSelJets_dphijj = 6.6847,binWidth_twoSelJets_dphijj = 6.6847,binWidth_twoSelJets_dphijj = 6.6847,binWidth_twoSelJets_dphijj = 6.6847,binWidth_twoSelJets_dphijj = 6.6847,binWidth_twoSelJets_dphijj = 6.6847,binWidth_twoSelJets_dphijj = 6.6847,binWidth_twoSelJets_dphijj = 6.6847,binWidth_twoSelJets_dphijj = 6.6847,binWidth_twoSelJets_dphijj = 6.6847,binWidth_twoSelJets_dphijj = 6.6847,binWidth_twoSelJets_dphijj = 6.6847,binWidth_twoSelJets_dphijj = 6.6847)\n",
      "RooNLLVar::nll_vbfWW_morphfunc_validation[ paramSet=(Lambda,binWidth_twoSelJets_dphijj,cosa,kAaa,kAww,kAza,kAzz,kHaa,kHda,kHdwI,kHdwR,kHdz,kHww,kHza,kHzz,kSM,nNP0,nNP1,nNP2) ]\n",
      "     function value is NAN @ paramSet=(Lambda = 1000 +/- 0.01,binWidth_twoSelJets_dphijj = 6.6847,cosa = 0.707107 +/- 0.01,kAaa = 0,kAww = -15.641 +/- 0.01,kAza = 0,kAzz = 0,kHaa = 0,kHda = 0,kHdwI = 0,kHdwR = 0,kHdz = 0,kHww = 1.01444 +/- 0.01,kHza = 0,kHzz = 0,kSM = -0.862782 +/- 0.01,nNP0 = 1,nNP1 = 1,nNP2 = 1)\n",
      "\n",
      " MIGRAD MINIMIZATION HAS CONVERGED.\n",
      " MIGRAD WILL VERIFY CONVERGENCE AND ERROR MATRIX.\n",
      " COVARIANCE MATRIX CALCULATED SUCCESSFULLY\n",
      " FCN=-10779.4 FROM MIGRAD    STATUS=CONVERGED     253 CALLS         254 TOTAL\n",
      "                     EDM=0.000130125    STRATEGY= 1      ERROR MATRIX ACCURATE \n",
      "  EXT PARAMETER                                   STEP         FIRST   \n",
      "  NO.   NAME      VALUE            ERROR          SIZE      DERIVATIVE \n",
      "   1  kAww         2.74753e+00   4.43044e+00   1.25258e-03   3.95275e-01\n",
      "   2  kHww        -4.32934e+00   8.59889e-01   1.56863e-03  -3.74727e-01\n",
      "   3  kSM          1.44053e+00   1.35484e-01   2.92000e-04   1.56501e+00\n",
      "                               ERR DEF= 0.5\n",
      " EXTERNAL ERROR MATRIX.    NDIM=  25    NPAR=  3    ERR DEF=0.5\n",
      "  2.019e+01  2.488e+00 -5.887e-01 \n",
      "  2.488e+00  7.418e-01 -5.059e-02 \n",
      " -5.887e-01 -5.059e-02  1.837e-02 \n",
      " PARAMETER  CORRELATION COEFFICIENTS  \n",
      "       NO.  GLOBAL      1      2      3\n",
      "        1  0.99807   1.000  0.643 -0.967\n",
      "        2  0.97581   0.643  1.000 -0.433\n",
      "        3  0.99732  -0.967 -0.433  1.000\n",
      " **********\n",
      " **    7 **SET ERR         0.5\n",
      " **********\n",
      " **********\n",
      " **    8 **SET PRINT           1\n",
      " **********\n",
      " **********\n",
      " **    9 **HESSE        1500\n",
      " **********\n",
      " COVARIANCE MATRIX CALCULATED SUCCESSFULLY\n",
      " FCN=-10779.4 FROM HESSE     STATUS=OK             16 CALLS         270 TOTAL\n",
      "                     EDM=0.000109254    STRATEGY= 1      ERROR MATRIX ACCURATE \n",
      "  EXT PARAMETER                                INTERNAL      INTERNAL  \n",
      "  NO.   NAME      VALUE            ERROR       STEP SIZE       VALUE   \n",
      "   1  kAww         2.74753e+00   3.01846e+00   2.50516e-04   1.75204e-01\n",
      "   2  kHww        -4.32934e+00   7.52105e-01   3.13726e-04  -4.62656e-01\n",
      "   3  kSM          1.44053e+00   9.50020e-02   5.84000e-05   5.34378e-01\n",
      "                               ERR DEF= 0.5\n",
      " EXTERNAL ERROR MATRIX.    NDIM=  25    NPAR=  3    ERR DEF=0.5\n",
      "  9.228e+00  1.126e+00 -2.690e-01 \n",
      "  1.126e+00  5.671e-01 -1.116e-02 \n",
      " -2.690e-01 -1.116e-02  9.030e-03 \n",
      " PARAMETER  CORRELATION COEFFICIENTS  \n",
      "       NO.  GLOBAL      1      2      3\n",
      "        1  0.99577   1.000  0.492 -0.932\n",
      "        2  0.96823   0.492  1.000 -0.156\n",
      "        3  0.99455  -0.932 -0.156  1.000\n",
      "[#1] INFO:Fitting -- RooAbsPdf::fitTo(vbfWW_morphfunc) Calculating sum-of-weights-squared correction matrix for covariance matrix\n",
      " **********\n",
      " **   10 **SET ERR         0.5\n",
      " **********\n",
      " **********\n",
      " **   11 **SET PRINT           1\n",
      " **********\n",
      " **********\n",
      " **   12 **HESSE        1500\n",
      " **********\n",
      " COVARIANCE MATRIX CALCULATED SUCCESSFULLY\n",
      " FCN=-10779.4 FROM HESSE     STATUS=OK             16 CALLS         286 TOTAL\n",
      "                     EDM=0.000107591    STRATEGY= 1      ERROR MATRIX ACCURATE \n",
      "  EXT PARAMETER                                INTERNAL      INTERNAL  \n",
      "  NO.   NAME      VALUE            ERROR       STEP SIZE       VALUE   \n",
      "   1  kAww         2.74753e+00   2.86886e+00   5.01031e-05   1.75204e-01\n",
      "   2  kHww        -4.32934e+00   7.42074e-01   6.27452e-05  -4.62656e-01\n",
      "   3  kSM          1.44053e+00   9.08571e-02   1.16800e-05   5.34378e-01\n",
      "                               ERR DEF= 0.5\n",
      " EXTERNAL ERROR MATRIX.    NDIM=  25    NPAR=  3    ERR DEF=0.5\n",
      "  8.326e+00  1.014e+00 -2.426e-01 \n",
      "  1.014e+00  5.520e-01 -7.946e-03 \n",
      " -2.426e-01 -7.946e-03  8.259e-03 \n",
      " PARAMETER  CORRELATION COEFFICIENTS  \n",
      "       NO.  GLOBAL      1      2      3\n",
      "        1  0.99531   1.000  0.473 -0.925\n",
      "        2  0.96735   0.473  1.000 -0.118\n",
      "        3  0.99404  -0.925 -0.118  1.000\n",
      "cosa: 0.707107 (const)\n",
      "Lambda: 1000 (const)\n",
      "kSM: 1.44053 +0.0908571 -0 (-2.82843 - 2.82843)\n",
      "kHaa: 0 (const)\n",
      "kAaa: 0 (const)\n",
      "kHza: 0 (const)\n",
      "kAza: 0 (const)\n",
      "kHzz: 0 (const)\n",
      "kAzz: 0 (const)\n",
      "kHdz: 0 (const)\n",
      "kHww: -4.32934 +0.742074 -0 (-9.69994 - 9.69994)\n",
      "kAww: 2.74753 +2.86886 -0 (-15.7624 - 15.7624)\n",
      "kHdwR: 0 (const)\n",
      "kHdwI: 0 (const)\n",
      "kHda: 0 (const)\n"
     ]
    }
   ],
   "source": [
    "target = ROOT.RooLagrangianMorphing.makeDataHistogram(validation,morphfunc.getObservable(),\"validation\") # convert the target to a RooDataHist\n",
    "morphfunc.setParameters(validationsample);\n",
    "morphfunc.setParameterConstant(\"Lambda\",True);\n",
    "morphfunc.setParameterConstant(\"cosa\",True);\n",
    "morphfunc.randomizeParameters(2); # randomize the parameters by 2 standard deviations to give the fit something to do\n",
    "morphfunc.printParameters();\n",
    "morphfunc.getPdf().fitTo(target,ROOT.RooFit.SumW2Error(True),ROOT.RooFit.Optimize(False)); # run the fit\n",
    "morphfunc.printParameters();\n",
    "fitresult = morphfunc.createTH1(\"fit result\");"
   ]
  },
  {
   "cell_type": "markdown",
   "metadata": {},
   "source": [
    "## Print the pretty plots!\n",
    "we use the canvas created above and add legend in order to plot both histograms - the one obtained from the validation sample and the morphing prediction for the same parameter set and now the fit also."
   ]
  },
  {
   "cell_type": "code",
   "execution_count": 11,
   "metadata": {},
   "outputs": [
    {
     "data": {
      "text/html": [
       "\n",
       "<div id=\"root_plot_1\"\n",
       "     style=\"width: 696px; height: 472px\">\n",
       "</div>\n",
       "\n",
       "<script>\n",
       " requirejs.config({\n",
       "     paths: {\n",
       "       'JSRootCore' : 'https://root.cern.ch/js/notebook//scripts/JSRootCore',\n",
       "     }\n",
       "   });\n",
       " require(['JSRootCore'],\n",
       "     function(Core) {\n",
       "       var obj = Core.JSONR_unref({\"_typename\":\"TCanvas\",\"fUniqueID\":0,\"fBits\":53673992,\"fLineColor\":1,\"fLineStyle\":1,\"fLineWidth\":1,\"fFillColor\":0,\"fFillStyle\":1001,\"fLeftMargin\":0.1,\"fRightMargin\":0.1,\"fBottomMargin\":0.1,\"fTopMargin\":0.1,\"fXfile\":2,\"fYfile\":2,\"fAfile\":1,\"fXstat\":0.99,\"fYstat\":0.99,\"fAstat\":2,\"fFrameFillColor\":0,\"fFrameLineColor\":1,\"fFrameFillStyle\":1001,\"fFrameLineStyle\":1,\"fFrameLineWidth\":1,\"fFrameBorderSize\":1,\"fFrameBorderMode\":0,\"fX1\":-0.392687529257501,\"fY1\":31.8232250984618,\"fX2\":3.5341875292575,\"fY2\":204.395731984906,\"fXtoAbsPixelk\":69.6000541484835,\"fXtoPixelk\":69.6000541484835,\"fXtoPixel\":177.240169251324,\"fYtoAbsPixelk\":559.039188026532,\"fYtoPixelk\":559.039188026532,\"fYtoPixel\":-2.73508224754818,\"fUtoAbsPixelk\":5e-5,\"fUtoPixelk\":5e-5,\"fUtoPixel\":696,\"fVtoAbsPixelk\":472.00005,\"fVtoPixelk\":472,\"fVtoPixel\":-472,\"fAbsPixeltoXk\":-0.392687529257501,\"fPixeltoXk\":-0.392687529257501,\"fPixeltoX\":0.00564206186568247,\"fAbsPixeltoYk\":204.395731984906,\"fPixeltoYk\":31.8232250984618,\"fPixeltoY\":-0.365619717979755,\"fXlowNDC\":0,\"fYlowNDC\":0,\"fXUpNDC\":0,\"fYUpNDC\":0,\"fWNDC\":1,\"fHNDC\":1,\"fAbsXlowNDC\":0,\"fAbsYlowNDC\":0,\"fAbsWNDC\":1,\"fAbsHNDC\":1,\"fUxmin\":0,\"fUymin\":49.0804768157186,\"fUxmax\":3.1415,\"fUymax\":187.13848026765,\"fTheta\":30,\"fPhi\":30,\"fAspectRatio\":0,\"fNumber\":0,\"fTickx\":0,\"fTicky\":0,\"fLogx\":0,\"fLogy\":0,\"fLogz\":0,\"fPadPaint\":0,\"fCrosshair\":0,\"fCrosshairPos\":0,\"fBorderSize\":2,\"fBorderMode\":0,\"fModified\":false,\"fGridx\":false,\"fGridy\":false,\"fAbsCoord\":false,\"fEditable\":true,\"fFixedAspectRatio\":false,\"fPrimitives\":{\"_typename\":\"TList\",\"name\":\"TList\",\"arr\":[{\"_typename\":\"TFrame\",\"fUniqueID\":0,\"fBits\":50331656,\"fLineColor\":1,\"fLineStyle\":1,\"fLineWidth\":1,\"fFillColor\":0,\"fFillStyle\":1001,\"fX1\":0,\"fY1\":49.0804768157186,\"fX2\":3.1415,\"fY2\":187.13848026765,\"fBorderSize\":1,\"fBorderMode\":0},{\"_typename\":\"TH1F\",\"fUniqueID\":0,\"fBits\":50332168,\"fName\":\"morphing\",\"fTitle\":\"morphing\",\"fLineColor\":632,\"fLineStyle\":1,\"fLineWidth\":1,\"fFillColor\":632,\"fFillStyle\":1001,\"fMarkerColor\":1,\"fMarkerStyle\":1,\"fMarkerSize\":1,\"fNcells\":23,\"fXaxis\":{\"_typename\":\"TAxis\",\"fUniqueID\":0,\"fBits\":50331656,\"fName\":\"xaxis\",\"fTitle\":\"twoSelJets\\/dphijj\",\"fNdivisions\":510,\"fAxisColor\":1,\"fLabelColor\":1,\"fLabelFont\":42,\"fLabelOffset\":0.005,\"fLabelSize\":0.035,\"fTickLength\":0.03,\"fTitleOffset\":1,\"fTitleSize\":0.035,\"fTitleColor\":1,\"fTitleFont\":42,\"fNbins\":21,\"fXmin\":0,\"fXmax\":3.1415,\"fXbins\":[0,0.149595238095238,0.299190476190476,0.448785714285714,0.598380952380952,0.747976190476191,0.897571428571429,1.04716666666667,1.1967619047619,1.34635714285714,1.49595238095238,1.64554761904762,1.79514285714286,1.9447380952381,2.09433333333333,2.24392857142857,2.39352380952381,2.54311904761905,2.69271428571429,2.84230952380952,2.99190476190476,3.1415],\"fFirst\":0,\"fLast\":0,\"fBits2\":0,\"fTimeDisplay\":false,\"fTimeFormat\":\"\",\"fLabels\":null,\"fModLabs\":null},\"fYaxis\":{\"_typename\":\"TAxis\",\"fUniqueID\":0,\"fBits\":50331648,\"fName\":\"yaxis\",\"fTitle\":\"\",\"fNdivisions\":510,\"fAxisColor\":1,\"fLabelColor\":1,\"fLabelFont\":42,\"fLabelOffset\":0.005,\"fLabelSize\":0.035,\"fTickLength\":0.03,\"fTitleOffset\":0,\"fTitleSize\":0.035,\"fTitleColor\":1,\"fTitleFont\":42,\"fNbins\":1,\"fXmin\":0,\"fXmax\":1,\"fXbins\":[],\"fFirst\":0,\"fLast\":0,\"fBits2\":0,\"fTimeDisplay\":false,\"fTimeFormat\":\"\",\"fLabels\":null,\"fModLabs\":null},\"fZaxis\":{\"_typename\":\"TAxis\",\"fUniqueID\":0,\"fBits\":50331648,\"fName\":\"zaxis\",\"fTitle\":\"\",\"fNdivisions\":510,\"fAxisColor\":1,\"fLabelColor\":1,\"fLabelFont\":42,\"fLabelOffset\":0.005,\"fLabelSize\":0.035,\"fTickLength\":0.03,\"fTitleOffset\":1,\"fTitleSize\":0.035,\"fTitleColor\":1,\"fTitleFont\":42,\"fNbins\":1,\"fXmin\":0,\"fXmax\":1,\"fXbins\":[],\"fFirst\":0,\"fLast\":0,\"fBits2\":0,\"fTimeDisplay\":false,\"fTimeFormat\":\"\",\"fLabels\":null,\"fModLabs\":null},\"fBarOffset\":0,\"fBarWidth\":1000,\"fEntries\":21,\"fTsumw\":0,\"fTsumw2\":0,\"fTsumwx\":0,\"fTsumwx2\":0,\"fMaximum\":-1111,\"fMinimum\":-1111,\"fNormFactor\":0,\"fContour\":[],\"fSumw2\":[0,143.762531454217,129.423162561652,116.908785143241,109.36799453778,94.437679399738,83.8702065062234,73.4603307978883,69.1060722167708,62.6173137539765,61.5399262186951,58.0629292495749,56.2775624468852,56.6101869089272,57.7308026228407,60.0561404866494,64.5732608601945,68.9137765474921,79.1122427964754,88.3704196516688,95.8227829028583,105.121446321082,0],\"fOption\":\"\",\"fFunctions\":{\"_typename\":\"TList\",\"name\":\"TList\",\"arr\":[],\"opt\":[]},\"fBufferSize\":0,\"fBuffer\":[],\"fBinStatErrOpt\":0,\"fStatOverflows\":2,\"fArray\":[0,168.5742,151.4872,132.023,125.9815,107.1936,96.67002,81.80391,76.68905,70.43804,69.59406,67.38564,63.10291,63.52004,62.93969,66.87653,72.35032,78.79486,92.81443,100.2845,109.3281,121.2066,0]},{\"_typename\":\"TH1F\",\"fUniqueID\":0,\"fBits\":50331656,\"fName\":\"fit result\",\"fTitle\":\"fit result\",\"fLineColor\":1,\"fLineStyle\":1,\"fLineWidth\":1,\"fFillColor\":0,\"fFillStyle\":1001,\"fMarkerColor\":1,\"fMarkerStyle\":20,\"fMarkerSize\":1,\"fNcells\":23,\"fXaxis\":{\"_typename\":\"TAxis\",\"fUniqueID\":0,\"fBits\":50331648,\"fName\":\"xaxis\",\"fTitle\":\"\",\"fNdivisions\":510,\"fAxisColor\":1,\"fLabelColor\":1,\"fLabelFont\":42,\"fLabelOffset\":0.005,\"fLabelSize\":0.035,\"fTickLength\":0.03,\"fTitleOffset\":1,\"fTitleSize\":0.035,\"fTitleColor\":1,\"fTitleFont\":42,\"fNbins\":21,\"fXmin\":0,\"fXmax\":3.1415,\"fXbins\":[0,0.149595238095238,0.299190476190476,0.448785714285714,0.598380952380952,0.747976190476191,0.897571428571429,1.04716666666667,1.1967619047619,1.34635714285714,1.49595238095238,1.64554761904762,1.79514285714286,1.9447380952381,2.09433333333333,2.24392857142857,2.39352380952381,2.54311904761905,2.69271428571429,2.84230952380952,2.99190476190476,3.1415],\"fFirst\":0,\"fLast\":0,\"fBits2\":0,\"fTimeDisplay\":false,\"fTimeFormat\":\"\",\"fLabels\":null,\"fModLabs\":null},\"fYaxis\":{\"_typename\":\"TAxis\",\"fUniqueID\":0,\"fBits\":50331648,\"fName\":\"yaxis\",\"fTitle\":\"\",\"fNdivisions\":510,\"fAxisColor\":1,\"fLabelColor\":1,\"fLabelFont\":42,\"fLabelOffset\":0.005,\"fLabelSize\":0.035,\"fTickLength\":0.03,\"fTitleOffset\":0,\"fTitleSize\":0.035,\"fTitleColor\":1,\"fTitleFont\":42,\"fNbins\":1,\"fXmin\":0,\"fXmax\":1,\"fXbins\":[],\"fFirst\":0,\"fLast\":0,\"fBits2\":0,\"fTimeDisplay\":false,\"fTimeFormat\":\"\",\"fLabels\":null,\"fModLabs\":null},\"fZaxis\":{\"_typename\":\"TAxis\",\"fUniqueID\":0,\"fBits\":50331648,\"fName\":\"zaxis\",\"fTitle\":\"\",\"fNdivisions\":510,\"fAxisColor\":1,\"fLabelColor\":1,\"fLabelFont\":42,\"fLabelOffset\":0.005,\"fLabelSize\":0.035,\"fTickLength\":0.03,\"fTitleOffset\":1,\"fTitleSize\":0.035,\"fTitleColor\":1,\"fTitleFont\":42,\"fNbins\":1,\"fXmin\":0,\"fXmax\":1,\"fXbins\":[],\"fFirst\":0,\"fLast\":0,\"fBits2\":0,\"fTimeDisplay\":false,\"fTimeFormat\":\"\",\"fLabels\":null,\"fModLabs\":null},\"fBarOffset\":0,\"fBarWidth\":1000,\"fEntries\":21,\"fTsumw\":0,\"fTsumw2\":0,\"fTsumwx\":0,\"fTsumwx2\":0,\"fMaximum\":-1111,\"fMinimum\":-1111,\"fNormFactor\":0,\"fContour\":[],\"fSumw2\":[0,138.665971321155,123.215013021459,112.843791795679,104.317467814923,90.5829114915057,80.0445323242073,71.0851445110217,65.510867335888,60.2326446743727,58.7486259673585,56.0074309813526,54.4320228168485,54.6347236360679,56.0391124412464,58.4991297849267,62.6163086051305,67.4658923016465,75.6786324579632,84.3517230540377,91.4592596237925,100.164569241633,0],\"fOption\":\"\",\"fFunctions\":{\"_typename\":\"TList\",\"name\":\"TList\",\"arr\":[],\"opt\":[]},\"fBufferSize\":0,\"fBuffer\":[],\"fBinStatErrOpt\":0,\"fStatOverflows\":2,\"fArray\":[0,171.2417,149.8808,131.5235,123.8996,107.0566,95.99478,82.1338,75.14514,69.76781,68.17732,66.76493,62.47004,62.64544,61.44634,66.19045,71.87526,79.74284,91.59052,98.75914,108.2294,120.0284,0]},{\"_typename\":\"TH1F\",\"fUniqueID\":0,\"fBits\":50331656,\"fName\":\"dphijj\",\"fTitle\":\"v1\",\"fLineColor\":602,\"fLineStyle\":1,\"fLineWidth\":1,\"fFillColor\":0,\"fFillStyle\":1001,\"fMarkerColor\":1,\"fMarkerStyle\":1,\"fMarkerSize\":1,\"fNcells\":23,\"fXaxis\":{\"_typename\":\"TAxis\",\"fUniqueID\":0,\"fBits\":50331648,\"fName\":\"((abs(DiJetCand[0].part(0).phi() - DiJetCand[0].part(1).phi()) > TMath::Pi()) ? (abs(DiJetCand[0].part(0).phi() - DiJetCand[0].part(1).phi()) - TMath::Pi()) : (abs(DiJetCand[0].part(0).phi() - DiJetCand[0].part(1).phi())))\",\"fTitle\":\"#Delta #phi_{jj}\",\"fNdivisions\":510,\"fAxisColor\":1,\"fLabelColor\":1,\"fLabelFont\":42,\"fLabelOffset\":0.005,\"fLabelSize\":0.035,\"fTickLength\":0.03,\"fTitleOffset\":1,\"fTitleSize\":0.035,\"fTitleColor\":1,\"fTitleFont\":42,\"fNbins\":21,\"fXmin\":0,\"fXmax\":3.1415,\"fXbins\":[],\"fFirst\":0,\"fLast\":0,\"fBits2\":0,\"fTimeDisplay\":false,\"fTimeFormat\":\"\",\"fLabels\":null,\"fModLabs\":null},\"fYaxis\":{\"_typename\":\"TAxis\",\"fUniqueID\":0,\"fBits\":50331648,\"fName\":\"yaxis\",\"fTitle\":\"\",\"fNdivisions\":510,\"fAxisColor\":1,\"fLabelColor\":1,\"fLabelFont\":42,\"fLabelOffset\":0.005,\"fLabelSize\":0.035,\"fTickLength\":0.03,\"fTitleOffset\":1,\"fTitleSize\":0.035,\"fTitleColor\":1,\"fTitleFont\":42,\"fNbins\":1,\"fXmin\":0,\"fXmax\":1,\"fXbins\":[],\"fFirst\":0,\"fLast\":0,\"fBits2\":0,\"fTimeDisplay\":false,\"fTimeFormat\":\"\",\"fLabels\":null,\"fModLabs\":null},\"fZaxis\":{\"_typename\":\"TAxis\",\"fUniqueID\":0,\"fBits\":50331648,\"fName\":\"zaxis\",\"fTitle\":\"\",\"fNdivisions\":510,\"fAxisColor\":1,\"fLabelColor\":1,\"fLabelFont\":42,\"fLabelOffset\":0.005,\"fLabelSize\":0.035,\"fTickLength\":0.03,\"fTitleOffset\":1,\"fTitleSize\":0.035,\"fTitleColor\":1,\"fTitleFont\":42,\"fNbins\":1,\"fXmin\":0,\"fXmax\":1,\"fXbins\":[],\"fFirst\":0,\"fLast\":0,\"fBits2\":0,\"fTimeDisplay\":false,\"fTimeFormat\":\"\",\"fLabels\":null,\"fModLabs\":null},\"fBarOffset\":0,\"fBarWidth\":1000,\"fEntries\":116560,\"fTsumw\":0,\"fTsumw2\":0.70457895182404,\"fTsumwx\":60.0000171724863,\"fTsumwx2\":129.466974249404,\"fMaximum\":-1111,\"fMinimum\":-1111,\"fNormFactor\":0,\"fContour\":[],\"fSumw2\":[0,168.772338867188,148.330993652344,137.714309692383,126.62572479248,109.470497131348,93.7139663696289,83.7713241577148,76.4575653076172,70.1717834472656,64.2230224609375,62.9591217041016,65.486930847168,62.8748588562012,63.0265388488769,68.1663970947265,71.8064270019531,77.4518356323242,87.6809539794922,99.6795425415039,109.335662841797,116.548278808594,0],\"fOption\":\"\",\"fFunctions\":{\"_typename\":\"TList\",\"name\":\"TList\",\"arr\":[],\"opt\":[]},\"fBufferSize\":0,\"fBuffer\":[],\"fBinStatErrOpt\":0,\"fStatOverflows\":2,\"fArray\":[0,168.7723,148.331,137.7143,126.6257,109.4705,93.71397,83.77132,76.45757,70.17178,64.22302,62.95912,65.48693,62.87486,63.02654,68.1664,71.80643,77.45184,87.68095,99.67954,109.3357,116.5483,0]},{\"_typename\":\"TLegend\",\"fUniqueID\":0,\"fBits\":50331656,\"fLineColor\":1,\"fLineStyle\":1,\"fLineWidth\":1,\"fFillColor\":0,\"fFillStyle\":1001,\"fX1\":2.356125011703,\"fY1\":152.623979918973,\"fX2\":3.141500023406,\"fY2\":187.138481296262,\"fX1NDC\":0.7,\"fY1NDC\":0.7,\"fX2NDC\":0.9,\"fY2NDC\":0.9,\"fBorderSize\":1,\"fInit\":1,\"fShadowColor\":1,\"fCornerRadius\":0,\"fOption\":\"brNDC\",\"fName\":\"TPave\",\"fTextAngle\":0,\"fTextSize\":0,\"fTextAlign\":12,\"fTextColor\":1,\"fTextFont\":42,\"fPrimitives\":{\"_typename\":\"TList\",\"name\":\"TList\",\"arr\":[{\"_typename\":\"TLegendEntry\",\"fUniqueID\":0,\"fBits\":50331656,\"fTextAngle\":0,\"fTextSize\":0,\"fTextAlign\":0,\"fTextColor\":0,\"fTextFont\":42,\"fLineColor\":1,\"fLineStyle\":1,\"fLineWidth\":1,\"fFillColor\":0,\"fFillStyle\":1001,\"fMarkerColor\":1,\"fMarkerStyle\":20,\"fMarkerSize\":1,\"fObject\":{\"$ref\":8},\"fLabel\":\"fit result\",\"fOption\":\"lpf\"},{\"_typename\":\"TLegendEntry\",\"fUniqueID\":0,\"fBits\":50331656,\"fTextAngle\":0,\"fTextSize\":0,\"fTextAlign\":0,\"fTextColor\":0,\"fTextFont\":42,\"fLineColor\":632,\"fLineStyle\":1,\"fLineWidth\":1,\"fFillColor\":632,\"fFillStyle\":1001,\"fMarkerColor\":1,\"fMarkerStyle\":1,\"fMarkerSize\":1,\"fObject\":{\"$ref\":3},\"fLabel\":\"morphing\",\"fOption\":\"lpf\"},{\"_typename\":\"TLegendEntry\",\"fUniqueID\":0,\"fBits\":50331656,\"fTextAngle\":0,\"fTextSize\":0,\"fTextAlign\":0,\"fTextColor\":0,\"fTextFont\":42,\"fLineColor\":602,\"fLineStyle\":1,\"fLineWidth\":1,\"fFillColor\":0,\"fFillStyle\":1001,\"fMarkerColor\":1,\"fMarkerStyle\":1,\"fMarkerSize\":1,\"fObject\":{\"$ref\":13},\"fLabel\":\"v1\",\"fOption\":\"lpf\"}],\"opt\":[\"lpf\",\"lpf\",\"lpf\"]},\"fEntrySeparation\":0.1,\"fMargin\":0.25,\"fNColumns\":1,\"fColumnSeparation\":0}],\"opt\":[\"\",\"E3\",\"PSAME\",\"SAME\",\"\"]},\"fExecs\":null,\"fName\":\"plot\",\"fTitle\":\"\",\"fNumPaletteColor\":0,\"fNextPaletteColor\":0,\"fDISPLAY\":\"$DISPLAY\",\"fDoubleBuffer\":0,\"fRetained\":true,\"fXsizeUser\":0,\"fYsizeUser\":0,\"fXsizeReal\":20,\"fYsizeReal\":14.28571,\"fWindowTopX\":0,\"fWindowTopY\":0,\"fWindowWidth\":0,\"fWindowHeight\":0,\"fCw\":696,\"fCh\":472,\"fCatt\":{\"_typename\":\"TAttCanvas\",\"fXBetween\":2,\"fYBetween\":2,\"fTitleFromTop\":1.2,\"fXdate\":0.2,\"fYdate\":0.3,\"fAdate\":1},\"kMoveOpaque\":true,\"kResizeOpaque\":true,\"fHighLightColor\":2,\"fBatch\":true,\"kShowEventStatus\":false,\"kAutoExec\":true,\"kMenuBar\":true});\n",
       "       Core.draw(\"root_plot_1\", obj, \"\");\n",
       "     }\n",
       " );\n",
       "</script>\n"
      ],
      "text/plain": [
       "<IPython.core.display.HTML object>"
      ]
     },
     "metadata": {},
     "output_type": "display_data"
    }
   ],
   "source": [
    "plot = ROOT.TCanvas(\"plot\")\n",
    "plot.cd()\n",
    "ROOT.gStyle.SetOptStat(0)\n",
    "ROOT.gStyle.SetOptTitle(0)\n",
    "morphing.GetXaxis().SetTitle(observable)\n",
    "morphing.SetLineColor(ROOT.kRed)\n",
    "morphing.SetFillColor(ROOT.kRed)\n",
    "morphing.SetStats(0)\n",
    "morphing.Draw(\"E3\")\n",
    "fitresult.SetLineColor(ROOT.kBlack);\n",
    "fitresult.SetMarkerColor(ROOT.kBlack);\n",
    "fitresult.SetMarkerStyle(20);\n",
    "fitresult.Draw(\"PSAME\");\n",
    "validation.Draw(\"SAME\")\n",
    "leg = ROOT.TLegend(0.7,0.7,0.9,0.9)\n",
    "leg.AddEntry(fitresult)\n",
    "leg.AddEntry(morphing)\n",
    "leg.AddEntry(validation)\n",
    "leg.Draw()\n",
    "plot.Draw()"
   ]
  },
  {
   "cell_type": "markdown",
   "metadata": {},
   "source": [
    "![ah that fit!](https://media2.giphy.com/media/xEECLnuSQWQes/giphy.gif?cid=790b76115ca4e6ae576c7654559d5694 \"ah\")"
   ]
  },
  {
   "cell_type": "markdown",
   "metadata": {},
   "source": [
    "## Playground\n",
    "- Use the `printParameters` method right after setting the parameters of your validation sample and compare the numbers to those obtained after the fit. Did you achieve closure?\n",
    "- Like most complex fit models, it's easy to choose parameter settings in which the fit does either not converge or not find the right minimum. Try to get a feeling for how close to the target point you need to choose your initial values to make the fit converge to the correct minimum!\n",
    "- You will quickly notice that the fit is much more sensitive to some parameters than it is to others. Which parameters are especially unstable?"
   ]
  },
  {
   "cell_type": "code",
   "execution_count": null,
   "metadata": {},
   "outputs": [],
   "source": []
  }
 ],
 "metadata": {
  "kernelspec": {
   "display_name": "Python 2",
   "language": "python",
   "name": "python2"
  },
  "language_info": {
   "codemirror_mode": {
    "name": "ipython",
    "version": 2
   },
   "file_extension": ".py",
   "mimetype": "text/x-python",
   "name": "python",
   "nbconvert_exporter": "python",
   "pygments_lexer": "ipython2",
   "version": "2.7.15"
  }
 },
 "nbformat": 4,
 "nbformat_minor": 1
}
