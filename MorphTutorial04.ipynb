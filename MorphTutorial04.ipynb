{
 "cells": [
  {
   "cell_type": "markdown",
   "metadata": {},
   "source": [
    "# Lesson #4: Fitting\n",
    "\n",
    "In this lesson, you will learn how to use the RooEFTMorphFunc to perform a fit to some pseudodata.\n",
    "\n",
    "![what a fitting image!](https://media1.tenor.com/images/348aad33def25e419aae7f5c1f341648/tenor.gif?itemid=5323722 \"what a fitting image\")\n",
    "\n",
    "\n",
    "As you have already seen, the morphing function mapping the parameter values to output distributions is very fast - much faster than any generator would be able to generate events! The reason for this is that all the complicated physics are pre-calculated and contained in the input histograms, of which the morphing only builds a linear combination. In fact, the computation of the morphing result is so quick that it effectively forms a contuinous model. It is even feasible to perform iterative optimizations (e.g. a likelihood fit) on the morphing function, which you will explore in this lesson."
   ]
  },
  {
   "cell_type": "markdown",
   "metadata": {},
   "source": [
    "## Setup files and samples\n",
    "\n",
    "These are set up as before. The identifier is just a hook to specify the name in the file structure."
   ]
  },
  {
   "cell_type": "code",
   "execution_count": 1,
   "metadata": {},
   "outputs": [
    {
     "name": "stdout",
     "output_type": "stream",
     "text": [
      "\n",
      "\u001b[1mRooFit v3.60 -- Developed by Wouter Verkerke and David Kirkby\u001b[0m \n",
      "                Copyright (C) 2000-2013 NIKHEF, University of California & Stanford University\n",
      "                All rights reserved, please read http://roofit.sourceforge.net/license.txt\n",
      "\n",
      "(int) 0\n"
     ]
    }
   ],
   "source": [
    "gSystem->Load(\"libRooLagrangianMorphing\")"
   ]
  },
  {
   "cell_type": "code",
   "execution_count": 2,
   "metadata": {},
   "outputs": [
    {
     "name": "stdout",
     "output_type": "stream",
     "text": [
      "File ‘vbfhwwlvlv_3d.root’ already there; not retrieving.\n",
      "\n"
     ]
    }
   ],
   "source": [
    "!wget https://www.nikhef.nl/~cburgard/downloads/RooLagrangianMorphingTutorial/inputs/vbfhwwlvlv_3d.root -nc"
   ]
  },
  {
   "cell_type": "code",
   "execution_count": 3,
   "metadata": {},
   "outputs": [],
   "source": [
    "std::string identifier(\"vbfWW\"); // avaliable: ggfWW, vbfWW, vbfZZ, ggfZZ, vbfMuMu \n",
    "std::string infilename(\"vbfhwwlvlv_3d.root\"); // give the input file name here\n",
    "std::string observable(\"twoSelJets/dphijj\"); // name of the observable to be used (histogram name)"
   ]
  },
  {
   "cell_type": "markdown",
   "metadata": {},
   "source": [
    "Once again all 15 VBF parameters are considered."
   ]
  },
  {
   "cell_type": "code",
   "execution_count": 4,
   "metadata": {},
   "outputs": [],
   "source": [
    "std::vector<std::string> samplelist = {\"kAwwkHwwkSM0\",\"kAwwkHwwkSM1\",\"kAwwkHwwkSM10\",\"\",\"kAwwkHwwkSM11\",\"kAwwkHwwkSM12\",\"kAwwkHwwkSM13\",\"kAwwkHwwkSM2\",\"kAwwkHwwkSM3\",\"kAwwkHwwkSM4\",\"kAwwkHwwkSM5\",\"kAwwkHwwkSM6\",\"kAwwkHwwkSM7\",\"kAwwkHwwkSM8\",\"kAwwkHwwkSM9\",\"kSM0\"};\n",
    "// these are the validation samples: \"v0\",\"v1\",\"v2\",\"v3\",\"v4\",\"v5\",\"v6\",\"v7\",\"v8\",\"v9\""
   ]
  },
  {
   "cell_type": "markdown",
   "metadata": {},
   "source": [
    "push all the input samples in a RooArgList"
   ]
  },
  {
   "cell_type": "code",
   "execution_count": 5,
   "metadata": {},
   "outputs": [],
   "source": [
    "RooArgList inputs;\n",
    "for(auto const& sample: samplelist) {\n",
    "    RooStringVar* v = new RooStringVar(sample.c_str(),sample.c_str(),sample.c_str());\n",
    "    inputs.add(*v);\n",
    "}"
   ]
  },
  {
   "cell_type": "markdown",
   "metadata": {},
   "source": [
    "## setup predefined morphing function\n",
    "\n",
    "As in excercise 2 we use a pre-implemented specialized class called \"RooHCvbfWWMorphPdf\", that already knows about the vertex structure of this process. So all you really need to do is change the call to the constructor of your morphing function. You will later learn how to implement the morphing for completely new physics processes and create new specialized classes like this one for the process of your choice."
   ]
  },
  {
   "cell_type": "code",
   "execution_count": 6,
   "metadata": {},
   "outputs": [
    {
     "name": "stdout",
     "output_type": "stream",
     "text": [
      "\u001b[1mRooLagrangianMorphBase\u001b[0m: a RooFit class for morphing physics distributions between configurations. authors:\n",
      "   Lydia Brenner   (lbrenner@cern.ch)\n",
      "   Carsten Burgard (cburgard@cern.ch)\n",
      "   Katharina Ecker (kecker@cern.ch)\n",
      "   Adam Kaluza     (akaluza@cern.ch)\n",
      "please feel free to contact with questions and suggestions.\n"
     ]
    }
   ],
   "source": [
    "RooLagrangianMorphPdf* morphfunc = new RooHCvbfWWMorphPdf(identifier.c_str(),identifier.c_str(),infilename.c_str(),observable.c_str(),inputs);"
   ]
  },
  {
   "cell_type": "markdown",
   "metadata": {},
   "source": [
    "morph to the validation sample v1"
   ]
  },
  {
   "cell_type": "code",
   "execution_count": 7,
   "metadata": {},
   "outputs": [
    {
     "name": "stderr",
     "output_type": "stream",
     "text": [
      "ERROR: parameter Lambda out of bounds: 0 < 900\n"
     ]
    }
   ],
   "source": [
    "std::string validationsample(\"v1\");\n",
    "morphfunc->setParameters(validationsample.c_str());\n",
    "TH1* morphing = morphfunc->createTH1(\"morphing\");"
   ]
  },
  {
   "cell_type": "markdown",
   "metadata": {},
   "source": [
    "## Read The Validation Histogram\n",
    "\n",
    "We now retrieve the corresponding histogram of the validation sample from the same input file. "
   ]
  },
  {
   "cell_type": "code",
   "execution_count": 8,
   "metadata": {},
   "outputs": [],
   "source": [
    "TFile* file = TFile::Open(infilename.c_str(),\"READ\");\n",
    "TFolder* folder = 0;\n",
    "file->GetObject(validationsample.c_str(),folder);\n",
    "TH1* validation = dynamic_cast<TH1*>(folder->FindObject(observable.c_str()));\n",
    "validation->SetDirectory(NULL);\n",
    "validation->SetTitle(validationsample.c_str());\n",
    "file->Close();"
   ]
  },
  {
   "cell_type": "markdown",
   "metadata": {},
   "source": [
    "## setup the fit\n",
    "\n",
    "In order for this to work, we of course first need some pseudodata. For this, you can use one of the validation samples. This is especially useful because it will allow you to compare the nominal values of the parameters used in that sample with the ones that you will obtain from your fit. to obtain it, you can use the following line in C++:\n",
    "\n",
    "```RooDataHist* target = RooEFTMorphFunc::makeDataHistogram(validation,morphfunc->getObservable(),\"validation\");```\n",
    "\n",
    "or, similarly, in python:\n",
    "\n",
    "```target = RooEFTMorphFunc.makeDataHistogram(validation,morphfunc.getObservable(),\"validation\")```\n",
    "\n",
    "The following hints will help you understand the fit quickly:\n",
    "- Since the fit has multiple parameters and the likelihood is not always well-behaved, it helps to start in the proximity of your known (or expected) values.\n",
    "- Start off by calling \"setParameters\" to set the parameters of the validation sample you want to use as pseudodata.\n",
    "- In order to give the fit something to do, you probably want to vary the parameters just a bit. You can do this by either manually setting their values using the `setParameter` method, or by adding a random fluctuation using the \"randomizeParameters\" method, which takes the number of standard deviations by which to randomize as an argument. By default, the standard deviations of the input paremeters are set to 0.001.\n",
    "- You can also use the \"setParameterConstant\" method to freeze individual parameters before fitting.\n",
    "\n",
    "![why wont you work?!](https://media3.giphy.com/media/l2Je6sbvJEn1W9OWQ/giphy.gif?cid=790b76115ca4e577384c4937326de004 \"damn legos\")\n",
    "\n",
    "For the actual fit, you just need to retrieve the internal probability density function by calling the `getPdf` method, on which you can then call the standard Roofit method `fitTo`. Afterwards, you can all the RooEFTMorphFunc method `printParameters` to print to console the results of the fit.\n",
    "\n",
    "You should also call the `createTH1` method one more time after performing the fit and plot the distribution obtained from the fit on the same canvas. Ideally, all three distributions - the validation, the result of morphing to the nominal parameter values and the fit result should be compatible!"
   ]
  },
  {
   "cell_type": "code",
   "execution_count": 9,
   "metadata": {},
   "outputs": [
    {
     "name": "stdout",
     "output_type": "stream",
     "text": [
      "cosa: 0.707107 (const)\n",
      "Lambda: 1000 (const)\n",
      "kSM: 2.82843 +0 -0 (-2.82843 - 2.82843)\n",
      "kHaa: 0 (const)\n",
      "kAaa: 0 (const)\n",
      "kHza: 0 (const)\n",
      "kAza: 0 (const)\n",
      "kHzz: 0 (const)\n",
      "kAzz: 0 (const)\n",
      "kHdz: 0 (const)\n",
      "kHww: -0.566961 +0 -0 (-9.69994 - 9.69994)\n",
      "kAww: 8.82079 +0 -0 (-15.7624 - 15.7624)\n",
      "kHdwR: 0 (const)\n",
      "kHdwI: 0 (const)\n",
      "kHda: 0 (const)\n",
      "[#1] INFO:Minization -- p.d.f. provides expected number of events, including extended term in likelihood.\n",
      " **********\n",
      " **    1 **SET PRINT           1\n",
      " **********\n",
      " **********\n",
      " **    2 **SET NOGRAD\n",
      " **********\n",
      " PARAMETER DEFINITIONS:\n",
      "    NO.   NAME         VALUE      STEP SIZE      LIMITS\n",
      "     1 kAww         8.82079e+00  1.00000e-02   -1.57624e+01  1.57624e+01\n",
      "     2 kHww        -5.66961e-01  1.00000e-02   -9.69994e+00  9.69994e+00\n",
      "     3 kSM          2.82843e+00  1.00000e-02   -2.82843e+00  2.82843e+00\n",
      " MINUIT WARNING IN PARAM DEF\n",
      " ============== STARTING VALUE IS AT LIMIT.\n",
      " MINUIT WARNING IN PARAMETR\n",
      " ============== VARIABLE3 IS AT ITS UPPER ALLOWED LIMIT.\n",
      " MINUIT WARNING IN PARAMETR\n",
      " ============== VARIABLE3 BROUGHT BACK INSIDE LIMITS.\n",
      " **********\n",
      " **    3 **SET ERR         0.5\n",
      " **********\n",
      " **********\n",
      " **    4 **SET PRINT           1\n",
      " **********\n",
      " **********\n",
      " **    5 **SET STR           1\n",
      " **********\n",
      " NOW USING STRATEGY  1: TRY TO BALANCE SPEED AGAINST RELIABILITY\n",
      " **********\n",
      " **    6 **MIGRAD        1500           1\n",
      " **********\n",
      " FIRST CALL TO USER FUNCTION AT NEW START POINT, WITH IFLAG=4.\n",
      " MINUIT WARNING IN MIGrad    \n",
      " ============== VARIABLE3 IS AT ITS UPPER ALLOWED LIMIT.\n",
      " START MIGRAD MINIMIZATION.  STRATEGY  1.  CONVERGENCE WHEN EDM .LT. 1.00e-03\n",
      " FCN=-3605.8 FROM MIGRAD    STATUS=INITIATE       53 CALLS          54 TOTAL\n",
      "                     EDM= unknown      STRATEGY= 1      NO ERROR MATRIX       \n",
      "  EXT PARAMETER               CURRENT GUESS       STEP         FIRST   \n",
      "  NO.   NAME      VALUE            ERROR          SIZE      DERIVATIVE \n",
      "   1  kAww         8.82079e+00   1.00000e-02   0.00000e+00   1.69607e+04\n",
      "   2  kHww        -5.66961e-01   1.00000e-02   0.00000e+00   5.90301e+02\n",
      "   3  kSM          2.22344e+00   1.00000e-02  -2.28831e-01   2.51589e+04\n",
      "                               ERR DEF= 0.5\n",
      "[#0] WARNING:Minization -- RooMinimizerFcn: Minimized function has error status.\n",
      "Returning maximum FCN so far (8944.78) to force MIGRAD to back out of this region. Error log follows\n",
      "Parameter values: kAww=11.3802, kHww=0.0825506, kSM=0.442593\n",
      "RooRealSumPdf::vbfWW_morphfunc[ binWidth_twoSelJets_dphijj * kAwwkHwwkSM0_vbfWW + binWidth_twoSelJets_dphijj * kAwwkHwwkSM1_vbfWW + binWidth_twoSelJets_dphijj * kAwwkHwwkSM10_vbfWW + binWidth_twoSelJets_dphijj * kAwwkHwwkSM11_vbfWW + binWidth_twoSelJets_dphijj * kAwwkHwwkSM12_vbfWW + binWidth_twoSelJets_dphijj * kAwwkHwwkSM13_vbfWW + binWidth_twoSelJets_dphijj * kAwwkHwwkSM2_vbfWW + binWidth_twoSelJets_dphijj * kAwwkHwwkSM3_vbfWW + binWidth_twoSelJets_dphijj * kAwwkHwwkSM4_vbfWW + binWidth_twoSelJets_dphijj * kAwwkHwwkSM5_vbfWW + binWidth_twoSelJets_dphijj * kAwwkHwwkSM6_vbfWW + binWidth_twoSelJets_dphijj * kAwwkHwwkSM7_vbfWW + binWidth_twoSelJets_dphijj * kAwwkHwwkSM8_vbfWW + binWidth_twoSelJets_dphijj * kAwwkHwwkSM9_vbfWW + binWidth_twoSelJets_dphijj * kSM0_vbfWW ]\n",
      "     p.d.f value is less than zero (-328.299883), forcing value to zero @ !funcList=(kAwwkHwwkSM0_vbfWW = 487.846,kAwwkHwwkSM1_vbfWW = 82.5665,kAwwkHwwkSM10_vbfWW = -262.443,kAwwkHwwkSM11_vbfWW = -58.7782,kAwwkHwwkSM12_vbfWW = 591.813,kAwwkHwwkSM13_vbfWW = 86.2751,kAwwkHwwkSM2_vbfWW = -1086.01,kAwwkHwwkSM3_vbfWW = 26.2089,kAwwkHwwkSM4_vbfWW = 68.4111,kAwwkHwwkSM5_vbfWW = -282.231,kAwwkHwwkSM6_vbfWW = -232.53,kAwwkHwwkSM7_vbfWW = 707.018,kAwwkHwwkSM8_vbfWW = 358.653,kAwwkHwwkSM9_vbfWW = -1103.27,kSM0_vbfWW = 567.356), !coefList=(binWidth_twoSelJets_dphijj = 6.6847,binWidth_twoSelJets_dphijj = 6.6847,binWidth_twoSelJets_dphijj = 6.6847,binWidth_twoSelJets_dphijj = 6.6847,binWidth_twoSelJets_dphijj = 6.6847,binWidth_twoSelJets_dphijj = 6.6847,binWidth_twoSelJets_dphijj = 6.6847,binWidth_twoSelJets_dphijj = 6.6847,binWidth_twoSelJets_dphijj = 6.6847,binWidth_twoSelJets_dphijj = 6.6847,binWidth_twoSelJets_dphijj = 6.6847,binWidth_twoSelJets_dphijj = 6.6847,binWidth_twoSelJets_dphijj = 6.6847,binWidth_twoSelJets_dphijj = 6.6847,binWidth_twoSelJets_dphijj = 6.6847)\n",
      "     getLogVal() top-level p.d.f evaluates to zero @ !funcList=(kAwwkHwwkSM0_vbfWW = 487.846,kAwwkHwwkSM1_vbfWW = 82.5665,kAwwkHwwkSM10_vbfWW = -262.443,kAwwkHwwkSM11_vbfWW = -58.7782,kAwwkHwwkSM12_vbfWW = 591.813,kAwwkHwwkSM13_vbfWW = 86.2751,kAwwkHwwkSM2_vbfWW = -1086.01,kAwwkHwwkSM3_vbfWW = 26.2089,kAwwkHwwkSM4_vbfWW = 68.4111,kAwwkHwwkSM5_vbfWW = -282.231,kAwwkHwwkSM6_vbfWW = -232.53,kAwwkHwwkSM7_vbfWW = 707.018,kAwwkHwwkSM8_vbfWW = 358.653,kAwwkHwwkSM9_vbfWW = -1103.27,kSM0_vbfWW = 567.356), !coefList=(binWidth_twoSelJets_dphijj = 6.6847,binWidth_twoSelJets_dphijj = 6.6847,binWidth_twoSelJets_dphijj = 6.6847,binWidth_twoSelJets_dphijj = 6.6847,binWidth_twoSelJets_dphijj = 6.6847,binWidth_twoSelJets_dphijj = 6.6847,binWidth_twoSelJets_dphijj = 6.6847,binWidth_twoSelJets_dphijj = 6.6847,binWidth_twoSelJets_dphijj = 6.6847,binWidth_twoSelJets_dphijj = 6.6847,binWidth_twoSelJets_dphijj = 6.6847,binWidth_twoSelJets_dphijj = 6.6847,binWidth_twoSelJets_dphijj = 6.6847,binWidth_twoSelJets_dphijj = 6.6847,binWidth_twoSelJets_dphijj = 6.6847)\n",
      "     p.d.f value is less than zero (-161.919441), forcing value to zero @ !funcList=(kAwwkHwwkSM0_vbfWW = 287.402,kAwwkHwwkSM1_vbfWW = 48.4366,kAwwkHwwkSM10_vbfWW = -143.434,kAwwkHwwkSM11_vbfWW = -32.7372,kAwwkHwwkSM12_vbfWW = 374.095,kAwwkHwwkSM13_vbfWW = 42.8676,kAwwkHwwkSM2_vbfWW = -651.425,kAwwkHwwkSM3_vbfWW = 12.7687,kAwwkHwwkSM4_vbfWW = 39.9754,kAwwkHwwkSM5_vbfWW = -167.379,kAwwkHwwkSM6_vbfWW = -128.154,kAwwkHwwkSM7_vbfWW = 424.52,kAwwkHwwkSM8_vbfWW = 207.937,kAwwkHwwkSM9_vbfWW = -695.071,kSM0_vbfWW = 355.975), !coefList=(binWidth_twoSelJets_dphijj = 6.6847,binWidth_twoSelJets_dphijj = 6.6847,binWidth_twoSelJets_dphijj = 6.6847,binWidth_twoSelJets_dphijj = 6.6847,binWidth_twoSelJets_dphijj = 6.6847,binWidth_twoSelJets_dphijj = 6.6847,binWidth_twoSelJets_dphijj = 6.6847,binWidth_twoSelJets_dphijj = 6.6847,binWidth_twoSelJets_dphijj = 6.6847,binWidth_twoSelJets_dphijj = 6.6847,binWidth_twoSelJets_dphijj = 6.6847,binWidth_twoSelJets_dphijj = 6.6847,binWidth_twoSelJets_dphijj = 6.6847,binWidth_twoSelJets_dphijj = 6.6847,binWidth_twoSelJets_dphijj = 6.6847)\n",
      "     getLogVal() top-level p.d.f evaluates to zero @ !funcList=(kAwwkHwwkSM0_vbfWW = 287.402,kAwwkHwwkSM1_vbfWW = 48.4366,kAwwkHwwkSM10_vbfWW = -143.434,kAwwkHwwkSM11_vbfWW = -32.7372,kAwwkHwwkSM12_vbfWW = 374.095,kAwwkHwwkSM13_vbfWW = 42.8676,kAwwkHwwkSM2_vbfWW = -651.425,kAwwkHwwkSM3_vbfWW = 12.7687,kAwwkHwwkSM4_vbfWW = 39.9754,kAwwkHwwkSM5_vbfWW = -167.379,kAwwkHwwkSM6_vbfWW = -128.154,kAwwkHwwkSM7_vbfWW = 424.52,kAwwkHwwkSM8_vbfWW = 207.937,kAwwkHwwkSM9_vbfWW = -695.071,kSM0_vbfWW = 355.975), !coefList=(binWidth_twoSelJets_dphijj = 6.6847,binWidth_twoSelJets_dphijj = 6.6847,binWidth_twoSelJets_dphijj = 6.6847,binWidth_twoSelJets_dphijj = 6.6847,binWidth_twoSelJets_dphijj = 6.6847,binWidth_twoSelJets_dphijj = 6.6847,binWidth_twoSelJets_dphijj = 6.6847,binWidth_twoSelJets_dphijj = 6.6847,binWidth_twoSelJets_dphijj = 6.6847,binWidth_twoSelJets_dphijj = 6.6847,binWidth_twoSelJets_dphijj = 6.6847,binWidth_twoSelJets_dphijj = 6.6847,binWidth_twoSelJets_dphijj = 6.6847,binWidth_twoSelJets_dphijj = 6.6847,binWidth_twoSelJets_dphijj = 6.6847)\n",
      "     p.d.f value is less than zero (-188.580297), forcing value to zero @ !funcList=(kAwwkHwwkSM0_vbfWW = 254.556,kAwwkHwwkSM1_vbfWW = 45.7602,kAwwkHwwkSM10_vbfWW = -129.087,kAwwkHwwkSM11_vbfWW = -36.4155,kAwwkHwwkSM12_vbfWW = 349.671,kAwwkHwwkSM13_vbfWW = 50.6014,kAwwkHwwkSM2_vbfWW = -643.988,kAwwkHwwkSM3_vbfWW = 15.1565,kAwwkHwwkSM4_vbfWW = 36.5344,kAwwkHwwkSM5_vbfWW = -182.543,kAwwkHwwkSM6_vbfWW = -134.749,kAwwkHwwkSM7_vbfWW = 431.007,kAwwkHwwkSM8_vbfWW = 189.086,kAwwkHwwkSM9_vbfWW = -634.183,kSM0_vbfWW = 360.383), !coefList=(binWidth_twoSelJets_dphijj = 6.6847,binWidth_twoSelJets_dphijj = 6.6847,binWidth_twoSelJets_dphijj = 6.6847,binWidth_twoSelJets_dphijj = 6.6847,binWidth_twoSelJets_dphijj = 6.6847,binWidth_twoSelJets_dphijj = 6.6847,binWidth_twoSelJets_dphijj = 6.6847,binWidth_twoSelJets_dphijj = 6.6847,binWidth_twoSelJets_dphijj = 6.6847,binWidth_twoSelJets_dphijj = 6.6847,binWidth_twoSelJets_dphijj = 6.6847,binWidth_twoSelJets_dphijj = 6.6847,binWidth_twoSelJets_dphijj = 6.6847,binWidth_twoSelJets_dphijj = 6.6847,binWidth_twoSelJets_dphijj = 6.6847)\n",
      "     getLogVal() top-level p.d.f evaluates to zero @ !funcList=(kAwwkHwwkSM0_vbfWW = 254.556,kAwwkHwwkSM1_vbfWW = 45.7602,kAwwkHwwkSM10_vbfWW = -129.087,kAwwkHwwkSM11_vbfWW = -36.4155,kAwwkHwwkSM12_vbfWW = 349.671,kAwwkHwwkSM13_vbfWW = 50.6014,kAwwkHwwkSM2_vbfWW = -643.988,kAwwkHwwkSM3_vbfWW = 15.1565,kAwwkHwwkSM4_vbfWW = 36.5344,kAwwkHwwkSM5_vbfWW = -182.543,kAwwkHwwkSM6_vbfWW = -134.749,kAwwkHwwkSM7_vbfWW = 431.007,kAwwkHwwkSM8_vbfWW = 189.086,kAwwkHwwkSM9_vbfWW = -634.183,kSM0_vbfWW = 360.383), !coefList=(binWidth_twoSelJets_dphijj = 6.6847,binWidth_twoSelJets_dphijj = 6.6847,binWidth_twoSelJets_dphijj = 6.6847,binWidth_twoSelJets_dphijj = 6.6847,binWidth_twoSelJets_dphijj = 6.6847,binWidth_twoSelJets_dphijj = 6.6847,binWidth_twoSelJets_dphijj = 6.6847,binWidth_twoSelJets_dphijj = 6.6847,binWidth_twoSelJets_dphijj = 6.6847,binWidth_twoSelJets_dphijj = 6.6847,binWidth_twoSelJets_dphijj = 6.6847,binWidth_twoSelJets_dphijj = 6.6847,binWidth_twoSelJets_dphijj = 6.6847,binWidth_twoSelJets_dphijj = 6.6847,binWidth_twoSelJets_dphijj = 6.6847)\n",
      "     p.d.f value is less than zero (-146.816687), forcing value to zero @ !funcList=(kAwwkHwwkSM0_vbfWW = 273.225,kAwwkHwwkSM1_vbfWW = 48.6977,kAwwkHwwkSM10_vbfWW = -138.257,kAwwkHwwkSM11_vbfWW = -37.5358,kAwwkHwwkSM12_vbfWW = 356.12,kAwwkHwwkSM13_vbfWW = 57.4023,kAwwkHwwkSM2_vbfWW = -648.748,kAwwkHwwkSM3_vbfWW = 17.2085,kAwwkHwwkSM4_vbfWW = 36.2984,kAwwkHwwkSM5_vbfWW = -189.495,kAwwkHwwkSM6_vbfWW = -134.848,kAwwkHwwkSM7_vbfWW = 426.844,kAwwkHwwkSM8_vbfWW = 194.145,kAwwkHwwkSM9_vbfWW = -669.465,kSM0_vbfWW = 386.446), !coefList=(binWidth_twoSelJets_dphijj = 6.6847,binWidth_twoSelJets_dphijj = 6.6847,binWidth_twoSelJets_dphijj = 6.6847,binWidth_twoSelJets_dphijj = 6.6847,binWidth_twoSelJets_dphijj = 6.6847,binWidth_twoSelJets_dphijj = 6.6847,binWidth_twoSelJets_dphijj = 6.6847,binWidth_twoSelJets_dphijj = 6.6847,binWidth_twoSelJets_dphijj = 6.6847,binWidth_twoSelJets_dphijj = 6.6847,binWidth_twoSelJets_dphijj = 6.6847,binWidth_twoSelJets_dphijj = 6.6847,binWidth_twoSelJets_dphijj = 6.6847,binWidth_twoSelJets_dphijj = 6.6847,binWidth_twoSelJets_dphijj = 6.6847)\n",
      "     getLogVal() top-level p.d.f evaluates to zero @ !funcList=(kAwwkHwwkSM0_vbfWW = 273.225,kAwwkHwwkSM1_vbfWW = 48.6977,kAwwkHwwkSM10_vbfWW = -138.257,kAwwkHwwkSM11_vbfWW = -37.5358,kAwwkHwwkSM12_vbfWW = 356.12,kAwwkHwwkSM13_vbfWW = 57.4023,kAwwkHwwkSM2_vbfWW = -648.748,kAwwkHwwkSM3_vbfWW = 17.2085,kAwwkHwwkSM4_vbfWW = 36.2984,kAwwkHwwkSM5_vbfWW = -189.495,kAwwkHwwkSM6_vbfWW = -134.848,kAwwkHwwkSM7_vbfWW = 426.844,kAwwkHwwkSM8_vbfWW = 194.145,kAwwkHwwkSM9_vbfWW = -669.465,kSM0_vbfWW = 386.446), !coefList=(binWidth_twoSelJets_dphijj = 6.6847,binWidth_twoSelJets_dphijj = 6.6847,binWidth_twoSelJets_dphijj = 6.6847,binWidth_twoSelJets_dphijj = 6.6847,binWidth_twoSelJets_dphijj = 6.6847,binWidth_twoSelJets_dphijj = 6.6847,binWidth_twoSelJets_dphijj = 6.6847,binWidth_twoSelJets_dphijj = 6.6847,binWidth_twoSelJets_dphijj = 6.6847,binWidth_twoSelJets_dphijj = 6.6847,binWidth_twoSelJets_dphijj = 6.6847,binWidth_twoSelJets_dphijj = 6.6847,binWidth_twoSelJets_dphijj = 6.6847,binWidth_twoSelJets_dphijj = 6.6847,binWidth_twoSelJets_dphijj = 6.6847)\n",
      "RooNLLVar::nll_vbfWW_morphfunc_validation[ paramSet=(Lambda,binWidth_twoSelJets_dphijj,cosa,kAaa,kAww,kAza,kAzz,kHaa,kHda,kHdwI,kHdwR,kHdz,kHww,kHza,kHzz,kSM,nNP0,nNP1,nNP2) ]\n",
      "     function value is NAN @ paramSet=(Lambda = 1000 +/- 0.01,binWidth_twoSelJets_dphijj = 6.6847,cosa = 0.707107 +/- 0.01,kAaa = 0,kAww = 11.3802 +/- 0.01,kAza = 0,kAzz = 0,kHaa = 0,kHda = 0,kHdwI = 0,kHdwR = 0,kHdz = 0,kHww = 0.0825506 +/- 0.01,kHza = 0,kHzz = 0,kSM = 0.442593 +/- 0.01,nNP0 = 1,nNP1 = 1,nNP2 = 1)\n",
      "\n",
      "[#0] WARNING:Minization -- RooMinimizerFcn: Minimized function has error status.\n",
      "Returning maximum FCN so far (27650.9) to force MIGRAD to back out of this region. Error log follows\n",
      "Parameter values: kAww=-15.641, kHww=1.01444, kSM=-0.862782\n",
      "RooRealSumPdf::vbfWW_morphfunc[ binWidth_twoSelJets_dphijj * kAwwkHwwkSM0_vbfWW + binWidth_twoSelJets_dphijj * kAwwkHwwkSM1_vbfWW + binWidth_twoSelJets_dphijj * kAwwkHwwkSM10_vbfWW + binWidth_twoSelJets_dphijj * kAwwkHwwkSM11_vbfWW + binWidth_twoSelJets_dphijj * kAwwkHwwkSM12_vbfWW + binWidth_twoSelJets_dphijj * kAwwkHwwkSM13_vbfWW + binWidth_twoSelJets_dphijj * kAwwkHwwkSM2_vbfWW + binWidth_twoSelJets_dphijj * kAwwkHwwkSM3_vbfWW + binWidth_twoSelJets_dphijj * kAwwkHwwkSM4_vbfWW + binWidth_twoSelJets_dphijj * kAwwkHwwkSM5_vbfWW + binWidth_twoSelJets_dphijj * kAwwkHwwkSM6_vbfWW + binWidth_twoSelJets_dphijj * kAwwkHwwkSM7_vbfWW + binWidth_twoSelJets_dphijj * kAwwkHwwkSM8_vbfWW + binWidth_twoSelJets_dphijj * kAwwkHwwkSM9_vbfWW + binWidth_twoSelJets_dphijj * kSM0_vbfWW ]\n",
      "     p.d.f value is less than zero (-528.985804), forcing value to zero @ !funcList=(kAwwkHwwkSM0_vbfWW = 1593.72,kAwwkHwwkSM1_vbfWW = -364.826,kAwwkHwwkSM10_vbfWW = -926.588,kAwwkHwwkSM11_vbfWW = -567.257,kAwwkHwwkSM12_vbfWW = 2716.34,kAwwkHwwkSM13_vbfWW = 174.179,kAwwkHwwkSM2_vbfWW = -3241.95,kAwwkHwwkSM3_vbfWW = 216.129,kAwwkHwwkSM4_vbfWW = 233.195,kAwwkHwwkSM5_vbfWW = -583.019,kAwwkHwwkSM6_vbfWW = -228.47,kAwwkHwwkSM7_vbfWW = 1861.95,kAwwkHwwkSM8_vbfWW = 1415.83,kAwwkHwwkSM9_vbfWW = -4324.18,kSM0_vbfWW = 1945.81), !coefList=(binWidth_twoSelJets_dphijj = 6.6847,binWidth_twoSelJets_dphijj = 6.6847,binWidth_twoSelJets_dphijj = 6.6847,binWidth_twoSelJets_dphijj = 6.6847,binWidth_twoSelJets_dphijj = 6.6847,binWidth_twoSelJets_dphijj = 6.6847,binWidth_twoSelJets_dphijj = 6.6847,binWidth_twoSelJets_dphijj = 6.6847,binWidth_twoSelJets_dphijj = 6.6847,binWidth_twoSelJets_dphijj = 6.6847,binWidth_twoSelJets_dphijj = 6.6847,binWidth_twoSelJets_dphijj = 6.6847,binWidth_twoSelJets_dphijj = 6.6847,binWidth_twoSelJets_dphijj = 6.6847,binWidth_twoSelJets_dphijj = 6.6847)\n",
      "     getLogVal() top-level p.d.f evaluates to zero @ !funcList=(kAwwkHwwkSM0_vbfWW = 1593.72,kAwwkHwwkSM1_vbfWW = -364.826,kAwwkHwwkSM10_vbfWW = -926.588,kAwwkHwwkSM11_vbfWW = -567.257,kAwwkHwwkSM12_vbfWW = 2716.34,kAwwkHwwkSM13_vbfWW = 174.179,kAwwkHwwkSM2_vbfWW = -3241.95,kAwwkHwwkSM3_vbfWW = 216.129,kAwwkHwwkSM4_vbfWW = 233.195,kAwwkHwwkSM5_vbfWW = -583.019,kAwwkHwwkSM6_vbfWW = -228.47,kAwwkHwwkSM7_vbfWW = 1861.95,kAwwkHwwkSM8_vbfWW = 1415.83,kAwwkHwwkSM9_vbfWW = -4324.18,kSM0_vbfWW = 1945.81), !coefList=(binWidth_twoSelJets_dphijj = 6.6847,binWidth_twoSelJets_dphijj = 6.6847,binWidth_twoSelJets_dphijj = 6.6847,binWidth_twoSelJets_dphijj = 6.6847,binWidth_twoSelJets_dphijj = 6.6847,binWidth_twoSelJets_dphijj = 6.6847,binWidth_twoSelJets_dphijj = 6.6847,binWidth_twoSelJets_dphijj = 6.6847,binWidth_twoSelJets_dphijj = 6.6847,binWidth_twoSelJets_dphijj = 6.6847,binWidth_twoSelJets_dphijj = 6.6847,binWidth_twoSelJets_dphijj = 6.6847,binWidth_twoSelJets_dphijj = 6.6847,binWidth_twoSelJets_dphijj = 6.6847,binWidth_twoSelJets_dphijj = 6.6847)\n",
      "     p.d.f value is less than zero (-222.004109), forcing value to zero @ !funcList=(kAwwkHwwkSM0_vbfWW = 938.896,kAwwkHwwkSM1_vbfWW = -214.02,kAwwkHwwkSM10_vbfWW = -506.414,kAwwkHwwkSM11_vbfWW = -315.94,kAwwkHwwkSM12_vbfWW = 1717.04,kAwwkHwwkSM13_vbfWW = 86.5446,kAwwkHwwkSM2_vbfWW = -1944.63,kAwwkHwwkSM3_vbfWW = 105.296,kAwwkHwwkSM4_vbfWW = 136.265,kAwwkHwwkSM5_vbfWW = -345.763,kAwwkHwwkSM6_vbfWW = -125.917,kAwwkHwwkSM7_vbfWW = 1117.99,kAwwkHwwkSM8_vbfWW = 820.863,kAwwkHwwkSM9_vbfWW = -2724.27,kSM0_vbfWW = 1220.86), !coefList=(binWidth_twoSelJets_dphijj = 6.6847,binWidth_twoSelJets_dphijj = 6.6847,binWidth_twoSelJets_dphijj = 6.6847,binWidth_twoSelJets_dphijj = 6.6847,binWidth_twoSelJets_dphijj = 6.6847,binWidth_twoSelJets_dphijj = 6.6847,binWidth_twoSelJets_dphijj = 6.6847,binWidth_twoSelJets_dphijj = 6.6847,binWidth_twoSelJets_dphijj = 6.6847,binWidth_twoSelJets_dphijj = 6.6847,binWidth_twoSelJets_dphijj = 6.6847,binWidth_twoSelJets_dphijj = 6.6847,binWidth_twoSelJets_dphijj = 6.6847,binWidth_twoSelJets_dphijj = 6.6847,binWidth_twoSelJets_dphijj = 6.6847)\n",
      "     getLogVal() top-level p.d.f evaluates to zero @ !funcList=(kAwwkHwwkSM0_vbfWW = 938.896,kAwwkHwwkSM1_vbfWW = -214.02,kAwwkHwwkSM10_vbfWW = -506.414,kAwwkHwwkSM11_vbfWW = -315.94,kAwwkHwwkSM12_vbfWW = 1717.04,kAwwkHwwkSM13_vbfWW = 86.5446,kAwwkHwwkSM2_vbfWW = -1944.63,kAwwkHwwkSM3_vbfWW = 105.296,kAwwkHwwkSM4_vbfWW = 136.265,kAwwkHwwkSM5_vbfWW = -345.763,kAwwkHwwkSM6_vbfWW = -125.917,kAwwkHwwkSM7_vbfWW = 1117.99,kAwwkHwwkSM8_vbfWW = 820.863,kAwwkHwwkSM9_vbfWW = -2724.27,kSM0_vbfWW = 1220.86), !coefList=(binWidth_twoSelJets_dphijj = 6.6847,binWidth_twoSelJets_dphijj = 6.6847,binWidth_twoSelJets_dphijj = 6.6847,binWidth_twoSelJets_dphijj = 6.6847,binWidth_twoSelJets_dphijj = 6.6847,binWidth_twoSelJets_dphijj = 6.6847,binWidth_twoSelJets_dphijj = 6.6847,binWidth_twoSelJets_dphijj = 6.6847,binWidth_twoSelJets_dphijj = 6.6847,binWidth_twoSelJets_dphijj = 6.6847,binWidth_twoSelJets_dphijj = 6.6847,binWidth_twoSelJets_dphijj = 6.6847,binWidth_twoSelJets_dphijj = 6.6847,binWidth_twoSelJets_dphijj = 6.6847,binWidth_twoSelJets_dphijj = 6.6847)\n",
      "     p.d.f value is less than zero (-141.975335), forcing value to zero @ !funcList=(kAwwkHwwkSM0_vbfWW = 831.594,kAwwkHwwkSM1_vbfWW = -202.195,kAwwkHwwkSM10_vbfWW = -455.758,kAwwkHwwkSM11_vbfWW = -351.439,kAwwkHwwkSM12_vbfWW = 1604.94,kAwwkHwwkSM13_vbfWW = 102.158,kAwwkHwwkSM2_vbfWW = -1922.43,kAwwkHwwkSM3_vbfWW = 124.986,kAwwkHwwkSM4_vbfWW = 124.536,kAwwkHwwkSM5_vbfWW = -377.089,kAwwkHwwkSM6_vbfWW = -132.396,kAwwkHwwkSM7_vbfWW = 1135.07,kAwwkHwwkSM8_vbfWW = 746.445,kAwwkHwwkSM9_vbfWW = -2485.63,kSM0_vbfWW = 1235.97), !coefList=(binWidth_twoSelJets_dphijj = 6.6847,binWidth_twoSelJets_dphijj = 6.6847,binWidth_twoSelJets_dphijj = 6.6847,binWidth_twoSelJets_dphijj = 6.6847,binWidth_twoSelJets_dphijj = 6.6847,binWidth_twoSelJets_dphijj = 6.6847,binWidth_twoSelJets_dphijj = 6.6847,binWidth_twoSelJets_dphijj = 6.6847,binWidth_twoSelJets_dphijj = 6.6847,binWidth_twoSelJets_dphijj = 6.6847,binWidth_twoSelJets_dphijj = 6.6847,binWidth_twoSelJets_dphijj = 6.6847,binWidth_twoSelJets_dphijj = 6.6847,binWidth_twoSelJets_dphijj = 6.6847,binWidth_twoSelJets_dphijj = 6.6847)\n",
      "     getLogVal() top-level p.d.f evaluates to zero @ !funcList=(kAwwkHwwkSM0_vbfWW = 831.594,kAwwkHwwkSM1_vbfWW = -202.195,kAwwkHwwkSM10_vbfWW = -455.758,kAwwkHwwkSM11_vbfWW = -351.439,kAwwkHwwkSM12_vbfWW = 1604.94,kAwwkHwwkSM13_vbfWW = 102.158,kAwwkHwwkSM2_vbfWW = -1922.43,kAwwkHwwkSM3_vbfWW = 124.986,kAwwkHwwkSM4_vbfWW = 124.536,kAwwkHwwkSM5_vbfWW = -377.089,kAwwkHwwkSM6_vbfWW = -132.396,kAwwkHwwkSM7_vbfWW = 1135.07,kAwwkHwwkSM8_vbfWW = 746.445,kAwwkHwwkSM9_vbfWW = -2485.63,kSM0_vbfWW = 1235.97), !coefList=(binWidth_twoSelJets_dphijj = 6.6847,binWidth_twoSelJets_dphijj = 6.6847,binWidth_twoSelJets_dphijj = 6.6847,binWidth_twoSelJets_dphijj = 6.6847,binWidth_twoSelJets_dphijj = 6.6847,binWidth_twoSelJets_dphijj = 6.6847,binWidth_twoSelJets_dphijj = 6.6847,binWidth_twoSelJets_dphijj = 6.6847,binWidth_twoSelJets_dphijj = 6.6847,binWidth_twoSelJets_dphijj = 6.6847,binWidth_twoSelJets_dphijj = 6.6847,binWidth_twoSelJets_dphijj = 6.6847,binWidth_twoSelJets_dphijj = 6.6847,binWidth_twoSelJets_dphijj = 6.6847,binWidth_twoSelJets_dphijj = 6.6847)\n",
      "     p.d.f value is less than zero (-170.652926), forcing value to zero @ !funcList=(kAwwkHwwkSM0_vbfWW = 892.582,kAwwkHwwkSM1_vbfWW = -215.174,kAwwkHwwkSM10_vbfWW = -488.133,kAwwkHwwkSM11_vbfWW = -362.25,kAwwkHwwkSM12_vbfWW = 1634.54,kAwwkHwwkSM13_vbfWW = 115.888,kAwwkHwwkSM2_vbfWW = -1936.64,kAwwkHwwkSM3_vbfWW = 141.908,kAwwkHwwkSM4_vbfWW = 123.731,kAwwkHwwkSM5_vbfWW = -391.45,kAwwkHwwkSM6_vbfWW = -132.494,kAwwkHwwkSM7_vbfWW = 1124.11,kAwwkHwwkSM8_vbfWW = 766.415,kAwwkHwwkSM9_vbfWW = -2623.91,kSM0_vbfWW = 1325.36), !coefList=(binWidth_twoSelJets_dphijj = 6.6847,binWidth_twoSelJets_dphijj = 6.6847,binWidth_twoSelJets_dphijj = 6.6847,binWidth_twoSelJets_dphijj = 6.6847,binWidth_twoSelJets_dphijj = 6.6847,binWidth_twoSelJets_dphijj = 6.6847,binWidth_twoSelJets_dphijj = 6.6847,binWidth_twoSelJets_dphijj = 6.6847,binWidth_twoSelJets_dphijj = 6.6847,binWidth_twoSelJets_dphijj = 6.6847,binWidth_twoSelJets_dphijj = 6.6847,binWidth_twoSelJets_dphijj = 6.6847,binWidth_twoSelJets_dphijj = 6.6847,binWidth_twoSelJets_dphijj = 6.6847,binWidth_twoSelJets_dphijj = 6.6847)\n",
      "     getLogVal() top-level p.d.f evaluates to zero @ !funcList=(kAwwkHwwkSM0_vbfWW = 892.582,kAwwkHwwkSM1_vbfWW = -215.174,kAwwkHwwkSM10_vbfWW = -488.133,kAwwkHwwkSM11_vbfWW = -362.25,kAwwkHwwkSM12_vbfWW = 1634.54,kAwwkHwwkSM13_vbfWW = 115.888,kAwwkHwwkSM2_vbfWW = -1936.64,kAwwkHwwkSM3_vbfWW = 141.908,kAwwkHwwkSM4_vbfWW = 123.731,kAwwkHwwkSM5_vbfWW = -391.45,kAwwkHwwkSM6_vbfWW = -132.494,kAwwkHwwkSM7_vbfWW = 1124.11,kAwwkHwwkSM8_vbfWW = 766.415,kAwwkHwwkSM9_vbfWW = -2623.91,kSM0_vbfWW = 1325.36), !coefList=(binWidth_twoSelJets_dphijj = 6.6847,binWidth_twoSelJets_dphijj = 6.6847,binWidth_twoSelJets_dphijj = 6.6847,binWidth_twoSelJets_dphijj = 6.6847,binWidth_twoSelJets_dphijj = 6.6847,binWidth_twoSelJets_dphijj = 6.6847,binWidth_twoSelJets_dphijj = 6.6847,binWidth_twoSelJets_dphijj = 6.6847,binWidth_twoSelJets_dphijj = 6.6847,binWidth_twoSelJets_dphijj = 6.6847,binWidth_twoSelJets_dphijj = 6.6847,binWidth_twoSelJets_dphijj = 6.6847,binWidth_twoSelJets_dphijj = 6.6847,binWidth_twoSelJets_dphijj = 6.6847,binWidth_twoSelJets_dphijj = 6.6847)\n",
      "RooNLLVar::nll_vbfWW_morphfunc_validation[ paramSet=(Lambda,binWidth_twoSelJets_dphijj,cosa,kAaa,kAww,kAza,kAzz,kHaa,kHda,kHdwI,kHdwR,kHdz,kHww,kHza,kHzz,kSM,nNP0,nNP1,nNP2) ]\n",
      "     function value is NAN @ paramSet=(Lambda = 1000 +/- 0.01,binWidth_twoSelJets_dphijj = 6.6847,cosa = 0.707107 +/- 0.01,kAaa = 0,kAww = -15.641 +/- 0.01,kAza = 0,kAzz = 0,kHaa = 0,kHda = 0,kHdwI = 0,kHdwR = 0,kHdz = 0,kHww = 1.01444 +/- 0.01,kHza = 0,kHzz = 0,kSM = -0.862782 +/- 0.01,nNP0 = 1,nNP1 = 1,nNP2 = 1)\n",
      "\n",
      " MIGRAD MINIMIZATION HAS CONVERGED.\n",
      " MIGRAD WILL VERIFY CONVERGENCE AND ERROR MATRIX.\n",
      " COVARIANCE MATRIX CALCULATED SUCCESSFULLY\n",
      " FCN=-10779.4 FROM MIGRAD    STATUS=CONVERGED     253 CALLS         254 TOTAL\n",
      "                     EDM=0.000130125    STRATEGY= 1      ERROR MATRIX ACCURATE \n",
      "  EXT PARAMETER                                   STEP         FIRST   \n",
      "  NO.   NAME      VALUE            ERROR          SIZE      DERIVATIVE \n",
      "   1  kAww         2.74753e+00   4.43044e+00   1.25258e-03   3.95275e-01\n",
      "   2  kHww        -4.32934e+00   8.59889e-01   1.56863e-03  -3.74727e-01\n",
      "   3  kSM          1.44053e+00   1.35484e-01   2.92000e-04   1.56501e+00\n",
      "                               ERR DEF= 0.5\n",
      " EXTERNAL ERROR MATRIX.    NDIM=  25    NPAR=  3    ERR DEF=0.5\n",
      "  2.019e+01  2.488e+00 -5.887e-01 \n",
      "  2.488e+00  7.418e-01 -5.059e-02 \n",
      " -5.887e-01 -5.059e-02  1.837e-02 \n",
      " PARAMETER  CORRELATION COEFFICIENTS  \n",
      "       NO.  GLOBAL      1      2      3\n",
      "        1  0.99807   1.000  0.643 -0.967\n",
      "        2  0.97581   0.643  1.000 -0.433\n",
      "        3  0.99732  -0.967 -0.433  1.000\n",
      " **********\n",
      " **    7 **SET ERR         0.5\n",
      " **********\n",
      " **********\n",
      " **    8 **SET PRINT           1\n",
      " **********\n",
      " **********\n",
      " **    9 **HESSE        1500\n",
      " **********\n",
      " COVARIANCE MATRIX CALCULATED SUCCESSFULLY\n",
      " FCN=-10779.4 FROM HESSE     STATUS=OK             16 CALLS         270 TOTAL\n",
      "                     EDM=0.000109254    STRATEGY= 1      ERROR MATRIX ACCURATE \n",
      "  EXT PARAMETER                                INTERNAL      INTERNAL  \n",
      "  NO.   NAME      VALUE            ERROR       STEP SIZE       VALUE   \n",
      "   1  kAww         2.74753e+00   3.01846e+00   2.50516e-04   1.75204e-01\n",
      "   2  kHww        -4.32934e+00   7.52105e-01   3.13726e-04  -4.62656e-01\n",
      "   3  kSM          1.44053e+00   9.50020e-02   5.84000e-05   5.34378e-01\n",
      "                               ERR DEF= 0.5\n",
      " EXTERNAL ERROR MATRIX.    NDIM=  25    NPAR=  3    ERR DEF=0.5\n",
      "  9.228e+00  1.126e+00 -2.690e-01 \n",
      "  1.126e+00  5.671e-01 -1.116e-02 \n",
      " -2.690e-01 -1.116e-02  9.030e-03 \n",
      " PARAMETER  CORRELATION COEFFICIENTS  \n",
      "       NO.  GLOBAL      1      2      3\n",
      "        1  0.99577   1.000  0.492 -0.932\n",
      "        2  0.96823   0.492  1.000 -0.156\n",
      "        3  0.99455  -0.932 -0.156  1.000\n",
      "[#1] INFO:Fitting -- RooAbsPdf::fitTo(vbfWW_morphfunc) Calculating sum-of-weights-squared correction matrix for covariance matrix\n",
      " **********\n",
      " **   10 **SET ERR         0.5\n",
      " **********\n",
      " **********\n",
      " **   11 **SET PRINT           1\n",
      " **********\n",
      " **********\n",
      " **   12 **HESSE        1500\n",
      " **********\n",
      " COVARIANCE MATRIX CALCULATED SUCCESSFULLY\n",
      " FCN=-10779.4 FROM HESSE     STATUS=OK             16 CALLS         286 TOTAL\n",
      "                     EDM=0.000107591    STRATEGY= 1      ERROR MATRIX ACCURATE \n",
      "  EXT PARAMETER                                INTERNAL      INTERNAL  \n",
      "  NO.   NAME      VALUE            ERROR       STEP SIZE       VALUE   \n",
      "   1  kAww         2.74753e+00   2.86886e+00   5.01031e-05   1.75204e-01\n",
      "   2  kHww        -4.32934e+00   7.42074e-01   6.27452e-05  -4.62656e-01\n",
      "   3  kSM          1.44053e+00   9.08571e-02   1.16800e-05   5.34378e-01\n",
      "                               ERR DEF= 0.5\n",
      " EXTERNAL ERROR MATRIX.    NDIM=  25    NPAR=  3    ERR DEF=0.5\n",
      "  8.326e+00  1.014e+00 -2.426e-01 \n",
      "  1.014e+00  5.520e-01 -7.946e-03 \n",
      " -2.426e-01 -7.946e-03  8.259e-03 \n",
      " PARAMETER  CORRELATION COEFFICIENTS  \n",
      "       NO.  GLOBAL      1      2      3\n",
      "        1  0.99531   1.000  0.473 -0.925\n",
      "        2  0.96735   0.473  1.000 -0.118\n",
      "        3  0.99404  -0.925 -0.118  1.000\n"
     ]
    },
    {
     "name": "stdout",
     "output_type": "stream",
     "text": [
      "cosa: 0.707107 (const)\n",
      "Lambda: 1000 (const)\n",
      "kSM: 1.44053 +0.0908571 -0 (-2.82843 - 2.82843)\n",
      "kHaa: 0 (const)\n",
      "kAaa: 0 (const)\n",
      "kHza: 0 (const)\n",
      "kAza: 0 (const)\n",
      "kHzz: 0 (const)\n",
      "kAzz: 0 (const)\n",
      "kHdz: 0 (const)\n",
      "kHww: -4.32934 +0.742074 -0 (-9.69994 - 9.69994)\n",
      "kAww: 2.74753 +2.86886 -0 (-15.7624 - 15.7624)\n",
      "kHdwR: 0 (const)\n",
      "kHdwI: 0 (const)\n",
      "kHda: 0 (const)\n"
     ]
    }
   ],
   "source": [
    "RooDataHist* target = RooLagrangianMorphing::makeDataHistogram(validation,morphfunc->getObservable(),\"validation\"); // convert the target to a RooDataHist\n",
    "morphfunc->setParameters(validationsample.c_str());\n",
    "morphfunc->setParameterConstant(\"Lambda\",true);\n",
    "morphfunc->setParameterConstant(\"cosa\",true);\n",
    "morphfunc->randomizeParameters(2); // randomize the parameters by 2 standard deviations to give the fit something to do\n",
    "morphfunc->printParameters();\n",
    "morphfunc->getPdf()->fitTo(*target,RooFit::SumW2Error(true),RooFit::Optimize(false)); // run the fit\n",
    "morphfunc->printParameters();\n",
    "TH1* fitresult = morphfunc->createTH1(\"fit result\");"
   ]
  },
  {
   "cell_type": "markdown",
   "metadata": {},
   "source": [
    "## Print the pretty plots!\n",
    "we use the canvas created above and add legend in order to plot both histograms - the one obtained from the validation sample and the morphing prediction for the same parameter set and now the fit also."
   ]
  },
  {
   "cell_type": "code",
   "execution_count": 10,
   "metadata": {},
   "outputs": [
    {
     "data": {
      "image/png": "[encoded data removed]",
      "text/plain": [
       "<IPython.core.display.Image object>"
      ]
     },
     "metadata": {},
     "output_type": "display_data"
    }
   ],
   "source": [
    "TCanvas* plot = new TCanvas(\"plot\");\n",
    "plot->cd();\n",
    "gStyle->SetOptStat(0);\n",
    "gStyle->SetOptTitle(0);\n",
    "morphing->GetXaxis()->SetTitle(observable.c_str());\n",
    "morphing->SetLineColor(kRed);\n",
    "morphing->SetFillColor(kRed);\n",
    "morphing->Draw(\"E3\");\n",
    "fitresult->SetLineColor(kBlack);\n",
    "fitresult->SetMarkerColor(kBlack);\n",
    "fitresult->SetMarkerStyle(20);\n",
    "fitresult->Draw(\"PSAME\");\n",
    "validation->Draw(\"SAME\");\n",
    "TLegend* leg = new TLegend(0.7,0.7,0.9,0.9);\n",
    "leg->AddEntry(fitresult);\n",
    "leg->AddEntry(morphing);\n",
    "leg->AddEntry(validation);\n",
    "leg->Draw();\n",
    "plot->Draw()"
   ]
  },
  {
   "cell_type": "markdown",
   "metadata": {},
   "source": [
    "![ah that fit!](https://media2.giphy.com/media/xEECLnuSQWQes/giphy.gif?cid=790b76115ca4e6ae576c7654559d5694 \"ah\")"
   ]
  },
  {
   "cell_type": "markdown",
   "metadata": {},
   "source": [
    "## Playground\n",
    "- Use the `printParameters` method right after setting the parameters of your validation sample and compare the numbers to those obtained after the fit. Did you achieve closure?\n",
    "- Like most complex fit models, it's easy to choose parameter settings in which the fit does either not converge or not find the right minimum. Try to get a feeling for how close to the target point you need to choose your initial values to make the fit converge to the correct minimum!\n",
    "- You will quickly notice that the fit is much more sensitive to some parameters than it is to others. Which parameters are especially unstable?"
   ]
  },
  {
   "cell_type": "code",
   "execution_count": null,
   "metadata": {},
   "outputs": [],
   "source": []
  }
 ],
 "metadata": {
  "kernelspec": {
   "display_name": "ROOT C++",
   "language": "c++",
   "name": "root"
  },
  "language_info": {
   "codemirror_mode": "text/x-c++src",
   "file_extension": ".C",
   "mimetype": " text/x-c++src",
   "name": "c++"
  }
 },
 "nbformat": 4,
 "nbformat_minor": 1
}
