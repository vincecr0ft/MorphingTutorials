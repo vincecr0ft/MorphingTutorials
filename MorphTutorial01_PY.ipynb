{
 "cells": [
  {
   "cell_type": "markdown",
   "metadata": {},
   "source": [
    "# Lesson 1: Introduction and Simple Morphing with Two Parameters\n",
    "\n",
    "In order to get to grips with the [RooLagrangeMorphFunc](https://twiki.cern.ch/twiki/bin/view/AtlasProtected/RooEFTMorphFunc), this steps through a simplistic code example that aims to demonstrate the usage of the tool."
   ]
  },
  {
   "cell_type": "code",
   "execution_count": 1,
   "metadata": {},
   "outputs": [
    {
     "name": "stdout",
     "output_type": "stream",
     "text": [
      "File ‘ggfhzz4l_2d.root’ already there; not retrieving.\r\n",
      "\r\n"
     ]
    }
   ],
   "source": [
    "!wget https://www.nikhef.nl/~cburgard/downloads/RooLagrangianMorphingTutorial/inputs/ggfhzz4l_2d.root -nc"
   ]
  },
  {
   "cell_type": "code",
   "execution_count": 2,
   "metadata": {},
   "outputs": [
    {
     "name": "stdout",
     "output_type": "stream",
     "text": [
      "Welcome to JupyROOT 6.14/04\n"
     ]
    },
    {
     "data": {
      "text/plain": [
       "0"
      ]
     },
     "execution_count": 2,
     "metadata": {},
     "output_type": "execute_result"
    }
   ],
   "source": [
    "from ROOT import gSystem\n",
    "gSystem.Load(\"libRooFit\")\n",
    "gSystem.Load(\"libRooLagrangianMorphing.so\")"
   ]
  },
  {
   "cell_type": "code",
   "execution_count": 3,
   "metadata": {},
   "outputs": [],
   "source": [
    "import ROOT\n",
    "%jsroot on"
   ]
  },
  {
   "cell_type": "markdown",
   "metadata": {},
   "source": [
    "now set root version to special HComb build"
   ]
  },
  {
   "cell_type": "markdown",
   "metadata": {},
   "source": [
    "[RooLagrangeMorphFunc](https://twiki.cern.ch/twiki/bin/view/AtlasProtected/RooEFTMorphFunc) is a standalone RooFit class implementing the analytical morphing method, descibed in [ATL-PHYS-PUB-2015-047](https://cds.cern.ch/record/2066980). Analytical morphing is a method to construct a continuous signal model in the coupling parameter space. Basic assumption is that shape and cross section of a physical distribution is proportional to its squared matrix element. The signal model is constructed by a weighted sum over $N$ input distributions of an observable $T$. The calculation of the weights is based on Matrix Elements evaluated for the different input scenarios.\n",
    "\n",
    "The number of input files depends on the number of couplings in production and decay vertices, and also whether the decay and production vertices describe the same process or not.\n",
    "\n",
    "The implementation of [RooLagrangeMorphFunc](https://twiki.cern.ch/twiki/bin/view/AtlasProtected/RooEFTMorphFunc) is based on the Higgs Characterisation Model [arxiv:1306.6464](https://arxiv.org/abs/1306.6464) implemented in [MadGraph5 _MC@NLO](https://twiki.cern.ch/twiki/bin/view/AtlasProtected/MadGraph5aMCatNLOForAtlas). It is possible to add another theoretical framework, if such a use case arises, please contact the developers."
   ]
  },
  {
   "cell_type": "markdown",
   "metadata": {},
   "source": [
    "## Morphing principles\n",
    "\n",
    "The morphing procedure is based on the concepts of the morphing of (possibly multi-dimensional) histograms described [here](https://arxiv.org/abs/1410.7388). It is introduced to describe the dependence of a given physical observable\n",
    "$T$ on an arbitrary configuration of a set of non-SM Higgs boson couplings $\\vec{g}_\\mathrm{target} \\equiv \\{g_\\mathrm{SM},g_\\mathrm{BSM,1},g_\\mathrm{BSM,n}\\}$ to known particles. This dependence is described by a morphing function\n",
    "$$T_\\mathrm{out}(\\vec{g_\\mathrm{target}})=\\sum_i w_i(\\vec{g_\\mathrm{target}};\\vec{g_i})T_\\mathrm{in}(\\vec{g_i})$$\n",
    "which linearly combines the values or differential distributions $T$ in at a number of selected discrete coupling\n",
    "configurations $\\vec{g}_i = \\{g_\\mathrm{SM,i},g_\\mathrm{BSM,i}\\}$. The input distributions $T_\\mathrm{in}$ are normalised to their expected cross sections such that $T_\\mathrm{out}$ includes not only the correct shape, but also the correct cross section prediction. Here, $g_\\mathrm{SM}$ denotes the Higgs boson coupling predicted by the Standard Model. Morphing only requires that any differential cross section can be expressed as a polynomial in coupling parameters. For calculation at lowest order and using the narrow-width approximation for a resonance, this yields a second order polynomial each in production and decay.\n",
    "\n",
    "n practice, the template distributions $T_\\mathrm{in}$ are obtained from the Monte Carlo (MC) simulation of the signal process for a given coupling configuration $\\vec{g_i}$. The minimal number $N$ of Monte Carlo samples needed to describe the signal at all possible coupling configurations, depends on the number $n$ of studied non-SM coupling parameters. The contribution of each sample $T_\\mathrm{in}$ is weighted by a weight $w_i$ based on the assumption that the value of a physical observable is proportional to the squared matrix element for the studied process\n",
    "$$T\\propto\\mathcal{M}^2$$\n",
    "\n",
    "The weights $w_i$ can therefore be expressed as functions of the coupling parameters in the matrix element $\\mathcal{M}$. In this case $T$ can be anything derived from the Matrix element, for example a whole MC sample.\n",
    "\n",
    "The described procedure allows for a continuous description in an $n$-dimensional parameter space. A feature-complete implementation has been developed within the [RooFit package](https://cds.cern.ch/record/2066980/files/physics/0306116), making use of [HistFactory](https://cds.cern.ch/record/1456844). The provided signal model can therefore be used in commonly used RooFit workspaces in a straightforward, blackbox-like way."
   ]
  },
  {
   "cell_type": "markdown",
   "metadata": {},
   "source": [
    "## Define input files and samples"
   ]
  },
  {
   "cell_type": "markdown",
   "metadata": {},
   "source": [
    "The histograms we will use as an input are located in a ROOT file. The name of that file is stored in the variable called \"infilename\". Since that file contains multiple histograms, the exact histogram we will be using is identified by the variable \"observable\". You can open the input file and explore it's hierarchy to use a different input distribution if you like to! \n",
    "\n",
    "As input, the RooEFTMorphFunc expects a single ROOT file of the following layout: \n",
    "\n",
    "![like this](./images/folderstructure.png)\n",
    "\n",
    "Here, the first hierarchy level is comprised by the different input samples, whereas the second hierarchy level can have arbitrary meaning - for example, different event selections applied. Inside these folders, the physical inputs - distributios of type TH1 - should reside. Other input types are planned to be implemented, but for now, we only support types derived from TH1.\n",
    "\n",
    "Each top-level folder additionally contains another histogram of type TH1 with the name \"param_card\". This is used to encode the parameter setup which was used to produce this sample. These histograms should have labeled bins and might look like this: \n",
    "\n",
    "![With this](./images/param_hist.png \"Get yerself a wiggle at them kappas\")\n",
    "\n",
    "The layout of the subfolders has to be the same for all samples, meaning that every sub-level folder has to contain the exact same number of subfolders with the same names, each containing the exact same number of histograms with the same names. \n",
    "\n",
    "## Number of input samples\n",
    "\n",
    "The number of inputsamples needed for successful morphing depends on\n",
    "\n",
    "* the process\n",
    "* the couplings included in the process \n",
    "\n",
    "In some cases, the morphing class is returning warnings when the input is not reasonable. But at the moment it does not catch all possible problems and the user should make sure that her/his input is reasonable to ensure successful morphing. \n",
    "\n",
    "## Get Example File and Samples\n",
    "\n",
    "The available identifiers in this case are: ggfZZ, ggfWW, vbfWW, vbfZZ, ggfZZ, and vbfMuMu. Let's get some!\n",
    "\n",
    "Here we use the histogram name \"base/phi\" to identify the observable to be used"
   ]
  },
  {
   "cell_type": "code",
   "execution_count": 4,
   "metadata": {},
   "outputs": [],
   "source": [
    "identifier = \"ggfZZ\"\n",
    "infilename = \"ggfhzz4l_2d.root\"\n",
    "observable = \"base/phi\" "
   ]
  },
  {
   "cell_type": "markdown",
   "metadata": {},
   "source": [
    "Since the input file contains input from a lot of different samples, we need to tell the [RooLagrangeMorphFunc](https://twiki.cern.ch/twiki/bin/view/AtlasProtected/RooEFTMorphFunc) which ones to use as a basis for the morphing. This is done by pushing their names into a list. "
   ]
  },
  {
   "cell_type": "code",
   "execution_count": 5,
   "metadata": {},
   "outputs": [],
   "source": [
    "samplelist = [\"s1\",\"s2\",\"s3\"]"
   ]
  },
  {
   "cell_type": "markdown",
   "metadata": {},
   "source": [
    "This list is not enough, it need to be RooFit compatible. Push all the input samples in a RooArgList"
   ]
  },
  {
   "cell_type": "code",
   "execution_count": 6,
   "metadata": {},
   "outputs": [],
   "source": [
    "inputs = ROOT.RooArgList()"
   ]
  },
  {
   "cell_type": "markdown",
   "metadata": {},
   "source": [
    "we need the additional list \"inputnames\" to prevent the python garbage collector from deleting the RooStringVars"
   ]
  },
  {
   "cell_type": "code",
   "execution_count": 7,
   "metadata": {},
   "outputs": [],
   "source": [
    "inputnames = []\n",
    "for sample in samplelist:\n",
    "    v = ROOT.RooStringVar(sample,sample,sample)\n",
    "    inputnames.append(v)\n",
    "    inputs.add(v)"
   ]
  },
  {
   "cell_type": "markdown",
   "metadata": {},
   "source": [
    "## setup predefined morphing function\n",
    "\n",
    "With the name of the input file and the list of input sample names, we can call the constructor of the RooEFTMorphFunc to obtain an instance. Since the input we are using is a sample of ggF Higgs production with decay to two Z bosons, we are using the corresponding variant of the RooLagrangeMorphFunc called \"RooHCggfZZMorphFunc\". \n",
    "\n",
    "You will later learn how to create your own variants of this class for different physical processes. The identifier handed to the constructor is just a name that will help you identify the object when you store it in a workspace, which will you will be doing shortly. "
   ]
  },
  {
   "cell_type": "code",
   "execution_count": 8,
   "metadata": {},
   "outputs": [
    {
     "name": "stdout",
     "output_type": "stream",
     "text": [
      "\u001b[1mRooLagrangianMorphBase\u001b[0m: a RooFit class for morphing physics distributions between configurations. authors:\n",
      "   Lydia Brenner   (lbrenner@cern.ch)\n",
      "   Carsten Burgard (cburgard@cern.ch)\n",
      "   Katharina Ecker (kecker@cern.ch)\n",
      "   Adam Kaluza     (akaluza@cern.ch)\n",
      "please feel free to contact with questions and suggestions.\n"
     ]
    }
   ],
   "source": [
    "morphfunc = ROOT.RooHCggfZZMorphFunc(identifier,identifier,infilename,observable,inputs)"
   ]
  },
  {
   "cell_type": "markdown",
   "metadata": {},
   "source": [
    "morph to the validation sample v1! ![it's morphin time](http://images6.fanpop.com/image/photos/38800000/-It-s-Morphin-Time-friends-38813578-500-250.gif \"You must do this action or the function won't work\")\n",
    "\n",
    "First we set the parameters of the function to point to the desired sample. Then we create a histogram of the target variable at that point."
   ]
  },
  {
   "cell_type": "code",
   "execution_count": 9,
   "metadata": {},
   "outputs": [
    {
     "name": "stderr",
     "output_type": "stream",
     "text": [
      "ERROR: parameter Lambda out of bounds: 0 < 900\n"
     ]
    }
   ],
   "source": [
    "validationsample = \"v1\"\n",
    "morphfunc.setParameters(validationsample)\n",
    "morphing = morphfunc.createTH1(\"morphing\")"
   ]
  },
  {
   "cell_type": "markdown",
   "metadata": {},
   "source": [
    "## Read The Validation Histogram\n",
    "\n",
    "We want to know how close to the desired distribution the morphed distribution is. Let's open the input file to get the validation histogram for comparison.\n",
    "\n",
    "We deliberately set the parameters to one of the validation samples that are available in the same input file. Conveniently, the input format used by the (RooLagrangeMorphFunc)[https://twiki.cern.ch/twiki/bin/view/AtlasProtected/RooEFTMorphFunc] also contains all the parameters, such that we only need to call the method \"setParameters\" with the name of a sample as an argument to use its parameter settings. \n",
    "\n",
    "Previously we used the \"createTH1\" method in (RooLagrangeMorphFunc)[https://twiki.cern.ch/twiki/bin/view/AtlasProtected/RooEFTMorphFunc] to create a histogram with the morphed distribution predicted at the given parameters by the (RooLagrangeMorphFunc)[https://twiki.cern.ch/twiki/bin/view/AtlasProtected/RooEFTMorphFunc]. The argument given to the method is just an arbitrary object name. \n",
    "\n",
    "In order to have something to compare to, we now retrieve the corresponding histogram of the validation sample from the same input file. "
   ]
  },
  {
   "cell_type": "code",
   "execution_count": 10,
   "metadata": {},
   "outputs": [],
   "source": [
    "tfile = ROOT.TFile.Open(infilename,\"READ\")\n",
    "folder = tfile.Get(validationsample)\n",
    "validation = folder.FindObject(observable)\n",
    "validation.SetDirectory(0)\n",
    "validation.SetTitle(validationsample)\n",
    "tfile.Close()"
   ]
  },
  {
   "cell_type": "markdown",
   "metadata": {},
   "source": [
    "## Results!"
   ]
  },
  {
   "cell_type": "markdown",
   "metadata": {},
   "source": [
    "we use the canvas created above and add legend in order to plot both histograms - the one obtained from the validation sample and the morphing prediction for the same parameter set - for comparison."
   ]
  },
  {
   "cell_type": "code",
   "execution_count": 11,
   "metadata": {},
   "outputs": [
    {
     "data": {
      "text/html": [
       "\n",
       "<div id=\"root_plot_1\"\n",
       "     style=\"width: 696px; height: 472px\">\n",
       "</div>\n",
       "\n",
       "<script>\n",
       " requirejs.config({\n",
       "     paths: {\n",
       "       'JSRootCore' : 'https://root.cern.ch/js/notebook//scripts/JSRootCore',\n",
       "     }\n",
       "   });\n",
       " require(['JSRootCore'],\n",
       "     function(Core) {\n",
       "       var obj = Core.JSONR_unref({\"_typename\":\"TCanvas\",\"fUniqueID\":0,\"fBits\":53673992,\"fLineColor\":1,\"fLineStyle\":1,\"fLineWidth\":1,\"fFillColor\":0,\"fFillStyle\":1001,\"fLeftMargin\":0.1,\"fRightMargin\":0.1,\"fBottomMargin\":0.1,\"fTopMargin\":0.1,\"fXfile\":2,\"fYfile\":2,\"fAfile\":1,\"fXstat\":0.99,\"fYstat\":0.99,\"fAstat\":2,\"fFrameFillColor\":0,\"fFrameLineColor\":1,\"fFrameFillStyle\":1001,\"fFrameLineStyle\":1,\"fFrameLineWidth\":1,\"fFrameBorderSize\":1,\"fFrameBorderMode\":0,\"fX1\":-3.926875058515,\"fY1\":0.319583036209788,\"fX2\":3.926875058515,\"fY2\":0.65570292875585,\"fXtoAbsPixelk\":348.00005,\"fXtoPixelk\":348.00005,\"fXtoPixel\":88.6200846256618,\"fYtoAbsPixelk\":920.777990360516,\"fYtoPixelk\":920.777990360516,\"fYtoPixel\":-1404.26083212352,\"fUtoAbsPixelk\":5e-5,\"fUtoPixelk\":5e-5,\"fUtoPixel\":696,\"fVtoAbsPixelk\":472.00005,\"fVtoPixelk\":472,\"fVtoPixel\":-472,\"fAbsPixeltoXk\":-3.926875058515,\"fPixeltoXk\":-3.926875058515,\"fPixeltoX\":0.0112841237313649,\"fAbsPixeltoYk\":0.65570292875585,\"fPixeltoYk\":0.319583036209788,\"fPixeltoY\":-7.12118416411149e-4,\"fXlowNDC\":0,\"fYlowNDC\":0,\"fXUpNDC\":0,\"fYUpNDC\":0,\"fWNDC\":1,\"fHNDC\":1,\"fAbsXlowNDC\":0,\"fAbsYlowNDC\":0,\"fAbsWNDC\":1,\"fAbsHNDC\":1,\"fUxmin\":-3.1415,\"fUymin\":0.353195027467825,\"fUxmax\":3.1415,\"fUymax\":0.622090937497813,\"fTheta\":30,\"fPhi\":30,\"fAspectRatio\":0,\"fNumber\":0,\"fTickx\":0,\"fTicky\":0,\"fLogx\":0,\"fLogy\":0,\"fLogz\":0,\"fPadPaint\":0,\"fCrosshair\":0,\"fCrosshairPos\":0,\"fBorderSize\":2,\"fBorderMode\":0,\"fModified\":false,\"fGridx\":false,\"fGridy\":false,\"fAbsCoord\":false,\"fEditable\":true,\"fFixedAspectRatio\":false,\"fPrimitives\":{\"_typename\":\"TList\",\"name\":\"TList\",\"arr\":[{\"_typename\":\"TFrame\",\"fUniqueID\":0,\"fBits\":50331656,\"fLineColor\":1,\"fLineStyle\":1,\"fLineWidth\":1,\"fFillColor\":0,\"fFillStyle\":1001,\"fX1\":-3.1415,\"fY1\":0.353195027467825,\"fX2\":3.1415,\"fY2\":0.622090937497813,\"fBorderSize\":1,\"fBorderMode\":0},{\"_typename\":\"TH1F\",\"fUniqueID\":0,\"fBits\":50331656,\"fName\":\"morphing\",\"fTitle\":\"morphing\",\"fLineColor\":2,\"fLineStyle\":1,\"fLineWidth\":1,\"fFillColor\":2,\"fFillStyle\":1001,\"fMarkerColor\":1,\"fMarkerStyle\":1,\"fMarkerSize\":1,\"fNcells\":23,\"fXaxis\":{\"_typename\":\"TAxis\",\"fUniqueID\":0,\"fBits\":50331656,\"fName\":\"xaxis\",\"fTitle\":\"base\\/phi\",\"fNdivisions\":510,\"fAxisColor\":1,\"fLabelColor\":1,\"fLabelFont\":42,\"fLabelOffset\":0.005,\"fLabelSize\":0.035,\"fTickLength\":0.03,\"fTitleOffset\":1,\"fTitleSize\":0.035,\"fTitleColor\":1,\"fTitleFont\":42,\"fNbins\":21,\"fXmin\":-3.1415,\"fXmax\":3.1415,\"fXbins\":[-3.1415,-2.84230952380952,-2.54311904761905,-2.24392857142857,-1.9447380952381,-1.64554761904762,-1.34635714285714,-1.04716666666667,-0.74797619047619,-0.448785714285714,-0.149595238095238,0.149595238095238,0.448785714285715,0.747976190476191,1.04716666666667,1.34635714285714,1.64554761904762,1.9447380952381,2.24392857142857,2.54311904761905,2.84230952380952,3.1415],\"fFirst\":0,\"fLast\":0,\"fBits2\":0,\"fTimeDisplay\":false,\"fTimeFormat\":\"\",\"fLabels\":null,\"fModLabs\":null},\"fYaxis\":{\"_typename\":\"TAxis\",\"fUniqueID\":0,\"fBits\":50331648,\"fName\":\"yaxis\",\"fTitle\":\"\",\"fNdivisions\":510,\"fAxisColor\":1,\"fLabelColor\":1,\"fLabelFont\":42,\"fLabelOffset\":0.005,\"fLabelSize\":0.035,\"fTickLength\":0.03,\"fTitleOffset\":0,\"fTitleSize\":0.035,\"fTitleColor\":1,\"fTitleFont\":42,\"fNbins\":1,\"fXmin\":0,\"fXmax\":1,\"fXbins\":[],\"fFirst\":0,\"fLast\":0,\"fBits2\":0,\"fTimeDisplay\":false,\"fTimeFormat\":\"\",\"fLabels\":null,\"fModLabs\":null},\"fZaxis\":{\"_typename\":\"TAxis\",\"fUniqueID\":0,\"fBits\":50331648,\"fName\":\"zaxis\",\"fTitle\":\"\",\"fNdivisions\":510,\"fAxisColor\":1,\"fLabelColor\":1,\"fLabelFont\":42,\"fLabelOffset\":0.005,\"fLabelSize\":0.035,\"fTickLength\":0.03,\"fTitleOffset\":1,\"fTitleSize\":0.035,\"fTitleColor\":1,\"fTitleFont\":42,\"fNbins\":1,\"fXmin\":0,\"fXmax\":1,\"fXbins\":[],\"fFirst\":0,\"fLast\":0,\"fBits2\":0,\"fTimeDisplay\":false,\"fTimeFormat\":\"\",\"fLabels\":null,\"fModLabs\":null},\"fBarOffset\":0,\"fBarWidth\":1000,\"fEntries\":21,\"fTsumw\":0,\"fTsumw2\":0,\"fTsumwx\":0,\"fTsumwx2\":0,\"fMaximum\":-1111,\"fMinimum\":-1111,\"fNormFactor\":0,\"fContour\":[],\"fSumw2\":[0,2.5095209414244e-4,2.35624084787443e-4,2.17324892600301e-4,2.07506032498945e-4,1.89816588765132e-4,1.76130631031415e-4,1.74559283740238e-4,2.02435937868739e-4,2.08900877763502e-4,2.05192309763578e-4,2.07259129146083e-4,2.0911980408136e-4,2.00233336173889e-4,1.80444241909179e-4,1.79319432046735e-4,1.81641845503181e-4,1.84280924981797e-4,2.10441165248185e-4,2.30513685378848e-4,2.45778681922059e-4,2.67309947495135e-4,0],\"fOption\":\"\",\"fFunctions\":{\"_typename\":\"TList\",\"name\":\"TList\",\"arr\":[],\"opt\":[]},\"fBufferSize\":0,\"fBuffer\":[],\"fBinStatErrOpt\":0,\"fStatOverflows\":2,\"fArray\":[0,0.549012,0.5125079,0.4675192,0.4533611,0.4217044,0.3786613,0.382721,0.4484104,0.4636706,0.4495297,0.4524442,0.4574361,0.4383327,0.3913332,0.3871674,0.396525,0.4015174,0.4638182,0.5121982,0.5464814,0.5929368,0]},{\"_typename\":\"TH1F\",\"fUniqueID\":0,\"fBits\":50331656,\"fName\":\"phi\",\"fTitle\":\"v1\",\"fLineColor\":602,\"fLineStyle\":1,\"fLineWidth\":1,\"fFillColor\":0,\"fFillStyle\":1001,\"fMarkerColor\":1,\"fMarkerStyle\":1,\"fMarkerSize\":1,\"fNcells\":23,\"fXaxis\":{\"_typename\":\"TAxis\",\"fUniqueID\":0,\"fBits\":50331648,\"fName\":\"CPFD:H$(cand)Cands[0]:phi\",\"fTitle\":\"#Phi\",\"fNdivisions\":510,\"fAxisColor\":1,\"fLabelColor\":1,\"fLabelFont\":42,\"fLabelOffset\":0.005,\"fLabelSize\":0.035,\"fTickLength\":0.03,\"fTitleOffset\":1,\"fTitleSize\":0.035,\"fTitleColor\":1,\"fTitleFont\":42,\"fNbins\":21,\"fXmin\":-3.1415,\"fXmax\":3.1415,\"fXbins\":[],\"fFirst\":0,\"fLast\":0,\"fBits2\":0,\"fTimeDisplay\":false,\"fTimeFormat\":\"\",\"fLabels\":null,\"fModLabs\":null},\"fYaxis\":{\"_typename\":\"TAxis\",\"fUniqueID\":0,\"fBits\":50331648,\"fName\":\"yaxis\",\"fTitle\":\"\",\"fNdivisions\":510,\"fAxisColor\":1,\"fLabelColor\":1,\"fLabelFont\":42,\"fLabelOffset\":0.005,\"fLabelSize\":0.035,\"fTickLength\":0.03,\"fTitleOffset\":1,\"fTitleSize\":0.035,\"fTitleColor\":1,\"fTitleFont\":42,\"fNbins\":1,\"fXmin\":0,\"fXmax\":1,\"fXbins\":[],\"fFirst\":0,\"fLast\":0,\"fBits2\":0,\"fTimeDisplay\":false,\"fTimeFormat\":\"\",\"fLabels\":null,\"fModLabs\":null},\"fZaxis\":{\"_typename\":\"TAxis\",\"fUniqueID\":0,\"fBits\":50331648,\"fName\":\"zaxis\",\"fTitle\":\"\",\"fNdivisions\":510,\"fAxisColor\":1,\"fLabelColor\":1,\"fLabelFont\":42,\"fLabelOffset\":0.005,\"fLabelSize\":0.035,\"fTickLength\":0.03,\"fTitleOffset\":1,\"fTitleSize\":0.035,\"fTitleColor\":1,\"fTitleFont\":42,\"fNbins\":1,\"fXmin\":0,\"fXmax\":1,\"fXbins\":[],\"fFirst\":0,\"fLast\":0,\"fBits2\":0,\"fTimeDisplay\":false,\"fTimeFormat\":\"\",\"fLabels\":null,\"fModLabs\":null},\"fBarOffset\":0,\"fBarWidth\":1000,\"fEntries\":18440,\"fTsumw\":0,\"fTsumw2\":3.52015803750006e-4,\"fTsumwx\":0.0663276481983149,\"fTsumwx2\":2.58336457267141,\"fMaximum\":-1111,\"fMinimum\":-1111,\"fNormFactor\":0,\"fContour\":[],\"fSumw2\":[0,2.8293105425e-4,2.8504051225e-4,2.38368754e-4,2.3177669775e-4,2.083089775e-4,2.14109987e-4,1.924880425e-4,2.07781613e-4,2.209657255e-4,2.3019460425e-4,2.4285135225e-4,2.241299125e-4,2.1173684675e-4,1.9802536975e-4,1.9908009875e-4,2.1068211775e-4,2.125278935e-4,2.3915980075e-4,2.5181654875e-4,2.71065353e-4,2.8925942825e-4,0],\"fOption\":\"\",\"fFunctions\":{\"_typename\":\"TList\",\"name\":\"TList\",\"arr\":[],\"opt\":[]},\"fBufferSize\":0,\"fBuffer\":[],\"fBinStatErrOpt\":0,\"fStatOverflows\":2,\"fArray\":[0,0.5509854,0.5550935,0.4642038,0.4513663,0.4056648,0.4169618,0.3748548,0.4046378,0.4303128,0.4482853,0.4729333,0.4364748,0.4123403,0.3856384,0.3876923,0.4102863,0.4138808,0.4657443,0.4903923,0.5278779,0.5633096,0]},{\"_typename\":\"TLegend\",\"fUniqueID\":0,\"fBits\":50331656,\"fLineColor\":1,\"fLineStyle\":1,\"fLineWidth\":1,\"fFillColor\":0,\"fFillStyle\":1001,\"fX1\":1.570750023406,\"fY1\":0.554866960992031,\"fX2\":3.141500046812,\"fY2\":0.622090939501244,\"fX1NDC\":0.7,\"fY1NDC\":0.7,\"fX2NDC\":0.9,\"fY2NDC\":0.9,\"fBorderSize\":1,\"fInit\":1,\"fShadowColor\":1,\"fCornerRadius\":0,\"fOption\":\"brNDC\",\"fName\":\"TPave\",\"fTextAngle\":0,\"fTextSize\":0,\"fTextAlign\":12,\"fTextColor\":1,\"fTextFont\":42,\"fPrimitives\":{\"_typename\":\"TList\",\"name\":\"TList\",\"arr\":[{\"_typename\":\"TLegendEntry\",\"fUniqueID\":0,\"fBits\":50331656,\"fTextAngle\":0,\"fTextSize\":0,\"fTextAlign\":0,\"fTextColor\":0,\"fTextFont\":42,\"fLineColor\":2,\"fLineStyle\":1,\"fLineWidth\":1,\"fFillColor\":2,\"fFillStyle\":1001,\"fMarkerColor\":1,\"fMarkerStyle\":1,\"fMarkerSize\":1,\"fObject\":{\"$ref\":3},\"fLabel\":\"morphing\",\"fOption\":\"lpf\"},{\"_typename\":\"TLegendEntry\",\"fUniqueID\":0,\"fBits\":50331656,\"fTextAngle\":0,\"fTextSize\":0,\"fTextAlign\":0,\"fTextColor\":0,\"fTextFont\":42,\"fLineColor\":602,\"fLineStyle\":1,\"fLineWidth\":1,\"fFillColor\":0,\"fFillStyle\":1001,\"fMarkerColor\":1,\"fMarkerStyle\":1,\"fMarkerSize\":1,\"fObject\":{\"$ref\":8},\"fLabel\":\"v1\",\"fOption\":\"lpf\"}],\"opt\":[\"lpf\",\"lpf\"]},\"fEntrySeparation\":0.1,\"fMargin\":0.25,\"fNColumns\":1,\"fColumnSeparation\":0}],\"opt\":[\"\",\"E3\",\"SAME\",\"\"]},\"fExecs\":null,\"fName\":\"c1\",\"fTitle\":\"c1\",\"fNumPaletteColor\":0,\"fNextPaletteColor\":0,\"fDISPLAY\":\"$DISPLAY\",\"fDoubleBuffer\":0,\"fRetained\":true,\"fXsizeUser\":0,\"fYsizeUser\":0,\"fXsizeReal\":20,\"fYsizeReal\":14.28571,\"fWindowTopX\":0,\"fWindowTopY\":0,\"fWindowWidth\":0,\"fWindowHeight\":0,\"fCw\":696,\"fCh\":472,\"fCatt\":{\"_typename\":\"TAttCanvas\",\"fXBetween\":2,\"fYBetween\":2,\"fTitleFromTop\":1.2,\"fXdate\":0.2,\"fYdate\":0.3,\"fAdate\":1},\"kMoveOpaque\":true,\"kResizeOpaque\":true,\"fHighLightColor\":2,\"fBatch\":true,\"kShowEventStatus\":false,\"kAutoExec\":true,\"kMenuBar\":true});\n",
       "       Core.draw(\"root_plot_1\", obj, \"\");\n",
       "     }\n",
       " );\n",
       "</script>\n"
      ],
      "text/plain": [
       "<IPython.core.display.HTML object>"
      ]
     },
     "metadata": {},
     "output_type": "display_data"
    }
   ],
   "source": [
    "c1 = ROOT.TCanvas()\n",
    "ROOT.gStyle.SetOptStat(0)\n",
    "ROOT.gStyle.SetOptTitle(0)\n",
    "morphing.GetXaxis().SetTitle(observable)\n",
    "morphing.SetLineColor(2)\n",
    "morphing.SetFillColor(2)\n",
    "morphing.Draw(\"E3\")\n",
    "validation.Draw(\"SAME\")\n",
    "leg = ROOT.TLegend(0.7,0.7,0.9,0.9)\n",
    "leg.AddEntry(morphing)\n",
    "leg.AddEntry(validation)\n",
    "leg.Draw()\n",
    "c1.Draw()"
   ]
  },
  {
   "cell_type": "markdown",
   "metadata": {
    "collapsed": true
   },
   "source": [
    "## Playground \n",
    "\n",
    "In this naming scheme, we clearly differentiate between input samples (\"s1\",\"s2\",\"s3\") and validation samples (\"v0\", \"v1\").\n",
    "\n",
    "* Have a look at the attached txt file 'ggfhzz4l_2d.txt'. Can you identify the SM sample?\n",
    "* What do you expect to happen if you morph to one of the input samples? Try it by changing the call of \"setParameters\" accordingly!\n",
    "* The validation samples contain all the infomation to be used as input samples for the morphing instead. Try swapping the roles of validation and input samples!\n",
    "* The example we provided uses exactly three input samples. What does the code do when you give one input sample too few or too many in the list?\n",
    "* At its core, the morphing relies on a matrix inversion - providing two identical input samples is the same as having two identical lines in the matrix, which makes the matrix singular. How does the code handle this?\n",
    "* We have prepared an additional input called \"ggfhzz4l_2d_bad.root\" that uses a different set of input samples. What happens if you use that instead? \n",
    "\n",
    "As you have seen, 'bad input' means that the morphing is still working, but that the statistical error is very large. This can happen if the configuration of your input samples is not chosen very well. In the case of \"ggfhzz4l_2d_bad.root\", our input samples only cover the positive $\\kappa_{Azz}$ space and are furthermore by intention set, so that the statistical error of the morphing is large. "
   ]
  }
 ],
 "metadata": {
  "kernelspec": {
   "display_name": "Python 2",
   "language": "python",
   "name": "python2"
  },
  "language_info": {
   "codemirror_mode": {
    "name": "ipython",
    "version": 2
   },
   "file_extension": ".py",
   "mimetype": "text/x-python",
   "name": "python",
   "nbconvert_exporter": "python",
   "pygments_lexer": "ipython2",
   "version": "2.7.15"
  }
 },
 "nbformat": 4,
 "nbformat_minor": 1
}
